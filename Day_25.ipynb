{
 "cells": [
  {
   "cell_type": "code",
   "execution_count": 1,
   "id": "91c0c822",
   "metadata": {},
   "outputs": [
    {
     "name": "stdout",
     "output_type": "stream",
     "text": [
      "<class 'int'>\n",
      "<class 'str'>\n"
     ]
    }
   ],
   "source": [
    "num=1\n",
    "name=\"Sandeep\"\n",
    "print(type(num))\n",
    "print(type(name))"
   ]
  },
  {
   "cell_type": "code",
   "execution_count": 2,
   "id": "2436dc36",
   "metadata": {},
   "outputs": [
    {
     "name": "stdout",
     "output_type": "stream",
     "text": [
      "<__main__.Num object at 0x000002D48BBF5490>\n"
     ]
    }
   ],
   "source": [
    "class Num:\n",
    "    num=1\n",
    "    integer=12\n",
    "    ft=1.2\n",
    "num2=Num()\n",
    "num2.first=1\n",
    "print(num2)"
   ]
  },
  {
   "cell_type": "code",
   "execution_count": 3,
   "id": "27635e69",
   "metadata": {},
   "outputs": [
    {
     "name": "stdout",
     "output_type": "stream",
     "text": [
      "1\n"
     ]
    }
   ],
   "source": [
    "print(num2.first)"
   ]
  },
  {
   "cell_type": "code",
   "execution_count": 4,
   "id": "6f72a428",
   "metadata": {},
   "outputs": [
    {
     "data": {
      "text/plain": [
       "int"
      ]
     },
     "execution_count": 4,
     "metadata": {},
     "output_type": "execute_result"
    }
   ],
   "source": [
    "type(num2.first)"
   ]
  },
  {
   "cell_type": "code",
   "execution_count": 9,
   "id": "6f305c54",
   "metadata": {},
   "outputs": [
    {
     "name": "stdout",
     "output_type": "stream",
     "text": [
      "I'm in the init().\n",
      "7\n"
     ]
    }
   ],
   "source": [
    "class Students:\n",
    "    def __init__(self):\n",
    "        print(\"I'm in the init().\")\n",
    "        a=2\n",
    "        b=5\n",
    "        return print(a+b)\n",
    "st1=Students() #init() will be called whenever an object will be initialized"
   ]
  },
  {
   "cell_type": "code",
   "execution_count": null,
   "id": "8f0ef1c6",
   "metadata": {},
   "outputs": [],
   "source": [
    "#"
   ]
  }
 ],
 "metadata": {
  "kernelspec": {
   "display_name": "Python 3 (ipykernel)",
   "language": "python",
   "name": "python3"
  },
  "language_info": {
   "codemirror_mode": {
    "name": "ipython",
    "version": 3
   },
   "file_extension": ".py",
   "mimetype": "text/x-python",
   "name": "python",
   "nbconvert_exporter": "python",
   "pygments_lexer": "ipython3",
   "version": "3.9.12"
  }
 },
 "nbformat": 4,
 "nbformat_minor": 5
}
