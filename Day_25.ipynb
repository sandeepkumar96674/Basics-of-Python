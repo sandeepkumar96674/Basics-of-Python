{
 "cells": [
  {
   "cell_type": "code",
   "execution_count": 1,
   "id": "91c0c822",
   "metadata": {},
   "outputs": [
    {
     "name": "stdout",
     "output_type": "stream",
     "text": [
      "<class 'int'>\n",
      "<class 'str'>\n"
     ]
    }
   ],
   "source": [
    "num=1\n",
    "name=\"Sandeep\"\n",
    "print(type(num))\n",
    "print(type(name))"
   ]
  },
  {
   "cell_type": "code",
   "execution_count": 2,
   "id": "2436dc36",
   "metadata": {},
   "outputs": [
    {
     "name": "stdout",
     "output_type": "stream",
     "text": [
      "<__main__.Num object at 0x000002E855FB16A0>\n"
     ]
    }
   ],
   "source": [
    "class Num:\n",
    "    num=1\n",
    "    integer=12\n",
    "    ft=1.2\n",
    "num2=Num()\n",
    "num2.first=1\n",
    "print(num2)"
   ]
  },
  {
   "cell_type": "code",
   "execution_count": 3,
   "id": "27635e69",
   "metadata": {},
   "outputs": [
    {
     "name": "stdout",
     "output_type": "stream",
     "text": [
      "1\n"
     ]
    }
   ],
   "source": [
    "print(num2.first)"
   ]
  },
  {
   "cell_type": "code",
   "execution_count": 4,
   "id": "6f72a428",
   "metadata": {},
   "outputs": [
    {
     "data": {
      "text/plain": [
       "int"
      ]
     },
     "execution_count": 4,
     "metadata": {},
     "output_type": "execute_result"
    }
   ],
   "source": [
    "type(num2.first)"
   ]
  },
  {
   "cell_type": "code",
   "execution_count": 5,
   "id": "6f305c54",
   "metadata": {},
   "outputs": [
    {
     "name": "stdout",
     "output_type": "stream",
     "text": [
      "I'm in the init().\n",
      "7\n"
     ]
    }
   ],
   "source": [
    "class Students:\n",
    "    def __init__(self):\n",
    "        print(\"I'm in the init().\")\n",
    "        a=2\n",
    "        b=5\n",
    "        return print(a+b)\n",
    "st1=Students() #init() will be called whenever an object will be initialized"
   ]
  },
  {
   "cell_type": "markdown",
   "id": "f30f5897",
   "metadata": {},
   "source": [
    "> ### Duck Typing"
   ]
  },
  {
   "cell_type": "code",
   "execution_count": 2,
   "id": "2a43f0d0",
   "metadata": {},
   "outputs": [
    {
     "data": {
      "text/plain": [
       "30.25"
      ]
     },
     "execution_count": 2,
     "metadata": {},
     "output_type": "execute_result"
    }
   ],
   "source": [
    "# Static Typing\n",
    "def square(x):\n",
    "    return x**2\n",
    "square(5.5)"
   ]
  },
  {
   "cell_type": "code",
   "execution_count": 10,
   "id": "ac9854a3",
   "metadata": {},
   "outputs": [
    {
     "name": "stdout",
     "output_type": "stream",
     "text": [
      "I am a Duck and can Swim\n",
      "Quack Quack\n",
      "Information Displayed\n"
     ]
    }
   ],
   "source": [
    "class Duck:\n",
    "    def swim(self):\n",
    "        print(\"I am a Duck and can Swim\")\n",
    "    def speak(self):\n",
    "        print(\"Quack Quack\")\n",
    "class Dog:\n",
    "    def swim(self):\n",
    "        print(\"I am Dog and I can swim\")\n",
    "    def speak(self):\n",
    "        print(\"Woof Woof\")\n",
    "def display(obj):\n",
    "    obj.swim()\n",
    "    obj.speak()\n",
    "    print(\"Information Displayed\")\n",
    "    \n",
    "d=Duck()\n",
    "display(d)"
   ]
  },
  {
   "cell_type": "code",
   "execution_count": 11,
   "id": "2bb88323",
   "metadata": {},
   "outputs": [
    {
     "name": "stdout",
     "output_type": "stream",
     "text": [
      "I am Dog and I can swim\n",
      "Woof Woof\n",
      "Information Displayed\n"
     ]
    }
   ],
   "source": [
    "dog=Dog()\n",
    "display(dog)"
   ]
  },
  {
   "cell_type": "markdown",
   "id": "7aed011c",
   "metadata": {},
   "source": [
    "> ### Operator Overloading"
   ]
  },
  {
   "cell_type": "code",
   "execution_count": 13,
   "id": "de1c5e0f",
   "metadata": {},
   "outputs": [
    {
     "name": "stdout",
     "output_type": "stream",
     "text": [
      "3\n"
     ]
    }
   ],
   "source": [
    "print(1+2)"
   ]
  },
  {
   "cell_type": "code",
   "execution_count": 14,
   "id": "40b5f690",
   "metadata": {},
   "outputs": [
    {
     "name": "stdout",
     "output_type": "stream",
     "text": [
      "12\n"
     ]
    }
   ],
   "source": [
    "print(\"1\"+\"2\")"
   ]
  },
  {
   "cell_type": "code",
   "execution_count": 15,
   "id": "3ebe0bf9",
   "metadata": {},
   "outputs": [
    {
     "name": "stdout",
     "output_type": "stream",
     "text": [
      "3\n"
     ]
    }
   ],
   "source": [
    "print(1*3)"
   ]
  },
  {
   "cell_type": "code",
   "execution_count": 16,
   "id": "a1eed00f",
   "metadata": {},
   "outputs": [
    {
     "name": "stdout",
     "output_type": "stream",
     "text": [
      "111\n"
     ]
    }
   ],
   "source": [
    "print(\"1\"*3)"
   ]
  },
  {
   "cell_type": "code",
   "execution_count": 19,
   "id": "8cafb23c",
   "metadata": {},
   "outputs": [
    {
     "data": {
      "text/plain": [
       "3"
      ]
     },
     "execution_count": 19,
     "metadata": {},
     "output_type": "execute_result"
    }
   ],
   "source": [
    "int.__add__(1,2)"
   ]
  },
  {
   "cell_type": "code",
   "execution_count": 20,
   "id": "0cd27d19",
   "metadata": {},
   "outputs": [
    {
     "data": {
      "text/plain": [
       "'12'"
      ]
     },
     "execution_count": 20,
     "metadata": {},
     "output_type": "execute_result"
    }
   ],
   "source": [
    "str.__add__(\"1\",\"2\")"
   ]
  },
  {
   "cell_type": "code",
   "execution_count": 21,
   "id": "1f8d45af",
   "metadata": {},
   "outputs": [],
   "source": [
    "class ComplexNumber:\n",
    "    def __init__(self,r,i):\n",
    "        self.real=r\n",
    "        self.imaginary=i\n",
    "c1=ComplexNumber(1,2)\n",
    "c2=ComplexNumber(2,4)"
   ]
  },
  {
   "cell_type": "code",
   "execution_count": 22,
   "id": "ef523eb3",
   "metadata": {},
   "outputs": [
    {
     "ename": "TypeError",
     "evalue": "unsupported operand type(s) for +: 'ComplexNumber' and 'ComplexNumber'",
     "output_type": "error",
     "traceback": [
      "\u001b[1;31m---------------------------------------------------------------------------\u001b[0m",
      "\u001b[1;31mTypeError\u001b[0m                                 Traceback (most recent call last)",
      "Input \u001b[1;32mIn [22]\u001b[0m, in \u001b[0;36m<cell line: 1>\u001b[1;34m()\u001b[0m\n\u001b[1;32m----> 1\u001b[0m \u001b[38;5;28mprint\u001b[39m(\u001b[43mc1\u001b[49m\u001b[38;5;241;43m+\u001b[39;49m\u001b[43mc2\u001b[49m)\n",
      "\u001b[1;31mTypeError\u001b[0m: unsupported operand type(s) for +: 'ComplexNumber' and 'ComplexNumber'"
     ]
    }
   ],
   "source": [
    "print(c1+c2)"
   ]
  },
  {
   "cell_type": "code",
   "execution_count": null,
   "id": "70eb8ae8",
   "metadata": {},
   "outputs": [],
   "source": [
    "class ComplexNumber:\n",
    "    def __init__(self,r,i):\n",
    "        self.real=r\n",
    "        self.imaginary=i\n",
    "    def __add__(self,other):\n",
    "        \n",
    "c1=ComplexNumber(1,2)\n",
    "c2=ComplexNumber(2,4)"
   ]
  }
 ],
 "metadata": {
  "kernelspec": {
   "display_name": "Python 3 (ipykernel)",
   "language": "python",
   "name": "python3"
  },
  "language_info": {
   "codemirror_mode": {
    "name": "ipython",
    "version": 3
   },
   "file_extension": ".py",
   "mimetype": "text/x-python",
   "name": "python",
   "nbconvert_exporter": "python",
   "pygments_lexer": "ipython3",
   "version": "3.9.12"
  }
 },
 "nbformat": 4,
 "nbformat_minor": 5
}
