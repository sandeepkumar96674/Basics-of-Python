{
 "cells": [
  {
   "cell_type": "markdown",
   "id": "466502d9",
   "metadata": {},
   "source": [
    "> ### Password Generator  without suffle"
   ]
  },
  {
   "cell_type": "code",
   "execution_count": 3,
   "id": "9bf5c7e3",
   "metadata": {},
   "outputs": [
    {
     "name": "stdout",
     "output_type": "stream",
     "text": [
      "How many letters you want in your Password:\n",
      "3\n",
      "How many symbol you want in your Password:\n",
      "3\n",
      "How many numbers you want in your Password:\n",
      "3\n",
      "USp%$%700\n"
     ]
    }
   ],
   "source": [
    "import random\n",
    "letters=['a','b','c','d','e','f','g','h','i','j','k','l','m','n','o','p','q','r','s','t','u','v','w','x','y','z',\n",
    "         'A','B','C','D','E','F','G','H','I','J','K','L','M','N','O','P','Q','R','S','T','U','V','W','X','Y','Z']\n",
    "number=['1','2','3','4','5','6','7','8','9','0']\n",
    "symbol=['!','@','#','$','%','&','(',')']\n",
    "\n",
    "n_letters=int(input(\"How many letters you want in your Password:\\n\"))\n",
    "n_symbol=int(input(\"How many symbol you want in your Password:\\n\"))\n",
    "n_numbers=int(input(\"How many numbers you want in your Password:\\n\"))\n",
    "\n",
    "password=\"\"\n",
    "for i in range(1,n_letters+1):\n",
    "    char=random.choice(letters)\n",
    "    password=password+char\n",
    "    \n",
    "for i in range(1,n_symbol+1):\n",
    "    sym=random.choice(symbol)\n",
    "    password+=sym\n",
    "for i in range(1,n_numbers+1):\n",
    "    num=random.choice(number)\n",
    "    password+=num\n",
    "password_01=\"\"\n",
    "for char in password:\n",
    "    password_01+=char\n",
    "print(password_01)"
   ]
  },
  {
   "cell_type": "markdown",
   "id": "db4e6e66",
   "metadata": {},
   "source": [
    "> ### Password Generator with Suffle"
   ]
  },
  {
   "cell_type": "code",
   "execution_count": 6,
   "id": "da0433c4",
   "metadata": {},
   "outputs": [
    {
     "name": "stdout",
     "output_type": "stream",
     "text": [
      "How many letters you want in your Password:\n",
      "3\n",
      "How many symbol you want in your Password:\n",
      "3\n",
      "How many numbers you want in your Password:\n",
      "3\n",
      "08te#)#3A\n"
     ]
    }
   ],
   "source": [
    "import random\n",
    "letters=['a','b','c','d','e','f','g','h','i','j','k','l','m','n','o','p','q','r','s','t','u','v','w','x','y','z',\n",
    "         'A','B','C','D','E','F','G','H','I','J','K','L','M','N','O','P','Q','R','S','T','U','V','W','X','Y','Z']\n",
    "number=['1','2','3','4','5','6','7','8','9','0']\n",
    "symbol=['!','@','#','$','%','&','(',')']\n",
    "\n",
    "n_letters=int(input(\"How many letters you want in your Password:\\n\"))\n",
    "n_symbol=int(input(\"How many symbol you want in your Password:\\n\"))\n",
    "n_numbers=int(input(\"How many numbers you want in your Password:\\n\"))\n",
    "\n",
    "password=[]\n",
    "for i in range(1,n_letters+1):\n",
    "    char=random.choice(letters)\n",
    "    password+=char\n",
    "    \n",
    "for i in range(1,n_symbol+1):\n",
    "    sym=random.choice(symbol)\n",
    "    password+=sym\n",
    "for i in range(1,n_numbers+1):\n",
    "    num=random.choice(number)\n",
    "    password+=num\n",
    "random.shuffle(password)\n",
    "password_01=\"\"\n",
    "for char in password:\n",
    "    password_01+=char\n",
    "print(password_01)"
   ]
  },
  {
   "cell_type": "code",
   "execution_count": null,
   "id": "cac42ba6",
   "metadata": {},
   "outputs": [],
   "source": []
  }
 ],
 "metadata": {
  "kernelspec": {
   "display_name": "Python 3 (ipykernel)",
   "language": "python",
   "name": "python3"
  },
  "language_info": {
   "codemirror_mode": {
    "name": "ipython",
    "version": 3
   },
   "file_extension": ".py",
   "mimetype": "text/x-python",
   "name": "python",
   "nbconvert_exporter": "python",
   "pygments_lexer": "ipython3",
   "version": "3.9.12"
  }
 },
 "nbformat": 4,
 "nbformat_minor": 5
}
