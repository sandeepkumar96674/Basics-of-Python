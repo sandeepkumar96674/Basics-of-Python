{
 "cells": [
  {
   "cell_type": "markdown",
   "id": "8cd91c54",
   "metadata": {},
   "source": [
    "> ### Excercise with Global and Local Scope"
   ]
  },
  {
   "cell_type": "code",
   "execution_count": 1,
   "id": "8c3b6902",
   "metadata": {},
   "outputs": [
    {
     "name": "stdout",
     "output_type": "stream",
     "text": [
      "20\n",
      "10\n"
     ]
    }
   ],
   "source": [
    "a=10\n",
    "def display():\n",
    "    a=20\n",
    "    print(a)\n",
    "display()\n",
    "print(a)"
   ]
  },
  {
   "cell_type": "code",
   "execution_count": 3,
   "id": "2e689561",
   "metadata": {},
   "outputs": [
    {
     "ename": "UnboundLocalError",
     "evalue": "local variable 'a' referenced before assignment",
     "output_type": "error",
     "traceback": [
      "\u001b[1;31m---------------------------------------------------------------------------\u001b[0m",
      "\u001b[1;31mUnboundLocalError\u001b[0m                         Traceback (most recent call last)",
      "Input \u001b[1;32mIn [3]\u001b[0m, in \u001b[0;36m<cell line: 5>\u001b[1;34m()\u001b[0m\n\u001b[0;32m      3\u001b[0m     a\u001b[38;5;241m=\u001b[39ma\u001b[38;5;241m+\u001b[39m\u001b[38;5;241m1\u001b[39m\n\u001b[0;32m      4\u001b[0m     \u001b[38;5;28mprint\u001b[39m(a)\n\u001b[1;32m----> 5\u001b[0m \u001b[43mdisplay\u001b[49m\u001b[43m(\u001b[49m\u001b[43m)\u001b[49m\n",
      "Input \u001b[1;32mIn [3]\u001b[0m, in \u001b[0;36mdisplay\u001b[1;34m()\u001b[0m\n\u001b[0;32m      2\u001b[0m \u001b[38;5;28;01mdef\u001b[39;00m \u001b[38;5;21mdisplay\u001b[39m():\n\u001b[1;32m----> 3\u001b[0m     a\u001b[38;5;241m=\u001b[39m\u001b[43ma\u001b[49m\u001b[38;5;241m+\u001b[39m\u001b[38;5;241m1\u001b[39m\n\u001b[0;32m      4\u001b[0m     \u001b[38;5;28mprint\u001b[39m(a)\n",
      "\u001b[1;31mUnboundLocalError\u001b[0m: local variable 'a' referenced before assignment"
     ]
    }
   ],
   "source": [
    "a=10\n",
    "def display():\n",
    "    a=a+1\n",
    "    print(a)\n",
    "display()"
   ]
  },
  {
   "cell_type": "code",
   "execution_count": 4,
   "id": "79758649",
   "metadata": {},
   "outputs": [
    {
     "name": "stdout",
     "output_type": "stream",
     "text": [
      "11\n"
     ]
    }
   ],
   "source": [
    "a=10\n",
    "def display():\n",
    "    global a\n",
    "    a=a+1\n",
    "    print(a)\n",
    "display()"
   ]
  },
  {
   "cell_type": "code",
   "execution_count": 10,
   "id": "c7ec85e8",
   "metadata": {},
   "outputs": [
    {
     "name": "stdout",
     "output_type": "stream",
     "text": [
      "Sandeep\n"
     ]
    }
   ],
   "source": [
    "name=\"Sandeep\"\n",
    "def display():\n",
    "    global name\n",
    "    name= name + \"Classes\"\n",
    "print(name)\n",
    "display()"
   ]
  },
  {
   "cell_type": "code",
   "execution_count": 11,
   "id": "924e70c7",
   "metadata": {},
   "outputs": [
    {
     "name": "stdout",
     "output_type": "stream",
     "text": [
      "SandeepClasses\n"
     ]
    }
   ],
   "source": [
    "print(name)"
   ]
  },
  {
   "cell_type": "code",
   "execution_count": null,
   "id": "17df0906",
   "metadata": {},
   "outputs": [],
   "source": []
  }
 ],
 "metadata": {
  "kernelspec": {
   "display_name": "Python 3 (ipykernel)",
   "language": "python",
   "name": "python3"
  },
  "language_info": {
   "codemirror_mode": {
    "name": "ipython",
    "version": 3
   },
   "file_extension": ".py",
   "mimetype": "text/x-python",
   "name": "python",
   "nbconvert_exporter": "python",
   "pygments_lexer": "ipython3",
   "version": "3.9.12"
  }
 },
 "nbformat": 4,
 "nbformat_minor": 5
}
