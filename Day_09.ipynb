{
 "cells": [
  {
   "cell_type": "markdown",
   "id": "9f62d73f",
   "metadata": {},
   "source": [
    "> ### Working with Tuple"
   ]
  },
  {
   "cell_type": "code",
   "execution_count": 5,
   "id": "a23c8be4",
   "metadata": {},
   "outputs": [
    {
     "data": {
      "text/plain": [
       "(1, 2, 3, 4, 5, 5, 6, 5)"
      ]
     },
     "execution_count": 5,
     "metadata": {},
     "output_type": "execute_result"
    }
   ],
   "source": [
    "t1=(1,2,3,4,5,5,6,5)\n",
    "t1"
   ]
  },
  {
   "cell_type": "code",
   "execution_count": 6,
   "id": "b0cc3fd5",
   "metadata": {},
   "outputs": [
    {
     "data": {
      "text/plain": [
       "0"
      ]
     },
     "execution_count": 6,
     "metadata": {},
     "output_type": "execute_result"
    }
   ],
   "source": [
    "t1.index(1)"
   ]
  },
  {
   "cell_type": "code",
   "execution_count": 7,
   "id": "554e5917",
   "metadata": {},
   "outputs": [
    {
     "ename": "TypeError",
     "evalue": "'tuple' object does not support item assignment",
     "output_type": "error",
     "traceback": [
      "\u001b[1;31m---------------------------------------------------------------------------\u001b[0m",
      "\u001b[1;31mTypeError\u001b[0m                                 Traceback (most recent call last)",
      "Input \u001b[1;32mIn [7]\u001b[0m, in \u001b[0;36m<cell line: 1>\u001b[1;34m()\u001b[0m\n\u001b[1;32m----> 1\u001b[0m t1[\u001b[38;5;241m2\u001b[39m]\u001b[38;5;241m=\u001b[39m\u001b[38;5;124m\"\u001b[39m\u001b[38;5;124mSandeep\u001b[39m\u001b[38;5;124m\"\u001b[39m\n",
      "\u001b[1;31mTypeError\u001b[0m: 'tuple' object does not support item assignment"
     ]
    }
   ],
   "source": [
    "t1[2]=\"Sandeep\""
   ]
  },
  {
   "cell_type": "markdown",
   "id": "a1c2962d",
   "metadata": {},
   "source": [
    "> #### 👉 Tuples are immutable"
   ]
  },
  {
   "cell_type": "code",
   "execution_count": 8,
   "id": "dac71d49",
   "metadata": {},
   "outputs": [
    {
     "data": {
      "text/plain": [
       "(2, 4, 5, 5)"
      ]
     },
     "execution_count": 8,
     "metadata": {},
     "output_type": "execute_result"
    }
   ],
   "source": [
    "t1[1::2]"
   ]
  },
  {
   "cell_type": "code",
   "execution_count": 10,
   "id": "b9b5460c",
   "metadata": {},
   "outputs": [],
   "source": [
    "t2=(\"Sandeep\",1,34,True)"
   ]
  },
  {
   "cell_type": "code",
   "execution_count": 11,
   "id": "299cfd60",
   "metadata": {},
   "outputs": [],
   "source": [
    "t3=(t1,t2)"
   ]
  },
  {
   "cell_type": "code",
   "execution_count": 12,
   "id": "6e5a8119",
   "metadata": {},
   "outputs": [
    {
     "data": {
      "text/plain": [
       "((1, 2, 3, 4, 5, 5, 6, 5), ('Sandeep', 1, 34, True))"
      ]
     },
     "execution_count": 12,
     "metadata": {},
     "output_type": "execute_result"
    }
   ],
   "source": [
    "t3"
   ]
  },
  {
   "cell_type": "code",
   "execution_count": 13,
   "id": "2d22d8fc",
   "metadata": {},
   "outputs": [
    {
     "data": {
      "text/plain": [
       "('Sandeep', 1, 34, True)"
      ]
     },
     "execution_count": 13,
     "metadata": {},
     "output_type": "execute_result"
    }
   ],
   "source": [
    "t3[1]"
   ]
  },
  {
   "cell_type": "markdown",
   "id": "8a417a12",
   "metadata": {},
   "source": [
    "> ### Sets"
   ]
  },
  {
   "cell_type": "code",
   "execution_count": 1,
   "id": "7760b01d",
   "metadata": {},
   "outputs": [],
   "source": [
    "set1={1,2,3,4,5,6,6,7,8}"
   ]
  },
  {
   "cell_type": "code",
   "execution_count": 4,
   "id": "a1dfeef5",
   "metadata": {},
   "outputs": [
    {
     "data": {
      "text/plain": [
       "{1, 2, 3, 4, 5, 6, 7, 8}"
      ]
     },
     "execution_count": 4,
     "metadata": {},
     "output_type": "execute_result"
    }
   ],
   "source": [
    "set1"
   ]
  },
  {
   "cell_type": "code",
   "execution_count": 5,
   "id": "9f6d8caa",
   "metadata": {},
   "outputs": [
    {
     "ename": "TypeError",
     "evalue": "'set' object is not subscriptable",
     "output_type": "error",
     "traceback": [
      "\u001b[1;31m---------------------------------------------------------------------------\u001b[0m",
      "\u001b[1;31mTypeError\u001b[0m                                 Traceback (most recent call last)",
      "Input \u001b[1;32mIn [5]\u001b[0m, in \u001b[0;36m<cell line: 1>\u001b[1;34m()\u001b[0m\n\u001b[1;32m----> 1\u001b[0m \u001b[43mset1\u001b[49m\u001b[43m[\u001b[49m\u001b[38;5;241;43m1\u001b[39;49m\u001b[43m]\u001b[49m\n",
      "\u001b[1;31mTypeError\u001b[0m: 'set' object is not subscriptable"
     ]
    }
   ],
   "source": [
    "set1[1]"
   ]
  },
  {
   "cell_type": "markdown",
   "id": "2d6d131e",
   "metadata": {},
   "source": [
    "#### Items are not ordered"
   ]
  },
  {
   "cell_type": "code",
   "execution_count": 6,
   "id": "4c1f7770",
   "metadata": {},
   "outputs": [],
   "source": [
    "set2={}"
   ]
  },
  {
   "cell_type": "code",
   "execution_count": 7,
   "id": "bb4f9fa3",
   "metadata": {},
   "outputs": [
    {
     "name": "stdout",
     "output_type": "stream",
     "text": [
      "<class 'dict'>\n"
     ]
    }
   ],
   "source": [
    "print(type(set2))"
   ]
  },
  {
   "cell_type": "code",
   "execution_count": 8,
   "id": "c1942dc7",
   "metadata": {},
   "outputs": [],
   "source": [
    "set2=set()"
   ]
  },
  {
   "cell_type": "code",
   "execution_count": 9,
   "id": "4c991f84",
   "metadata": {},
   "outputs": [
    {
     "name": "stdout",
     "output_type": "stream",
     "text": [
      "<class 'set'>\n"
     ]
    }
   ],
   "source": [
    "print(type(set2))"
   ]
  },
  {
   "cell_type": "code",
   "execution_count": 10,
   "id": "2013af73",
   "metadata": {},
   "outputs": [
    {
     "name": "stdout",
     "output_type": "stream",
     "text": [
      "{1, 2, 3, 4, 5, 6, 7, 8, 'Sandeep'}\n"
     ]
    }
   ],
   "source": [
    "set1.add(\"Sandeep\")\n",
    "print(set1)"
   ]
  },
  {
   "cell_type": "code",
   "execution_count": 11,
   "id": "2844f256",
   "metadata": {},
   "outputs": [
    {
     "data": {
      "text/plain": [
       "9"
      ]
     },
     "execution_count": 11,
     "metadata": {},
     "output_type": "execute_result"
    }
   ],
   "source": [
    "len(set1)"
   ]
  },
  {
   "cell_type": "code",
   "execution_count": 12,
   "id": "01c99271",
   "metadata": {},
   "outputs": [],
   "source": [
    "set1.remove(5)"
   ]
  },
  {
   "cell_type": "code",
   "execution_count": 13,
   "id": "282e29ba",
   "metadata": {},
   "outputs": [
    {
     "name": "stdout",
     "output_type": "stream",
     "text": [
      "{1, 2, 3, 4, 6, 7, 8, 'Sandeep'}\n"
     ]
    }
   ],
   "source": [
    "print(set1)"
   ]
  },
  {
   "cell_type": "code",
   "execution_count": 14,
   "id": "1819cc03",
   "metadata": {},
   "outputs": [],
   "source": [
    "set1.discard(3)"
   ]
  },
  {
   "cell_type": "code",
   "execution_count": 15,
   "id": "a985ba18",
   "metadata": {},
   "outputs": [
    {
     "data": {
      "text/plain": [
       "{1, 2, 4, 6, 7, 8, 'Sandeep'}"
      ]
     },
     "execution_count": 15,
     "metadata": {},
     "output_type": "execute_result"
    }
   ],
   "source": [
    "set1"
   ]
  },
  {
   "cell_type": "code",
   "execution_count": 16,
   "id": "66377b3a",
   "metadata": {},
   "outputs": [
    {
     "name": "stdout",
     "output_type": "stream",
     "text": [
      "1\n"
     ]
    }
   ],
   "source": [
    "print(set1.pop())"
   ]
  },
  {
   "cell_type": "code",
   "execution_count": 17,
   "id": "e74cd03e",
   "metadata": {},
   "outputs": [
    {
     "data": {
      "text/plain": [
       "{2, 4, 6, 7, 8, 'Sandeep'}"
      ]
     },
     "execution_count": 17,
     "metadata": {},
     "output_type": "execute_result"
    }
   ],
   "source": [
    "set1"
   ]
  },
  {
   "cell_type": "code",
   "execution_count": null,
   "id": "0dbe98ed",
   "metadata": {},
   "outputs": [],
   "source": []
  }
 ],
 "metadata": {
  "kernelspec": {
   "display_name": "Python 3 (ipykernel)",
   "language": "python",
   "name": "python3"
  },
  "language_info": {
   "codemirror_mode": {
    "name": "ipython",
    "version": 3
   },
   "file_extension": ".py",
   "mimetype": "text/x-python",
   "name": "python",
   "nbconvert_exporter": "python",
   "pygments_lexer": "ipython3",
   "version": "3.9.12"
  }
 },
 "nbformat": 4,
 "nbformat_minor": 5
}
