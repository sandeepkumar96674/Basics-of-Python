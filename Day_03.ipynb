{
 "cells": [
  {
   "cell_type": "code",
   "execution_count": 1,
   "id": "50b830ce",
   "metadata": {},
   "outputs": [
    {
     "ename": "SyntaxError",
     "evalue": "invalid syntax (1625545733.py, line 2)",
     "output_type": "error",
     "traceback": [
      "\u001b[1;36m  Input \u001b[1;32mIn [1]\u001b[1;36m\u001b[0m\n\u001b[1;33m    print(\"Your name has\" +length+ \"character\")`b\u001b[0m\n\u001b[1;37m                                               ^\u001b[0m\n\u001b[1;31mSyntaxError\u001b[0m\u001b[1;31m:\u001b[0m invalid syntax\n"
     ]
    }
   ],
   "source": [
    "length=len(\"Sandeep Kumar\")\n",
    "print(\"Your name has\" +length+ \"character\")`b"
   ]
  },
  {
   "cell_type": "markdown",
   "id": "8afc2cac",
   "metadata": {},
   "source": [
    "> String can not concatinate with integer"
   ]
  },
  {
   "cell_type": "code",
   "execution_count": 3,
   "id": "84d138b9",
   "metadata": {},
   "outputs": [
    {
     "name": "stdout",
     "output_type": "stream",
     "text": [
      "Your name has 13 Character\n"
     ]
    }
   ],
   "source": [
    "length=len(\"Sandeep Kumar\")\n",
    "print(\"Your name has \"+str(length)+\" Character\")"
   ]
  },
  {
   "cell_type": "code",
   "execution_count": 4,
   "id": "57ef3ca9",
   "metadata": {},
   "outputs": [
    {
     "name": "stdout",
     "output_type": "stream",
     "text": [
      "<class 'int'>\n"
     ]
    }
   ],
   "source": [
    "print(type(length))"
   ]
  },
  {
   "cell_type": "code",
   "execution_count": 5,
   "id": "e0957765",
   "metadata": {},
   "outputs": [
    {
     "name": "stdout",
     "output_type": "stream",
     "text": [
      "1010\n"
     ]
    }
   ],
   "source": [
    "print(\"10\"+\"10\")"
   ]
  },
  {
   "cell_type": "code",
   "execution_count": 6,
   "id": "79a141e8",
   "metadata": {},
   "outputs": [
    {
     "name": "stdout",
     "output_type": "stream",
     "text": [
      "20\n"
     ]
    }
   ],
   "source": [
    "print(int(10)+int(10))"
   ]
  },
  {
   "cell_type": "code",
   "execution_count": 7,
   "id": "41705c6d",
   "metadata": {},
   "outputs": [
    {
     "ename": "ValueError",
     "evalue": "invalid literal for int() with base 10: 'Sandeep'",
     "output_type": "error",
     "traceback": [
      "\u001b[1;31m---------------------------------------------------------------------------\u001b[0m",
      "\u001b[1;31mValueError\u001b[0m                                Traceback (most recent call last)",
      "Input \u001b[1;32mIn [7]\u001b[0m, in \u001b[0;36m<cell line: 2>\u001b[1;34m()\u001b[0m\n\u001b[0;32m      1\u001b[0m name\u001b[38;5;241m=\u001b[39m\u001b[38;5;124m\"\u001b[39m\u001b[38;5;124mSandeep\u001b[39m\u001b[38;5;124m\"\u001b[39m\n\u001b[1;32m----> 2\u001b[0m \u001b[38;5;28mprint\u001b[39m(\u001b[38;5;241m10\u001b[39m\u001b[38;5;241m+\u001b[39m\u001b[38;5;28;43mint\u001b[39;49m\u001b[43m(\u001b[49m\u001b[43mname\u001b[49m\u001b[43m)\u001b[49m)\n",
      "\u001b[1;31mValueError\u001b[0m: invalid literal for int() with base 10: 'Sandeep'"
     ]
    }
   ],
   "source": [
    "name=\"Sandeep\"\n",
    "print(10+int(name))"
   ]
  },
  {
   "cell_type": "markdown",
   "id": "13f27e6d",
   "metadata": {},
   "source": [
    "> Here we tried to convert a String which haven't base 10(Can't convert into their respective binary number)"
   ]
  },
  {
   "cell_type": "code",
   "execution_count": 8,
   "id": "c7704fb8",
   "metadata": {},
   "outputs": [
    {
     "name": "stdout",
     "output_type": "stream",
     "text": [
      "133\n"
     ]
    }
   ],
   "source": [
    "name=\"123\"\n",
    "print(10+int(name))"
   ]
  },
  {
   "cell_type": "code",
   "execution_count": 9,
   "id": "70a4a85d",
   "metadata": {},
   "outputs": [
    {
     "name": "stdout",
     "output_type": "stream",
     "text": [
      "Enter a number: 12\n",
      "Enter a number: 45\n",
      "The sum of 12 and 45 is 57\n"
     ]
    }
   ],
   "source": [
    "a=int(input(\"Enter a number: \"))\n",
    "b=int(input(\"Enter a number: \"))\n",
    "print(\"The sum of\",a,\"and\",b,\"is\",a+b)"
   ]
  },
  {
   "cell_type": "markdown",
   "id": "ae453646",
   "metadata": {},
   "source": [
    "> ## Program to add digits of a number"
   ]
  },
  {
   "cell_type": "code",
   "execution_count": 10,
   "id": "9467d90c",
   "metadata": {},
   "outputs": [
    {
     "name": "stdout",
     "output_type": "stream",
     "text": [
      "Enter a two digit number: 35\n",
      "8\n"
     ]
    }
   ],
   "source": [
    "number=input(\"Enter a two digit number: \") #by-default the input will be string\n",
    "add=int(number[0])+int(number[1]) #converting the input by integer\n",
    "print(add)"
   ]
  },
  {
   "cell_type": "markdown",
   "id": "4188d25e",
   "metadata": {},
   "source": [
    "> ### Operator"
   ]
  },
  {
   "cell_type": "code",
   "execution_count": 11,
   "id": "5afbbc6f",
   "metadata": {},
   "outputs": [
    {
     "name": "stdout",
     "output_type": "stream",
     "text": [
      "2.5\n"
     ]
    }
   ],
   "source": [
    "print(5/2)"
   ]
  },
  {
   "cell_type": "code",
   "execution_count": 12,
   "id": "e7290ede",
   "metadata": {},
   "outputs": [
    {
     "name": "stdout",
     "output_type": "stream",
     "text": [
      "2.0\n"
     ]
    }
   ],
   "source": [
    "print(4/2)"
   ]
  },
  {
   "cell_type": "code",
   "execution_count": 13,
   "id": "8737219e",
   "metadata": {},
   "outputs": [
    {
     "name": "stdout",
     "output_type": "stream",
     "text": [
      "2\n"
     ]
    }
   ],
   "source": [
    "print(5//2)"
   ]
  },
  {
   "cell_type": "code",
   "execution_count": 14,
   "id": "a8bc0421",
   "metadata": {},
   "outputs": [
    {
     "name": "stdout",
     "output_type": "stream",
     "text": [
      "2\n"
     ]
    }
   ],
   "source": [
    "print(4//2)"
   ]
  },
  {
   "cell_type": "code",
   "execution_count": 15,
   "id": "17e7764a",
   "metadata": {},
   "outputs": [
    {
     "name": "stdout",
     "output_type": "stream",
     "text": [
      "6\n"
     ]
    }
   ],
   "source": [
    "print(2*3)"
   ]
  },
  {
   "cell_type": "code",
   "execution_count": 16,
   "id": "a27deea3",
   "metadata": {},
   "outputs": [
    {
     "name": "stdout",
     "output_type": "stream",
     "text": [
      "8\n"
     ]
    }
   ],
   "source": [
    "print(2**3)"
   ]
  },
  {
   "cell_type": "code",
   "execution_count": 17,
   "id": "a09cd4cd",
   "metadata": {},
   "outputs": [
    {
     "data": {
      "text/plain": [
       "512"
      ]
     },
     "execution_count": 17,
     "metadata": {},
     "output_type": "execute_result"
    }
   ],
   "source": [
    "2**3**2 # firstly 3**2 then 2**, because in exponentioal the associativity rule follow R->L approach"
   ]
  },
  {
   "cell_type": "code",
   "execution_count": 18,
   "id": "d91d4d44",
   "metadata": {},
   "outputs": [
    {
     "data": {
      "text/plain": [
       "512"
      ]
     },
     "execution_count": 18,
     "metadata": {},
     "output_type": "execute_result"
    }
   ],
   "source": [
    "2**9"
   ]
  },
  {
   "cell_type": "markdown",
   "id": "fcf57f7e",
   "metadata": {},
   "source": [
    "> ### Calculating BMI"
   ]
  },
  {
   "cell_type": "code",
   "execution_count": 19,
   "id": "f9720ffe",
   "metadata": {},
   "outputs": [
    {
     "name": "stdout",
     "output_type": "stream",
     "text": [
      "Enter your height(in meters) :1.6\n",
      "Enter your weight(in Kgs): 59\n",
      "0.0004596380350474002\n"
     ]
    }
   ],
   "source": [
    "weight=float(input(\"Enter your height(in meters) :\"))\n",
    "height=float(input(\"Enter your weight(in Kgs): \"))\n",
    "BMI= weight/(height**2)\n",
    "print(BMI)"
   ]
  },
  {
   "cell_type": "code",
   "execution_count": null,
   "id": "0e0d2ca5",
   "metadata": {},
   "outputs": [],
   "source": []
  }
 ],
 "metadata": {
  "kernelspec": {
   "display_name": "Python 3 (ipykernel)",
   "language": "python",
   "name": "python3"
  },
  "language_info": {
   "codemirror_mode": {
    "name": "ipython",
    "version": 3
   },
   "file_extension": ".py",
   "mimetype": "text/x-python",
   "name": "python",
   "nbconvert_exporter": "python",
   "pygments_lexer": "ipython3",
   "version": "3.9.12"
  }
 },
 "nbformat": 4,
 "nbformat_minor": 5
}
