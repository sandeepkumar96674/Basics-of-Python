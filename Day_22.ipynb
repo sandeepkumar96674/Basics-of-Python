{
 "cells": [
  {
   "cell_type": "markdown",
   "id": "b1aa4121",
   "metadata": {},
   "source": [
    "> ### Object Oriented Programming (OOP)"
   ]
  },
  {
   "cell_type": "code",
   "execution_count": 1,
   "id": "fcb2a868",
   "metadata": {},
   "outputs": [],
   "source": [
    "class People:\n",
    "    pass\n",
    "name=People()"
   ]
  },
  {
   "cell_type": "code",
   "execution_count": 2,
   "id": "9d258483",
   "metadata": {},
   "outputs": [
    {
     "name": "stdout",
     "output_type": "stream",
     "text": [
      "<class '__main__.People'>\n"
     ]
    }
   ],
   "source": [
    "print(type(name))"
   ]
  },
  {
   "cell_type": "code",
   "execution_count": 3,
   "id": "68c9952f",
   "metadata": {},
   "outputs": [],
   "source": [
    "name.name1=\"Sandeep\""
   ]
  },
  {
   "cell_type": "code",
   "execution_count": 4,
   "id": "7d4beee0",
   "metadata": {},
   "outputs": [
    {
     "name": "stdout",
     "output_type": "stream",
     "text": [
      "Sandeep\n"
     ]
    }
   ],
   "source": [
    "print(name.name1)"
   ]
  },
  {
   "cell_type": "code",
   "execution_count": 7,
   "id": "17e60752",
   "metadata": {},
   "outputs": [
    {
     "name": "stdout",
     "output_type": "stream",
     "text": [
      "Creating a new object\n",
      "Sandeep\n"
     ]
    }
   ],
   "source": [
    "class student:\n",
    "    def __init__(self):\n",
    "        print(\"Creating a new object\")\n",
    "        \n",
    "names=student()\n",
    "names.name1=\"Sandeep\"\n",
    "print(names.name1)"
   ]
  },
  {
   "cell_type": "code",
   "execution_count": 2,
   "id": "2806c223",
   "metadata": {},
   "outputs": [
    {
     "name": "stdout",
     "output_type": "stream",
     "text": [
      "Sandeep\n",
      "Bihar\n"
     ]
    }
   ],
   "source": [
    "class Student:\n",
    "    def __init__(self,name,address):\n",
    "        self.name=name\n",
    "        self.address=address\n",
    "student1=Student(\"Sandeep\",\"Bihar\")\n",
    "print(student1.name)\n",
    "print(student1.address)"
   ]
  },
  {
   "cell_type": "markdown",
   "id": "3d62e1a3",
   "metadata": {},
   "source": [
    "### Adding methods"
   ]
  },
  {
   "cell_type": "code",
   "execution_count": 5,
   "id": "d193a578",
   "metadata": {},
   "outputs": [
    {
     "name": "stdout",
     "output_type": "stream",
     "text": [
      "Sandeep\n"
     ]
    }
   ],
   "source": [
    "class Student:\n",
    "    def __init__(self,name,address):\n",
    "        self.name=name\n",
    "        self.address=address\n",
    "Student_1=Student(\"Sandeep\",\"Purnea\")\n",
    "print(student1.name)"
   ]
  },
  {
   "cell_type": "code",
   "execution_count": 8,
   "id": "2026a547",
   "metadata": {},
   "outputs": [
    {
     "name": "stdout",
     "output_type": "stream",
     "text": [
      "Purnea\n"
     ]
    }
   ],
   "source": [
    "print(Student_1.address)"
   ]
  },
  {
   "cell_type": "code",
   "execution_count": 10,
   "id": "47057a9f",
   "metadata": {},
   "outputs": [
    {
     "name": "stdout",
     "output_type": "stream",
     "text": [
      "Pandey\n"
     ]
    }
   ],
   "source": [
    "Student_2=Student(\"Pandey\",\"Darbhanga\")\n",
    "print(Student_2.name)"
   ]
  },
  {
   "cell_type": "code",
   "execution_count": 11,
   "id": "27ff7a61",
   "metadata": {},
   "outputs": [
    {
     "name": "stdout",
     "output_type": "stream",
     "text": [
      "Darbhanga\n"
     ]
    }
   ],
   "source": [
    "print(Student_2.address)"
   ]
  },
  {
   "cell_type": "code",
   "execution_count": 16,
   "id": "b520649b",
   "metadata": {},
   "outputs": [
    {
     "name": "stdout",
     "output_type": "stream",
     "text": [
      "Purnea\n",
      "Sandeep\n"
     ]
    }
   ],
   "source": [
    "class Student:\n",
    "    def __init__(self,name,address):\n",
    "        self.name=name\n",
    "        self.address=address\n",
    "    def display(self):\n",
    "        print(self.address)\n",
    "Student_1=Student(\"Sandeep\",\"Purnea\")\n",
    "Student_1.display()\n",
    "print(student1.name)"
   ]
  },
  {
   "cell_type": "markdown",
   "id": "98da1067",
   "metadata": {},
   "source": [
    "### Excercise"
   ]
  },
  {
   "cell_type": "code",
   "execution_count": 22,
   "id": "6ead00b4",
   "metadata": {},
   "outputs": [
    {
     "name": "stdout",
     "output_type": "stream",
     "text": [
      "31.400000000000002\n",
      "87.92\n"
     ]
    }
   ],
   "source": [
    "class Circle:\n",
    "    pie=3.14\n",
    "    def __init__(self,radius):\n",
    "        self.radius=radius\n",
    "    def get_circumference(self):\n",
    "        return 2*self.pie*self.radius\n",
    "circle_1=Circle(5)\n",
    "print(circle_1.get_circumference())\n",
    "circle_2=Circle(14)\n",
    "print(circle_2.get_circumference())"
   ]
  },
  {
   "cell_type": "markdown",
   "id": "3c66b02e",
   "metadata": {},
   "source": [
    "## Inheritance"
   ]
  },
  {
   "cell_type": "code",
   "execution_count": 24,
   "id": "7a0176a7",
   "metadata": {},
   "outputs": [
    {
     "name": "stdout",
     "output_type": "stream",
     "text": [
      "I can eat\n",
      "I can work\n",
      "I can swim\n"
     ]
    }
   ],
   "source": [
    "class Human:\n",
    "    def eat(self):\n",
    "        print(\"I can eat\")\n",
    "    def work(self):\n",
    "        print(\"I can work\")\n",
    "class Male(Human):\n",
    "    def swim(self):\n",
    "        print(\"I can swim\")\n",
    "male1=Male()\n",
    "male1.eat()\n",
    "male1.work()\n",
    "male1.swim()"
   ]
  },
  {
   "cell_type": "code",
   "execution_count": 27,
   "id": "da574633",
   "metadata": {},
   "outputs": [
    {
     "name": "stdout",
     "output_type": "stream",
     "text": [
      "I can work\n",
      "I also can work\n"
     ]
    }
   ],
   "source": [
    "class Human:\n",
    "    def eat(self):\n",
    "        print(\"I can eat\")\n",
    "    def work(self):\n",
    "        print(\"I can work\")\n",
    "class Male(Human):\n",
    "    def work(self):\n",
    "        super().work()\n",
    "        print(\"I also can work\")\n",
    "male1=Male()\n",
    "male1.work()"
   ]
  },
  {
   "cell_type": "code",
   "execution_count": null,
   "id": "afd6ab85",
   "metadata": {},
   "outputs": [],
   "source": []
  }
 ],
 "metadata": {
  "kernelspec": {
   "display_name": "Python 3 (ipykernel)",
   "language": "python",
   "name": "python3"
  },
  "language_info": {
   "codemirror_mode": {
    "name": "ipython",
    "version": 3
   },
   "file_extension": ".py",
   "mimetype": "text/x-python",
   "name": "python",
   "nbconvert_exporter": "python",
   "pygments_lexer": "ipython3",
   "version": "3.9.12"
  }
 },
 "nbformat": 4,
 "nbformat_minor": 5
}
