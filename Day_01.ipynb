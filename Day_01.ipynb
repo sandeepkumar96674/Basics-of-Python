{
 "cells": [
  {
   "cell_type": "markdown",
   "id": "0e311459",
   "metadata": {},
   "source": [
    "> ### Practice with print()"
   ]
  },
  {
   "cell_type": "code",
   "execution_count": 1,
   "id": "4af1b2a4",
   "metadata": {},
   "outputs": [
    {
     "name": "stdout",
     "output_type": "stream",
     "text": [
      "Day_01\n"
     ]
    }
   ],
   "source": [
    "print(\"Day_01\")"
   ]
  },
  {
   "cell_type": "code",
   "execution_count": 1,
   "id": "0bd29946",
   "metadata": {},
   "outputs": [
    {
     "name": "stdout",
     "output_type": "stream",
     "text": [
      "First Program- Python print function\n"
     ]
    }
   ],
   "source": [
    "print(\"First Program- Python print function\")"
   ]
  },
  {
   "cell_type": "code",
   "execution_count": 2,
   "id": "be0a374a",
   "metadata": {},
   "outputs": [
    {
     "name": "stdout",
     "output_type": "stream",
     "text": [
      "It is declared like this:\n"
     ]
    }
   ],
   "source": [
    "print(\"It is declared like this:\")"
   ]
  },
  {
   "cell_type": "code",
   "execution_count": 3,
   "id": "5ad16e1c",
   "metadata": {},
   "outputs": [
    {
     "name": "stdout",
     "output_type": "stream",
     "text": [
      "print('What to Print')\n"
     ]
    }
   ],
   "source": [
    "print(\"print('What to Print')\")"
   ]
  },
  {
   "cell_type": "markdown",
   "id": "3c65b3b3",
   "metadata": {},
   "source": [
    "> ### String Manipulation "
   ]
  },
  {
   "cell_type": "code",
   "execution_count": 4,
   "id": "877977dd",
   "metadata": {
    "scrolled": true
   },
   "outputs": [
    {
     "name": "stdout",
     "output_type": "stream",
     "text": [
      "First Program- Python print function\n",
      "It is declared like this:\n",
      "print('What to Print')\n"
     ]
    }
   ],
   "source": [
    "print(\"First Program- Python print function\")\n",
    "print(\"It is declared like this:\")\n",
    "print(\"print('What to Print')\")"
   ]
  },
  {
   "cell_type": "code",
   "execution_count": 8,
   "id": "de6b510b",
   "metadata": {},
   "outputs": [
    {
     "name": "stdout",
     "output_type": "stream",
     "text": [
      "First Program- Python print function \n",
      "It is declared like this: \n",
      "print('What to Print')\n"
     ]
    }
   ],
   "source": [
    "print(\"First Program- Python print function \\nIt is declared like this: \\nprint('What to Print')\")"
   ]
  },
  {
   "cell_type": "code",
   "execution_count": 9,
   "id": "8bb3e112",
   "metadata": {},
   "outputs": [
    {
     "name": "stdout",
     "output_type": "stream",
     "text": [
      "hello Sandeep\n"
     ]
    }
   ],
   "source": [
    "print(\"hello \"+\"Sandeep\")"
   ]
  },
  {
   "cell_type": "code",
   "execution_count": 10,
   "id": "65be388f",
   "metadata": {},
   "outputs": [
    {
     "name": "stdout",
     "output_type": "stream",
     "text": [
      "hello Sandeep\n"
     ]
    }
   ],
   "source": [
    "print(\"hello\"+\" Sandeep\")"
   ]
  },
  {
   "cell_type": "code",
   "execution_count": 12,
   "id": "d02c519f",
   "metadata": {},
   "outputs": [
    {
     "name": "stdout",
     "output_type": "stream",
     "text": [
      "hello Sandeep\n"
     ]
    }
   ],
   "source": [
    "print(\"hello\"+\" \"+\"Sandeep\")"
   ]
  },
  {
   "cell_type": "markdown",
   "id": "8b1f97d9",
   "metadata": {},
   "source": [
    "> ### Excercise Day_01"
   ]
  },
  {
   "cell_type": "code",
   "execution_count": 13,
   "id": "72a6a857",
   "metadata": {},
   "outputs": [
    {
     "name": "stdout",
     "output_type": "stream",
     "text": [
      "String Manipulation Exercise\n",
      "String Concatination is done with\"+\" Sign\n",
      "e.g print(\"Hello\"+\"Sandeep\")\n",
      "New Lines can be created with a backslash and n\n"
     ]
    }
   ],
   "source": [
    "print(\"String Manipulation Exercise\")\n",
    "print('String Concatination is done with\"+\" Sign')\n",
    "print('e.g print(\"Hello\"+\"Sandeep\")')\n",
    "print(\"New Lines can be created with a backslash and n\")"
   ]
  }
 ],
 "metadata": {
  "kernelspec": {
   "display_name": "Python 3 (ipykernel)",
   "language": "python",
   "name": "python3"
  },
  "language_info": {
   "codemirror_mode": {
    "name": "ipython",
    "version": 3
   },
   "file_extension": ".py",
   "mimetype": "text/x-python",
   "name": "python",
   "nbconvert_exporter": "python",
   "pygments_lexer": "ipython3",
   "version": "3.9.12"
  }
 },
 "nbformat": 4,
 "nbformat_minor": 5
}
