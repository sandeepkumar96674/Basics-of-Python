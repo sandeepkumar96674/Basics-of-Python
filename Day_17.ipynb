{
 "cells": [
  {
   "cell_type": "markdown",
   "id": "d584f01f",
   "metadata": {},
   "source": [
    "> ### `*args` and `**kwargs`"
   ]
  },
  {
   "cell_type": "code",
   "execution_count": 7,
   "id": "93492bda",
   "metadata": {},
   "outputs": [
    {
     "data": {
      "text/plain": [
       "204"
      ]
     },
     "execution_count": 7,
     "metadata": {},
     "output_type": "execute_result"
    }
   ],
   "source": [
    "def add(*num):\n",
    "    c=0\n",
    "    for i in num:\n",
    "        c+=i\n",
    "    return c\n",
    "add(42,5,26,62,1,5,7,53,3)"
   ]
  },
  {
   "cell_type": "code",
   "execution_count": 8,
   "id": "8068518e",
   "metadata": {},
   "outputs": [
    {
     "data": {
      "text/plain": [
       "2883"
      ]
     },
     "execution_count": 8,
     "metadata": {},
     "output_type": "execute_result"
    }
   ],
   "source": [
    "add(12,24,262,26,43,2441,75)"
   ]
  },
  {
   "cell_type": "code",
   "execution_count": 10,
   "id": "9d1edd82",
   "metadata": {},
   "outputs": [
    {
     "name": "stdout",
     "output_type": "stream",
     "text": [
      "(1, 2, 3, 4, 5)\n",
      "Sandeep\n"
     ]
    }
   ],
   "source": [
    "def fun(*num,name):\n",
    "    print(num)\n",
    "    print(name)\n",
    "fun(1,2,3,4,5,name=\"Sandeep\")"
   ]
  },
  {
   "cell_type": "code",
   "execution_count": 11,
   "id": "c4b1c932",
   "metadata": {},
   "outputs": [
    {
     "name": "stdout",
     "output_type": "stream",
     "text": [
      "Sandeep\n"
     ]
    },
    {
     "data": {
      "text/plain": [
       "58"
      ]
     },
     "execution_count": 11,
     "metadata": {},
     "output_type": "execute_result"
    }
   ],
   "source": [
    "def fun(*num,name):\n",
    "    c=0\n",
    "    print(name)\n",
    "    for i in num:\n",
    "        c+=i\n",
    "    return c\n",
    "fun(1,3,5,6,8,9,4,3,1,4,6,8,name=\"Sandeep\")"
   ]
  },
  {
   "cell_type": "code",
   "execution_count": 12,
   "id": "a321dee4",
   "metadata": {},
   "outputs": [
    {
     "ename": "SyntaxError",
     "evalue": "positional argument follows keyword argument (3066616510.py, line 7)",
     "output_type": "error",
     "traceback": [
      "\u001b[1;36m  Input \u001b[1;32mIn [12]\u001b[1;36m\u001b[0m\n\u001b[1;33m    fun(name=\"Sandeep\",1,3,5,6,8,9,4,3,1,4,6,8)\u001b[0m\n\u001b[1;37m                                              ^\u001b[0m\n\u001b[1;31mSyntaxError\u001b[0m\u001b[1;31m:\u001b[0m positional argument follows keyword argument\n"
     ]
    }
   ],
   "source": [
    "def fun(*num,name):\n",
    "    c=0\n",
    "    print(name)\n",
    "    for i in num:\n",
    "        c+=i\n",
    "    return c\n",
    "fun(name=\"Sandeep\",1,3,5,6,8,9,4,3,1,4,6,8) #here we pass keyword argument before positional argument"
   ]
  },
  {
   "cell_type": "code",
   "execution_count": 16,
   "id": "f8067838",
   "metadata": {},
   "outputs": [
    {
     "name": "stdout",
     "output_type": "stream",
     "text": [
      "Sandeep\n"
     ]
    },
    {
     "data": {
      "text/plain": [
       "57"
      ]
     },
     "execution_count": 16,
     "metadata": {},
     "output_type": "execute_result"
    }
   ],
   "source": [
    "def fun(name,*num):\n",
    "    c=0\n",
    "    print(name)\n",
    "    for i in num:\n",
    "        c+=i\n",
    "    return c\n",
    "fun(\"Sandeep\",3,5,6,8,9,4,3,1,4,6,8) #now it will work properly"
   ]
  },
  {
   "cell_type": "code",
   "execution_count": 23,
   "id": "04208290",
   "metadata": {},
   "outputs": [
    {
     "name": "stdout",
     "output_type": "stream",
     "text": [
      "name Sandeep\n",
      "dep CSE\n",
      "Age 20\n",
      "\n",
      "\n",
      "name Shyam\n",
      "dep CE\n"
     ]
    }
   ],
   "source": [
    "def info(**kwargs):\n",
    "    for key,value in kwargs.items():\n",
    "        print(key,value)\n",
    "info(name=\"Sandeep\",dep=\"CSE\",Age=20)\n",
    "print(\"\\n\")\n",
    "info(name=\"Shyam\",dep=\"CE\")"
   ]
  },
  {
   "cell_type": "code",
   "execution_count": 24,
   "id": "5bd7cfcf",
   "metadata": {},
   "outputs": [
    {
     "ename": "SyntaxError",
     "evalue": "invalid syntax (3145315210.py, line 1)",
     "output_type": "error",
     "traceback": [
      "\u001b[1;36m  Input \u001b[1;32mIn [24]\u001b[1;36m\u001b[0m\n\u001b[1;33m    def info(**kwargs,*args):\u001b[0m\n\u001b[1;37m                      ^\u001b[0m\n\u001b[1;31mSyntaxError\u001b[0m\u001b[1;31m:\u001b[0m invalid syntax\n"
     ]
    }
   ],
   "source": [
    "def info(**kwargs,*args): #here *args follow **kwargs which leads to invalid syntax\n",
    "    for key,value in kwargs.items():\n",
    "        print(key,value)\n",
    "info(name=\"Sandeep\",dep=\"CSE\",Age=20,1,3,5)\n",
    "print(\"\\n\")\n",
    "info(name=\"Shyam\",dep=\"CE\")"
   ]
  },
  {
   "cell_type": "code",
   "execution_count": 27,
   "id": "9062126b",
   "metadata": {},
   "outputs": [
    {
     "name": "stdout",
     "output_type": "stream",
     "text": [
      "name Sandeep\n",
      "dep CSE\n",
      "Age 20\n",
      "1 3 5 \n",
      "\n",
      "name Shyam\n",
      "dep CE\n"
     ]
    }
   ],
   "source": [
    "def info(*args,**kwargs):\n",
    "    for key,value in kwargs.items():\n",
    "        print(key,value)\n",
    "    for i in args:\n",
    "        print(i,end=\" \")\n",
    "info(1,3,5,name=\"Sandeep\",dep=\"CSE\",Age=20)\n",
    "print(\"\\n\")\n",
    "info(name=\"Shyam\",dep=\"CE\")"
   ]
  },
  {
   "cell_type": "code",
   "execution_count": 31,
   "id": "261d5bf2",
   "metadata": {},
   "outputs": [
    {
     "data": {
      "text/plain": [
       "945"
      ]
     },
     "execution_count": 31,
     "metadata": {},
     "output_type": "execute_result"
    }
   ],
   "source": [
    "def multi(*args):\n",
    "    c=1\n",
    "    for i in args:\n",
    "        c*=i\n",
    "    return c\n",
    "multi(1,3,5,7,9)"
   ]
  },
  {
   "cell_type": "code",
   "execution_count": 32,
   "id": "ca5944f3",
   "metadata": {},
   "outputs": [
    {
     "data": {
      "text/plain": [
       "2400"
      ]
     },
     "execution_count": 32,
     "metadata": {},
     "output_type": "execute_result"
    }
   ],
   "source": [
    "multi(2,4,6,10,5)"
   ]
  },
  {
   "cell_type": "code",
   "execution_count": 17,
   "id": "b1219144",
   "metadata": {},
   "outputs": [
    {
     "name": "stdout",
     "output_type": "stream",
     "text": [
      "Enter the height of the Wall in meter:6\n",
      "Enter the weidth of the Wall in meter:9\n",
      "You will need 8 cans of Colour to paint the Wall\n"
     ]
    }
   ],
   "source": [
    "import math\n",
    "def painting(height,width,coverage):\n",
    "    area=height*width\n",
    "    num_of_cans=math.ceil(area/coverage)\n",
    "    print(f\"You will need {num_of_cans} cans of Colour to paint the Wall\")\n",
    "h=int(input(\"Enter the height of the Wall in meter:\"))\n",
    "w=int(input(\"Enter the weidth of the Wall in meter:\"))\n",
    "cover=7\n",
    "painting(width=w,height=h,coverage=cover)"
   ]
  },
  {
   "cell_type": "code",
   "execution_count": 53,
   "id": "8756925f",
   "metadata": {},
   "outputs": [
    {
     "name": "stdout",
     "output_type": "stream",
     "text": [
      "Enter a number:999\n",
      "It is not a Prime Number\n"
     ]
    }
   ],
   "source": [
    "#Basic Approach:\n",
    "\n",
    "def check_prime(number):\n",
    "    is_prime=True\n",
    "    if number==1:\n",
    "        is_prime=False\n",
    "    for i in range(2,number):\n",
    "        if number%i==0:\n",
    "            is_prime=False\n",
    "    if is_prime==True:\n",
    "        print(\"It is a Prime Number\")\n",
    "    else:\n",
    "        print(\"It is not a Prime Number\")\n",
    "n=int(input(\"Enter a number:\"))\n",
    "check_prime(n)"
   ]
  },
  {
   "cell_type": "code",
   "execution_count": 56,
   "id": "d7fafa72",
   "metadata": {},
   "outputs": [
    {
     "name": "stdout",
     "output_type": "stream",
     "text": [
      "Enter a number:4\n",
      "It is not a Prime Number\n"
     ]
    }
   ],
   "source": [
    "#Advanced Approach:\n",
    "\n",
    "import math\n",
    "def check_prime(number):\n",
    "    is_prime=True\n",
    "    if number==1:\n",
    "        is_prime=False\n",
    "    for i in range(2,math.ceil(number/2)+1):\n",
    "        if number%i==0:\n",
    "            is_prime=False\n",
    "    if is_prime==True:\n",
    "        print(\"It is a Prime Number\")\n",
    "    else:\n",
    "        print(\"It is not a Prime Number\")\n",
    "n=int(input(\"Enter a number:\"))\n",
    "check_prime(n)"
   ]
  },
  {
   "cell_type": "code",
   "execution_count": null,
   "id": "52ff443f",
   "metadata": {},
   "outputs": [],
   "source": []
  }
 ],
 "metadata": {
  "kernelspec": {
   "display_name": "Python 3 (ipykernel)",
   "language": "python",
   "name": "python3"
  },
  "language_info": {
   "codemirror_mode": {
    "name": "ipython",
    "version": 3
   },
   "file_extension": ".py",
   "mimetype": "text/x-python",
   "name": "python",
   "nbconvert_exporter": "python",
   "pygments_lexer": "ipython3",
   "version": "3.9.12"
  }
 },
 "nbformat": 4,
 "nbformat_minor": 5
}
