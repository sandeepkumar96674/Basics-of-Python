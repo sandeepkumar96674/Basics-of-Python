{
 "cells": [
  {
   "cell_type": "markdown",
   "id": "40301f98",
   "metadata": {},
   "source": [
    "> ### Logical Operator"
   ]
  },
  {
   "cell_type": "code",
   "execution_count": 2,
   "id": "eebe7e82",
   "metadata": {},
   "outputs": [
    {
     "name": "stdout",
     "output_type": "stream",
     "text": [
      "False\n"
     ]
    }
   ],
   "source": [
    "a,b=5,4\n",
    "print(a<3 and b>3)"
   ]
  },
  {
   "cell_type": "code",
   "execution_count": 3,
   "id": "8d80d25d",
   "metadata": {},
   "outputs": [
    {
     "name": "stdout",
     "output_type": "stream",
     "text": [
      "True\n"
     ]
    }
   ],
   "source": [
    "print(a>3 and b>3)"
   ]
  },
  {
   "cell_type": "code",
   "execution_count": 4,
   "id": "74f044ff",
   "metadata": {},
   "outputs": [
    {
     "name": "stdout",
     "output_type": "stream",
     "text": [
      "False\n"
     ]
    }
   ],
   "source": [
    "c=True\n",
    "print(not(c))"
   ]
  },
  {
   "cell_type": "code",
   "execution_count": 5,
   "id": "4fd641d4",
   "metadata": {},
   "outputs": [
    {
     "name": "stdout",
     "output_type": "stream",
     "text": [
      "True\n"
     ]
    }
   ],
   "source": [
    "a,b=5,4\n",
    "print(a<3 or b>3)"
   ]
  },
  {
   "cell_type": "markdown",
   "id": "bc15d35f",
   "metadata": {},
   "source": [
    "> ### Bitwise Operator"
   ]
  },
  {
   "cell_type": "code",
   "execution_count": 1,
   "id": "946e0cf2",
   "metadata": {},
   "outputs": [
    {
     "name": "stdout",
     "output_type": "stream",
     "text": [
      "4\n"
     ]
    }
   ],
   "source": [
    "a,b=5,4\n",
    "#Bitwise and\n",
    "print(a&b)"
   ]
  },
  {
   "cell_type": "code",
   "execution_count": 2,
   "id": "4b919d07",
   "metadata": {},
   "outputs": [
    {
     "name": "stdout",
     "output_type": "stream",
     "text": [
      "5\n"
     ]
    }
   ],
   "source": [
    "#Bitwise or\n",
    "print(a|b)"
   ]
  },
  {
   "cell_type": "code",
   "execution_count": 3,
   "id": "e68b61be",
   "metadata": {},
   "outputs": [
    {
     "name": "stdout",
     "output_type": "stream",
     "text": [
      "1\n"
     ]
    }
   ],
   "source": [
    "# EXOR\n",
    "print(a^b)"
   ]
  },
  {
   "cell_type": "code",
   "execution_count": 4,
   "id": "c31e0729",
   "metadata": {},
   "outputs": [
    {
     "name": "stdout",
     "output_type": "stream",
     "text": [
      "-6\n"
     ]
    }
   ],
   "source": [
    "print(~a)"
   ]
  },
  {
   "cell_type": "code",
   "execution_count": 5,
   "id": "53278265",
   "metadata": {},
   "outputs": [
    {
     "name": "stdout",
     "output_type": "stream",
     "text": [
      "-5\n"
     ]
    }
   ],
   "source": [
    "print(~b)"
   ]
  },
  {
   "cell_type": "code",
   "execution_count": 6,
   "id": "81b361ca",
   "metadata": {},
   "outputs": [
    {
     "name": "stdout",
     "output_type": "stream",
     "text": [
      "20\n"
     ]
    }
   ],
   "source": [
    "print(a<<2)"
   ]
  },
  {
   "cell_type": "code",
   "execution_count": 7,
   "id": "cb7c54f9",
   "metadata": {},
   "outputs": [
    {
     "name": "stdout",
     "output_type": "stream",
     "text": [
      "0\n"
     ]
    }
   ],
   "source": [
    "print(a>>3)"
   ]
  },
  {
   "cell_type": "code",
   "execution_count": 8,
   "id": "d4b2d8f7",
   "metadata": {},
   "outputs": [
    {
     "name": "stdout",
     "output_type": "stream",
     "text": [
      "1\n"
     ]
    }
   ],
   "source": [
    "print(a>>2)"
   ]
  },
  {
   "cell_type": "markdown",
   "id": "cbff2dc1",
   "metadata": {},
   "source": [
    "> ### Excercise\n",
    "**Hints**\n",
    "\n",
    "* `~a=-(a+1)`\n",
    "* In Left shift,\n",
    "  `X<<N= X*2^N`\n",
    "        \n",
    "* In Right Shift,\n",
    "  `X>>N= X/2^N`\n"
   ]
  },
  {
   "cell_type": "code",
   "execution_count": 11,
   "id": "5b5ce06f",
   "metadata": {},
   "outputs": [
    {
     "name": "stdout",
     "output_type": "stream",
     "text": [
      "18\n"
     ]
    }
   ],
   "source": [
    "print(26 & 23)"
   ]
  },
  {
   "cell_type": "code",
   "execution_count": 12,
   "id": "c45f7c79",
   "metadata": {},
   "outputs": [
    {
     "name": "stdout",
     "output_type": "stream",
     "text": [
      "25\n"
     ]
    }
   ],
   "source": [
    "print(17 | 24)"
   ]
  },
  {
   "cell_type": "code",
   "execution_count": 13,
   "id": "5a31065a",
   "metadata": {},
   "outputs": [
    {
     "name": "stdout",
     "output_type": "stream",
     "text": [
      "9\n"
     ]
    }
   ],
   "source": [
    "print(17 ^ 24)"
   ]
  },
  {
   "cell_type": "code",
   "execution_count": 14,
   "id": "8b5926f5",
   "metadata": {},
   "outputs": [
    {
     "name": "stdout",
     "output_type": "stream",
     "text": [
      "-46\n"
     ]
    }
   ],
   "source": [
    "print(~45)"
   ]
  },
  {
   "cell_type": "code",
   "execution_count": 15,
   "id": "671e0d61",
   "metadata": {},
   "outputs": [
    {
     "name": "stdout",
     "output_type": "stream",
     "text": [
      "272\n"
     ]
    }
   ],
   "source": [
    "print(68<<2)"
   ]
  },
  {
   "cell_type": "code",
   "execution_count": 16,
   "id": "8ef3dabe",
   "metadata": {},
   "outputs": [
    {
     "name": "stdout",
     "output_type": "stream",
     "text": [
      "7\n"
     ]
    }
   ],
   "source": [
    "print(56>>3)"
   ]
  },
  {
   "cell_type": "markdown",
   "id": "1df3a77a",
   "metadata": {},
   "source": [
    "> ### Identity Operator\n",
    "\n",
    "> `is` and \n",
    "`is not`"
   ]
  },
  {
   "cell_type": "code",
   "execution_count": 18,
   "id": "bd109698",
   "metadata": {},
   "outputs": [
    {
     "name": "stdout",
     "output_type": "stream",
     "text": [
      "2268611111504\n"
     ]
    }
   ],
   "source": [
    "a=10\n",
    "b=10\n",
    "print(id(a))"
   ]
  },
  {
   "cell_type": "code",
   "execution_count": 19,
   "id": "e59f9c10",
   "metadata": {},
   "outputs": [
    {
     "name": "stdout",
     "output_type": "stream",
     "text": [
      "2268611111504\n"
     ]
    }
   ],
   "source": [
    "print(id(b))"
   ]
  },
  {
   "cell_type": "code",
   "execution_count": 20,
   "id": "724db9f8",
   "metadata": {},
   "outputs": [
    {
     "name": "stdout",
     "output_type": "stream",
     "text": [
      "True\n"
     ]
    }
   ],
   "source": [
    "print(a is b)"
   ]
  },
  {
   "cell_type": "code",
   "execution_count": 21,
   "id": "fd3f5ac5",
   "metadata": {},
   "outputs": [
    {
     "name": "stdout",
     "output_type": "stream",
     "text": [
      "False\n"
     ]
    }
   ],
   "source": [
    "a=10\n",
    "b='10'\n",
    "print(a is b)"
   ]
  },
  {
   "cell_type": "code",
   "execution_count": 23,
   "id": "417075c0",
   "metadata": {},
   "outputs": [
    {
     "name": "stdout",
     "output_type": "stream",
     "text": [
      "2268611111504\n",
      "2268624603632\n"
     ]
    }
   ],
   "source": [
    "print(id(a))\n",
    "print(id(b))"
   ]
  },
  {
   "cell_type": "code",
   "execution_count": 22,
   "id": "b430a1b8",
   "metadata": {},
   "outputs": [
    {
     "name": "stdout",
     "output_type": "stream",
     "text": [
      "True\n"
     ]
    }
   ],
   "source": [
    "print(a is not b)"
   ]
  },
  {
   "cell_type": "code",
   "execution_count": 24,
   "id": "6e36ee4c",
   "metadata": {},
   "outputs": [
    {
     "name": "stdout",
     "output_type": "stream",
     "text": [
      "2268611111344\n",
      "2268611111504\n",
      "True\n"
     ]
    }
   ],
   "source": [
    "a=5\n",
    "print(id(a))\n",
    "a=10\n",
    "print(id(a))\n",
    "print(a is a)"
   ]
  },
  {
   "cell_type": "markdown",
   "id": "1363f134",
   "metadata": {},
   "source": [
    "> ### Membership Operator\n",
    "> `in` and `not in`"
   ]
  },
  {
   "cell_type": "code",
   "execution_count": 25,
   "id": "d0469c9e",
   "metadata": {},
   "outputs": [
    {
     "name": "stdout",
     "output_type": "stream",
     "text": [
      "True\n"
     ]
    }
   ],
   "source": [
    "name=\"Sandeep\"\n",
    "print('a' in name)"
   ]
  },
  {
   "cell_type": "code",
   "execution_count": 26,
   "id": "6f551327",
   "metadata": {},
   "outputs": [
    {
     "name": "stdout",
     "output_type": "stream",
     "text": [
      "False\n"
     ]
    }
   ],
   "source": [
    "print('A' in name)"
   ]
  },
  {
   "cell_type": "code",
   "execution_count": 28,
   "id": "12663a50",
   "metadata": {},
   "outputs": [
    {
     "name": "stdout",
     "output_type": "stream",
     "text": [
      "True\n"
     ]
    }
   ],
   "source": [
    "print('A' not in name)"
   ]
  },
  {
   "cell_type": "code",
   "execution_count": 27,
   "id": "4ebec3b1",
   "metadata": {},
   "outputs": [
    {
     "name": "stdout",
     "output_type": "stream",
     "text": [
      "True\n"
     ]
    }
   ],
   "source": [
    "print('deep' in name)"
   ]
  },
  {
   "cell_type": "markdown",
   "id": "97cc1bac",
   "metadata": {},
   "source": [
    "> ### Coding Excercise"
   ]
  },
  {
   "cell_type": "code",
   "execution_count": 29,
   "id": "72dcb584",
   "metadata": {},
   "outputs": [
    {
     "name": "stdout",
     "output_type": "stream",
     "text": [
      "Enter your Weight(in kg): 63.5\n",
      "Enter your height(in meters): 1.65\n",
      "23\n"
     ]
    }
   ],
   "source": [
    "weigth=float(input(\"Enter your Weight(in kg): \"))\n",
    "height=float(input(\"Enter your height(in meters): \"))\n",
    "BMI=weigth/(height*height)\n",
    "print(round(BMI))"
   ]
  },
  {
   "cell_type": "markdown",
   "id": "516331fa",
   "metadata": {},
   "source": [
    "> ### Working with `round()`\n",
    "\n",
    "#### Syntax: \n",
    "`round(number (Compulsory) ,no. of digit(Optional))`"
   ]
  },
  {
   "cell_type": "code",
   "execution_count": 33,
   "id": "2df03e2c",
   "metadata": {},
   "outputs": [
    {
     "name": "stdout",
     "output_type": "stream",
     "text": [
      "7\n"
     ]
    }
   ],
   "source": [
    "print(round(7))"
   ]
  },
  {
   "cell_type": "code",
   "execution_count": 34,
   "id": "e3431028",
   "metadata": {},
   "outputs": [
    {
     "name": "stdout",
     "output_type": "stream",
     "text": [
      "7\n"
     ]
    }
   ],
   "source": [
    "print(round(7,2))"
   ]
  },
  {
   "cell_type": "code",
   "execution_count": 35,
   "id": "ae59920b",
   "metadata": {},
   "outputs": [
    {
     "name": "stdout",
     "output_type": "stream",
     "text": [
      "6.4321\n"
     ]
    }
   ],
   "source": [
    "print(round(6.43212,4))"
   ]
  },
  {
   "cell_type": "code",
   "execution_count": 32,
   "id": "d1950012",
   "metadata": {},
   "outputs": [
    {
     "name": "stdout",
     "output_type": "stream",
     "text": [
      "2.343\n"
     ]
    }
   ],
   "source": [
    "print(round(2.3434,3))"
   ]
  },
  {
   "cell_type": "code",
   "execution_count": null,
   "id": "36682d1d",
   "metadata": {},
   "outputs": [],
   "source": []
  }
 ],
 "metadata": {
  "kernelspec": {
   "display_name": "Python 3 (ipykernel)",
   "language": "python",
   "name": "python3"
  },
  "language_info": {
   "codemirror_mode": {
    "name": "ipython",
    "version": 3
   },
   "file_extension": ".py",
   "mimetype": "text/x-python",
   "name": "python",
   "nbconvert_exporter": "python",
   "pygments_lexer": "ipython3",
   "version": "3.9.12"
  }
 },
 "nbformat": 4,
 "nbformat_minor": 5
}
