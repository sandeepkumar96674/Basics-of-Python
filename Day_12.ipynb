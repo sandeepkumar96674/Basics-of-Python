{
 "cells": [
  {
   "cell_type": "markdown",
   "id": "27f567d9",
   "metadata": {},
   "source": [
    "> ### For Else Excercise"
   ]
  },
  {
   "cell_type": "markdown",
   "id": "649902b1",
   "metadata": {},
   "source": [
    "#### Program to calculate average height from a list of heights"
   ]
  },
  {
   "cell_type": "code",
   "execution_count": 11,
   "id": "02fc1326",
   "metadata": {},
   "outputs": [
    {
     "name": "stdout",
     "output_type": "stream",
     "text": [
      "Enter all the heights separated by a space:1 2 3 4 5 6 7 8 9\n",
      "The average height of [1, 2, 3, 4, 5, 6, 7, 8, 9] is 5\n"
     ]
    }
   ],
   "source": [
    "heights=input(\"Enter all the heights separated by a space:\")\n",
    "height_list=heights.split()\n",
    "for i in range(0,len(height_list)):\n",
    "    height_list[i]=int(height_list[i]) #converting all the element into integer\n",
    "total=sum(height_list) #sum of all element\n",
    "avg=total/len(height_list)\n",
    "print(f\"The average height of {height_list} is {round(avg)}\")"
   ]
  },
  {
   "cell_type": "code",
   "execution_count": 10,
   "id": "bf0e3e08",
   "metadata": {},
   "outputs": [
    {
     "data": {
      "text/plain": [
       "int"
      ]
     },
     "execution_count": 10,
     "metadata": {},
     "output_type": "execute_result"
    }
   ],
   "source": [
    "type(height_list[2])"
   ]
  },
  {
   "cell_type": "code",
   "execution_count": 18,
   "id": "cef49468",
   "metadata": {},
   "outputs": [
    {
     "name": "stdout",
     "output_type": "stream",
     "text": [
      "Enter the numbers separated by a space:12 45 456 13 453\n",
      "456\n"
     ]
    }
   ],
   "source": [
    "num=input(\"Enter the numbers separated by a space:\")\n",
    "num=num.split()\n",
    "for i in range(0,len(num)):\n",
    "    num[i]=int(num[i])\n",
    "maximum=0\n",
    "for i in range(len(num)):\n",
    "    if maximum<num[i]:\n",
    "        maximum=num[i]\n",
    "print(maximum)"
   ]
  },
  {
   "cell_type": "markdown",
   "id": "d4d19bff",
   "metadata": {},
   "source": [
    "> ### range() in detail"
   ]
  },
  {
   "cell_type": "code",
   "execution_count": 22,
   "id": "03cf5483",
   "metadata": {},
   "outputs": [
    {
     "data": {
      "text/plain": [
       "2"
      ]
     },
     "execution_count": 22,
     "metadata": {},
     "output_type": "execute_result"
    }
   ],
   "source": [
    "a=range(6)\n",
    "a[2]"
   ]
  },
  {
   "cell_type": "code",
   "execution_count": 25,
   "id": "eaf31502",
   "metadata": {},
   "outputs": [
    {
     "data": {
      "text/plain": [
       "4"
      ]
     },
     "execution_count": 25,
     "metadata": {},
     "output_type": "execute_result"
    }
   ],
   "source": [
    "b=range(2,5)\n",
    "b[2]"
   ]
  },
  {
   "cell_type": "code",
   "execution_count": 27,
   "id": "46061915",
   "metadata": {},
   "outputs": [
    {
     "name": "stdout",
     "output_type": "stream",
     "text": [
      "2\n",
      "3\n",
      "4\n"
     ]
    }
   ],
   "source": [
    "for i in b:\n",
    "    print(i)"
   ]
  },
  {
   "cell_type": "code",
   "execution_count": 28,
   "id": "b6a25c03",
   "metadata": {},
   "outputs": [
    {
     "name": "stdout",
     "output_type": "stream",
     "text": [
      "2\n",
      "5\n",
      "8\n",
      "11\n",
      "14\n"
     ]
    }
   ],
   "source": [
    "c=range(2,15,3)\n",
    "for i in c:\n",
    "    print(i)"
   ]
  },
  {
   "cell_type": "code",
   "execution_count": 31,
   "id": "2aa2e12c",
   "metadata": {},
   "outputs": [],
   "source": [
    "c=range(1,15,-3)\n",
    "for i in c:\n",
    "    print(i)"
   ]
  },
  {
   "cell_type": "code",
   "execution_count": 32,
   "id": "fc020137",
   "metadata": {},
   "outputs": [
    {
     "ename": "ValueError",
     "evalue": "range() arg 3 must not be zero",
     "output_type": "error",
     "traceback": [
      "\u001b[1;31m---------------------------------------------------------------------------\u001b[0m",
      "\u001b[1;31mValueError\u001b[0m                                Traceback (most recent call last)",
      "Input \u001b[1;32mIn [32]\u001b[0m, in \u001b[0;36m<cell line: 1>\u001b[1;34m()\u001b[0m\n\u001b[1;32m----> 1\u001b[0m c\u001b[38;5;241m=\u001b[39m\u001b[38;5;28;43mrange\u001b[39;49m\u001b[43m(\u001b[49m\u001b[38;5;241;43m1\u001b[39;49m\u001b[43m,\u001b[49m\u001b[38;5;241;43m15\u001b[39;49m\u001b[43m,\u001b[49m\u001b[38;5;241;43m0\u001b[39;49m\u001b[43m)\u001b[49m\n\u001b[0;32m      2\u001b[0m \u001b[38;5;28;01mfor\u001b[39;00m i \u001b[38;5;129;01min\u001b[39;00m c:\n\u001b[0;32m      3\u001b[0m     \u001b[38;5;28mprint\u001b[39m(i)\n",
      "\u001b[1;31mValueError\u001b[0m: range() arg 3 must not be zero"
     ]
    }
   ],
   "source": [
    "c=range(1,15,0) #invalid step value\n",
    "for i in c:\n",
    "    print(i)"
   ]
  },
  {
   "cell_type": "code",
   "execution_count": 33,
   "id": "7dff9b62",
   "metadata": {},
   "outputs": [
    {
     "name": "stdout",
     "output_type": "stream",
     "text": [
      "10\n",
      "9\n",
      "8\n",
      "7\n",
      "6\n",
      "5\n",
      "4\n",
      "3\n",
      "2\n"
     ]
    }
   ],
   "source": [
    "c=range(10,1,-1)\n",
    "for i in c:\n",
    "    print(i)"
   ]
  },
  {
   "cell_type": "code",
   "execution_count": 34,
   "id": "42fe65a0",
   "metadata": {},
   "outputs": [
    {
     "name": "stdout",
     "output_type": "stream",
     "text": [
      "-1\n",
      "-4\n",
      "-7\n",
      "-10\n",
      "-13\n"
     ]
    }
   ],
   "source": [
    "c=range(-1,-15,-3)\n",
    "for i in c:\n",
    "    print(i)"
   ]
  },
  {
   "cell_type": "code",
   "execution_count": 41,
   "id": "e293712c",
   "metadata": {},
   "outputs": [
    {
     "name": "stdout",
     "output_type": "stream",
     "text": [
      "5050\n"
     ]
    }
   ],
   "source": [
    "### Excercise:\n",
    "a=range(0,101)\n",
    "sum=0\n",
    "for i in a:\n",
    "    sum+=i\n",
    "print(sum)"
   ]
  },
  {
   "cell_type": "code",
   "execution_count": 42,
   "id": "d15b57d8",
   "metadata": {},
   "outputs": [
    {
     "name": "stdout",
     "output_type": "stream",
     "text": [
      "5050\n"
     ]
    }
   ],
   "source": [
    "#second method\n",
    "total=0\n",
    "for i in range(0,101):\n",
    "    total=+i\n",
    "print(sum)"
   ]
  },
  {
   "cell_type": "code",
   "execution_count": null,
   "id": "fb4ca6bd",
   "metadata": {},
   "outputs": [],
   "source": []
  }
 ],
 "metadata": {
  "kernelspec": {
   "display_name": "Python 3 (ipykernel)",
   "language": "python",
   "name": "python3"
  },
  "language_info": {
   "codemirror_mode": {
    "name": "ipython",
    "version": 3
   },
   "file_extension": ".py",
   "mimetype": "text/x-python",
   "name": "python",
   "nbconvert_exporter": "python",
   "pygments_lexer": "ipython3",
   "version": "3.9.12"
  }
 },
 "nbformat": 4,
 "nbformat_minor": 5
}
