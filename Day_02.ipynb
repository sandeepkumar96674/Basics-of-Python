{
 "cells": [
  {
   "cell_type": "code",
   "execution_count": 1,
   "id": "6da2fa6a",
   "metadata": {},
   "outputs": [
    {
     "name": "stdout",
     "output_type": "stream",
     "text": [
      "Enter your name:Sandeep\n"
     ]
    },
    {
     "data": {
      "text/plain": [
       "'Sandeep'"
      ]
     },
     "execution_count": 1,
     "metadata": {},
     "output_type": "execute_result"
    }
   ],
   "source": [
    "input(\"Enter your name:\")"
   ]
  },
  {
   "cell_type": "code",
   "execution_count": 2,
   "id": "1e922989",
   "metadata": {},
   "outputs": [
    {
     "name": "stdout",
     "output_type": "stream",
     "text": [
      "Enter your nameSandeep\n",
      "Hello Sandeep\n"
     ]
    }
   ],
   "source": [
    "print(\"Hello\"+\" \" + input(\"Enter your name\"))"
   ]
  },
  {
   "cell_type": "code",
   "execution_count": 6,
   "id": "6f89ea5e",
   "metadata": {},
   "outputs": [
    {
     "name": "stdout",
     "output_type": "stream",
     "text": [
      "What is your name: Sandeep\n",
      "Hey Sandeep,How are you ?\n"
     ]
    }
   ],
   "source": [
    "#Excercise\n",
    "print(\"Hey\" + \" \"+input(\"What is your name: \")+\",\" + \"How are you ?\")\n"
   ]
  },
  {
   "cell_type": "code",
   "execution_count": 10,
   "id": "50f377e5",
   "metadata": {},
   "outputs": [
    {
     "name": "stdout",
     "output_type": "stream",
     "text": [
      "Enter your name:Sandeep\n",
      "Length of the name is : 7\n"
     ]
    }
   ],
   "source": [
    "name=input(\"Enter your name:\")\n",
    "print(\"Length of the name is :\",len(name))"
   ]
  },
  {
   "cell_type": "code",
   "execution_count": 12,
   "id": "0527901a",
   "metadata": {},
   "outputs": [
    {
     "name": "stdout",
     "output_type": "stream",
     "text": [
      "Enter your name: Sandeep\n",
      "Sandeep\n",
      "The updated name is: Unknown\n"
     ]
    }
   ],
   "source": [
    "name=input(\"Enter your name: \")\n",
    "print(name)\n",
    "\n",
    "#Changed the value of name variable\n",
    "name=\"Unknown\"\n",
    "print(\"The updated name is:\",name)"
   ]
  },
  {
   "cell_type": "code",
   "execution_count": 18,
   "id": "8ead08e9",
   "metadata": {},
   "outputs": [
    {
     "name": "stdout",
     "output_type": "stream",
     "text": [
      "Enter the value of a: 10\n",
      "Enter the value of b: 20\n",
      "The value of a is:  20\n",
      "The value of b is:  10\n"
     ]
    }
   ],
   "source": [
    "#Swap two numbers\n",
    "a=int(input(\"Enter the value of a: \"))\n",
    "b=int(input(\"Enter the value of b: \"))\n",
    "a=a+b\n",
    "b=a-b\n",
    "a=a-b\n",
    "print(\"The value of a is: \",a)\n",
    "print(\"The value of b is: \",b)"
   ]
  }
 ],
 "metadata": {
  "kernelspec": {
   "display_name": "Python 3 (ipykernel)",
   "language": "python",
   "name": "python3"
  },
  "language_info": {
   "codemirror_mode": {
    "name": "ipython",
    "version": 3
   },
   "file_extension": ".py",
   "mimetype": "text/x-python",
   "name": "python",
   "nbconvert_exporter": "python",
   "pygments_lexer": "ipython3",
   "version": "3.9.12"
  }
 },
 "nbformat": 4,
 "nbformat_minor": 5
}
