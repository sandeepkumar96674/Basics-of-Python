{
 "cells": [
  {
   "cell_type": "code",
   "execution_count": 14,
   "id": "86c6b724",
   "metadata": {},
   "outputs": [
    {
     "name": "stdout",
     "output_type": "stream",
     "text": [
      "Type encrypt for e, type decrypt for d:\n",
      "d\n",
      "Type your message:td\n",
      "Enter shift key:\n",
      "4\n",
      "here is the text after decryption:pz\n",
      "Type 'yes' to continue, type 'no' to End:no\n",
      "\n",
      "Thank You 😊\n"
     ]
    }
   ],
   "source": [
    "alpha=['a','b','c','d','e','f','g','h','i','j','k','l','m','n','o','p','q','r','s','t',\n",
    "       'u','v','w','x','y','z']\n",
    "def encryption(plane_text,shift_key):\n",
    "    cipher_text=\"\"\n",
    "    for char in plane_text:\n",
    "        if char in alpha:\n",
    "            position=alpha.index(char)\n",
    "            new_position=(position+shift_key)%26\n",
    "            cipher_text+=alpha[new_position] \n",
    "        else:\n",
    "            cipher_text+=char\n",
    "    print(f\"here is the text after encryption:{cipher_text}\")\n",
    "\n",
    "def decryption(cipher_text,shift_key):\n",
    "    plane_text=\"\"\n",
    "    for char in cipher_text:\n",
    "        if char in alpha:\n",
    "            \n",
    "            position=alpha.index(char)\n",
    "            new_position=(position-shift_key)%26\n",
    "            plane_text+=alpha[new_position]    \n",
    "        else:\n",
    "            plane_text+=char\n",
    "    print(f\"here is the text after decryption:{plane_text}\")\n",
    "end=False    \n",
    "while not end:\n",
    "    what_to_do=input(\"Type encrypt for e, type decrypt for d:\\n\")\n",
    "    text=input(\"Type your message:\").lower()\n",
    "    shift=int(input(\"Enter shift key:\\n\"))\n",
    "    if what_to_do ==\"e\":\n",
    "        encryption(plane_text=text,shift_key=shift)\n",
    "    elif what_to_do ==\"d\":\n",
    "        decryption(text,shift)\n",
    "    again=input(\"Type 'yes' to continue, type 'no' to End:\")\n",
    "    if again==\"no\":\n",
    "        end=True\n",
    "        print(\"\\nThank You 😊\")"
   ]
  },
  {
   "cell_type": "code",
   "execution_count": null,
   "id": "a3109fd3",
   "metadata": {},
   "outputs": [],
   "source": []
  }
 ],
 "metadata": {
  "kernelspec": {
   "display_name": "Python 3 (ipykernel)",
   "language": "python",
   "name": "python3"
  },
  "language_info": {
   "codemirror_mode": {
    "name": "ipython",
    "version": 3
   },
   "file_extension": ".py",
   "mimetype": "text/x-python",
   "name": "python",
   "nbconvert_exporter": "python",
   "pygments_lexer": "ipython3",
   "version": "3.9.12"
  }
 },
 "nbformat": 4,
 "nbformat_minor": 5
}
