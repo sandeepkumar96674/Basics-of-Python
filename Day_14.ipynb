{
 "cells": [
  {
   "cell_type": "markdown",
   "id": "be5b1dd1",
   "metadata": {},
   "source": [
    "> ### While Loop"
   ]
  },
  {
   "cell_type": "code",
   "execution_count": 12,
   "id": "a9d9cf64",
   "metadata": {},
   "outputs": [
    {
     "name": "stdout",
     "output_type": "stream",
     "text": [
      "0\n",
      "1\n",
      "2\n",
      "3\n",
      "4\n",
      "5\n"
     ]
    }
   ],
   "source": [
    "count=0\n",
    "while count<=5:\n",
    "    print(count)\n",
    "    count+=1"
   ]
  },
  {
   "cell_type": "code",
   "execution_count": 13,
   "id": "75240976",
   "metadata": {},
   "outputs": [
    {
     "name": "stdout",
     "output_type": "stream",
     "text": [
      "[1, 2, 45, 7, 8]\n",
      "[1, 2, 45, 7]\n",
      "[1, 2, 45]\n",
      "[1, 2]\n",
      "[1]\n"
     ]
    }
   ],
   "source": [
    "list1=[1,2,45,7,8]\n",
    "while list1:\n",
    "    print(list1)\n",
    "    list1.pop()"
   ]
  },
  {
   "cell_type": "code",
   "execution_count": 16,
   "id": "3eef128a",
   "metadata": {},
   "outputs": [
    {
     "name": "stdout",
     "output_type": "stream",
     "text": [
      "0\n",
      "1\n",
      "2\n",
      "3\n",
      "4\n",
      "5\n",
      "In else block\n",
      "Out of the Loop\n"
     ]
    }
   ],
   "source": [
    "count=0\n",
    "while count<=5:\n",
    "    print(count)\n",
    "    count+=1\n",
    "else:\n",
    "    print(\"In else block\")\n",
    "print(\"Out of the Loop\")"
   ]
  },
  {
   "cell_type": "code",
   "execution_count": 17,
   "id": "db3ab08f",
   "metadata": {},
   "outputs": [
    {
     "name": "stdout",
     "output_type": "stream",
     "text": [
      "0\n",
      "1\n",
      "2\n",
      "Out of the Loop\n"
     ]
    }
   ],
   "source": [
    "count=0\n",
    "while count<=5:\n",
    "    print(count)\n",
    "    count+=1\n",
    "    if count ==3:\n",
    "        break\n",
    "else:\n",
    "    print(\"In else block\")\n",
    "print(\"Out of the Loop\")"
   ]
  },
  {
   "cell_type": "code",
   "execution_count": 19,
   "id": "1287bc98",
   "metadata": {},
   "outputs": [
    {
     "name": "stdout",
     "output_type": "stream",
     "text": [
      "Enter a number(-1 to quit)2\n",
      "2\n",
      "Enter a number(-1 to quit)1\n",
      "1\n",
      "Enter a number(-1 to quit)-1\n",
      "In the else\n",
      "Out of the While Loop\n"
     ]
    }
   ],
   "source": [
    "number=int(input(\"Enter a number(-1 to quit)\"))\n",
    "while number !=-1:\n",
    "    print(number)\n",
    "    number=int(input(\"Enter a number(-1 to quit)\"))\n",
    "else:\n",
    "    print(\"In the else\")\n",
    "print(\"Out of the While Loop\")\n",
    "    "
   ]
  },
  {
   "cell_type": "code",
   "execution_count": 22,
   "id": "fd5b1e79",
   "metadata": {},
   "outputs": [
    {
     "name": "stdout",
     "output_type": "stream",
     "text": [
      "Enter a number (0 to Quit)2\n",
      "Enter a number (0 to Quit)5\n",
      "Enter a number (0 to Quit)7\n",
      "Enter a number (0 to Quit)6\n",
      "Enter a number (0 to Quit)-5\n",
      "Enter a number (0 to Quit)-6\n",
      "Enter a number (0 to Quit)-7\n",
      "Enter a number (0 to Quit)0\n",
      "2\n"
     ]
    }
   ],
   "source": [
    "num=int(input(\"Enter a number (0 to Quit)\"))\n",
    "sum=0\n",
    "while num!=0:\n",
    "    sum+=num\n",
    "    num=int(input(\"Enter a number (0 to Quit)\"))\n",
    "print(sum)\n"
   ]
  }
 ],
 "metadata": {
  "kernelspec": {
   "display_name": "Python 3 (ipykernel)",
   "language": "python",
   "name": "python3"
  },
  "language_info": {
   "codemirror_mode": {
    "name": "ipython",
    "version": 3
   },
   "file_extension": ".py",
   "mimetype": "text/x-python",
   "name": "python",
   "nbconvert_exporter": "python",
   "pygments_lexer": "ipython3",
   "version": "3.9.12"
  }
 },
 "nbformat": 4,
 "nbformat_minor": 5
}
