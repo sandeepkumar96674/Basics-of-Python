{
 "cells": [
  {
   "cell_type": "markdown",
   "id": "69c392db",
   "metadata": {},
   "source": [
    "> ### Operations on Sets"
   ]
  },
  {
   "cell_type": "code",
   "execution_count": 1,
   "id": "4a2bd2fb",
   "metadata": {},
   "outputs": [],
   "source": [
    "set1={1,2,3,4,8,12}\n",
    "set2={4,8,19,123,325}"
   ]
  },
  {
   "cell_type": "markdown",
   "id": "8a6ad620",
   "metadata": {},
   "source": [
    "#### Union"
   ]
  },
  {
   "cell_type": "code",
   "execution_count": 2,
   "id": "ffa8af7e",
   "metadata": {},
   "outputs": [
    {
     "data": {
      "text/plain": [
       "{1, 2, 3, 4, 8, 12, 19, 123, 325}"
      ]
     },
     "execution_count": 2,
     "metadata": {},
     "output_type": "execute_result"
    }
   ],
   "source": [
    "set1.union(set2)"
   ]
  },
  {
   "cell_type": "code",
   "execution_count": 3,
   "id": "24cff543",
   "metadata": {},
   "outputs": [
    {
     "data": {
      "text/plain": [
       "{1, 2, 3, 4, 8, 12, 19, 123, 325}"
      ]
     },
     "execution_count": 3,
     "metadata": {},
     "output_type": "execute_result"
    }
   ],
   "source": [
    "set1 | set2"
   ]
  },
  {
   "cell_type": "code",
   "execution_count": 4,
   "id": "bb8ce1ad",
   "metadata": {},
   "outputs": [],
   "source": [
    "set3={23,52,62,78}"
   ]
  },
  {
   "cell_type": "code",
   "execution_count": 5,
   "id": "8affabe3",
   "metadata": {},
   "outputs": [
    {
     "data": {
      "text/plain": [
       "{1, 2, 3, 4, 8, 12, 19, 23, 52, 62, 78, 123, 325}"
      ]
     },
     "execution_count": 5,
     "metadata": {},
     "output_type": "execute_result"
    }
   ],
   "source": [
    "set1 | set2 |set3"
   ]
  },
  {
   "cell_type": "code",
   "execution_count": 6,
   "id": "fd16a4d1",
   "metadata": {},
   "outputs": [
    {
     "data": {
      "text/plain": [
       "{1, 2, 3, 4, 8, 12, 19, 23, 52, 62, 78, 123, 325}"
      ]
     },
     "execution_count": 6,
     "metadata": {},
     "output_type": "execute_result"
    }
   ],
   "source": [
    "set1.union(set2,set3)"
   ]
  },
  {
   "cell_type": "code",
   "execution_count": 7,
   "id": "841fbd56",
   "metadata": {},
   "outputs": [],
   "source": [
    "set1.update(set2)"
   ]
  },
  {
   "cell_type": "code",
   "execution_count": 8,
   "id": "7be93418",
   "metadata": {},
   "outputs": [
    {
     "data": {
      "text/plain": [
       "{1, 2, 3, 4, 8, 12, 19, 123, 325}"
      ]
     },
     "execution_count": 8,
     "metadata": {},
     "output_type": "execute_result"
    }
   ],
   "source": [
    "set1"
   ]
  },
  {
   "cell_type": "code",
   "execution_count": 9,
   "id": "fece2246",
   "metadata": {},
   "outputs": [],
   "source": [
    "set1.update(['sandeep','ankur'])"
   ]
  },
  {
   "cell_type": "code",
   "execution_count": 10,
   "id": "4c3488db",
   "metadata": {},
   "outputs": [
    {
     "data": {
      "text/plain": [
       "{1, 12, 123, 19, 2, 3, 325, 4, 8, 'ankur', 'sandeep'}"
      ]
     },
     "execution_count": 10,
     "metadata": {},
     "output_type": "execute_result"
    }
   ],
   "source": [
    "set1"
   ]
  },
  {
   "cell_type": "code",
   "execution_count": 11,
   "id": "e2566902",
   "metadata": {},
   "outputs": [],
   "source": [
    "set1 |=set3"
   ]
  },
  {
   "cell_type": "code",
   "execution_count": 12,
   "id": "c3d3e206",
   "metadata": {},
   "outputs": [
    {
     "data": {
      "text/plain": [
       "{1, 12, 123, 19, 2, 23, 3, 325, 4, 52, 62, 78, 8, 'ankur', 'sandeep'}"
      ]
     },
     "execution_count": 12,
     "metadata": {},
     "output_type": "execute_result"
    }
   ],
   "source": [
    "set1"
   ]
  },
  {
   "cell_type": "markdown",
   "id": "b02f2d7f",
   "metadata": {},
   "source": [
    "#### Intersection : Only common items"
   ]
  },
  {
   "cell_type": "code",
   "execution_count": 13,
   "id": "8fa3ed27",
   "metadata": {},
   "outputs": [
    {
     "data": {
      "text/plain": [
       "{4, 8, 19, 123, 325}"
      ]
     },
     "execution_count": 13,
     "metadata": {},
     "output_type": "execute_result"
    }
   ],
   "source": [
    "set1.intersection(set2)"
   ]
  },
  {
   "cell_type": "code",
   "execution_count": 14,
   "id": "555d8853",
   "metadata": {},
   "outputs": [
    {
     "data": {
      "text/plain": [
       "set()"
      ]
     },
     "execution_count": 14,
     "metadata": {},
     "output_type": "execute_result"
    }
   ],
   "source": [
    "set1.intersection(set2,set3)"
   ]
  },
  {
   "cell_type": "code",
   "execution_count": 15,
   "id": "74b6432b",
   "metadata": {},
   "outputs": [
    {
     "data": {
      "text/plain": [
       "{23, 52, 62, 78}"
      ]
     },
     "execution_count": 15,
     "metadata": {},
     "output_type": "execute_result"
    }
   ],
   "source": [
    "set1&set3"
   ]
  },
  {
   "cell_type": "code",
   "execution_count": 21,
   "id": "c3948512",
   "metadata": {},
   "outputs": [],
   "source": [
    "set1.intersection_update(set2)"
   ]
  },
  {
   "cell_type": "code",
   "execution_count": 23,
   "id": "099bdff7",
   "metadata": {},
   "outputs": [
    {
     "data": {
      "text/plain": [
       "set()"
      ]
     },
     "execution_count": 23,
     "metadata": {},
     "output_type": "execute_result"
    }
   ],
   "source": [
    "set1"
   ]
  },
  {
   "cell_type": "code",
   "execution_count": 25,
   "id": "287c4497",
   "metadata": {},
   "outputs": [],
   "source": [
    "set1={\"Sandeep\",\"Akash\",\"Ankit\",\"Prabhash\",\"Sonu\"}\n",
    "set2={\"Ankur\",\"Sonu\",\"Bipul\",\"Mayank\",\"Uday\"}\n",
    "set3={\"Anurag\",\"Ritik\",\"Bhargav\",\"Uday\",\"Akash\"}"
   ]
  },
  {
   "cell_type": "code",
   "execution_count": 26,
   "id": "1c8a0d5a",
   "metadata": {},
   "outputs": [
    {
     "data": {
      "text/plain": [
       "{'Akash', 'Ankit', 'Prabhash', 'Sandeep'}"
      ]
     },
     "execution_count": 26,
     "metadata": {},
     "output_type": "execute_result"
    }
   ],
   "source": [
    "set1.difference(set2)"
   ]
  },
  {
   "cell_type": "code",
   "execution_count": 27,
   "id": "6a88719e",
   "metadata": {},
   "outputs": [
    {
     "data": {
      "text/plain": [
       "{'Akash', 'Ankit', 'Prabhash', 'Sandeep'}"
      ]
     },
     "execution_count": 27,
     "metadata": {},
     "output_type": "execute_result"
    }
   ],
   "source": [
    "set1-set2"
   ]
  },
  {
   "cell_type": "code",
   "execution_count": 28,
   "id": "5308ae27",
   "metadata": {},
   "outputs": [
    {
     "data": {
      "text/plain": [
       "{'Ankit', 'Prabhash', 'Sandeep'}"
      ]
     },
     "execution_count": 28,
     "metadata": {},
     "output_type": "execute_result"
    }
   ],
   "source": [
    "set1.difference(set2,set3)"
   ]
  },
  {
   "cell_type": "code",
   "execution_count": 29,
   "id": "a766b467",
   "metadata": {},
   "outputs": [
    {
     "data": {
      "text/plain": [
       "{'Akash', 'Ankit', 'Ankur', 'Bipul', 'Mayank', 'Prabhash', 'Sandeep', 'Uday'}"
      ]
     },
     "execution_count": 29,
     "metadata": {},
     "output_type": "execute_result"
    }
   ],
   "source": [
    "set1.symmetric_difference(set2)"
   ]
  },
  {
   "cell_type": "code",
   "execution_count": 30,
   "id": "600afb24",
   "metadata": {},
   "outputs": [
    {
     "data": {
      "text/plain": [
       "{'Akash', 'Ankit', 'Ankur', 'Bipul', 'Mayank', 'Prabhash', 'Sandeep', 'Uday'}"
      ]
     },
     "execution_count": 30,
     "metadata": {},
     "output_type": "execute_result"
    }
   ],
   "source": [
    "set1^set2"
   ]
  },
  {
   "cell_type": "code",
   "execution_count": 31,
   "id": "8165a23d",
   "metadata": {},
   "outputs": [
    {
     "data": {
      "text/plain": [
       "False"
      ]
     },
     "execution_count": 31,
     "metadata": {},
     "output_type": "execute_result"
    }
   ],
   "source": [
    "set1.isdisjoint(set2)"
   ]
  },
  {
   "cell_type": "code",
   "execution_count": 32,
   "id": "52364fcc",
   "metadata": {},
   "outputs": [
    {
     "data": {
      "text/plain": [
       "False"
      ]
     },
     "execution_count": 32,
     "metadata": {},
     "output_type": "execute_result"
    }
   ],
   "source": [
    "set1.issubset(set2)"
   ]
  },
  {
   "cell_type": "code",
   "execution_count": 33,
   "id": "f5f19de4",
   "metadata": {},
   "outputs": [
    {
     "data": {
      "text/plain": [
       "False"
      ]
     },
     "execution_count": 33,
     "metadata": {},
     "output_type": "execute_result"
    }
   ],
   "source": [
    "set2.issubset(set1)"
   ]
  },
  {
   "cell_type": "code",
   "execution_count": null,
   "id": "8a64c741",
   "metadata": {},
   "outputs": [],
   "source": []
  }
 ],
 "metadata": {
  "kernelspec": {
   "display_name": "Python 3 (ipykernel)",
   "language": "python",
   "name": "python3"
  },
  "language_info": {
   "codemirror_mode": {
    "name": "ipython",
    "version": 3
   },
   "file_extension": ".py",
   "mimetype": "text/x-python",
   "name": "python",
   "nbconvert_exporter": "python",
   "pygments_lexer": "ipython3",
   "version": "3.9.12"
  }
 },
 "nbformat": 4,
 "nbformat_minor": 5
}
