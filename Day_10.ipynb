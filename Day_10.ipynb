{
 "cells": [
  {
   "cell_type": "markdown",
   "id": "5ad534b8",
   "metadata": {},
   "source": [
    "> ### Operations on Sets"
   ]
  },
  {
   "cell_type": "code",
   "execution_count": 1,
   "id": "83ca98f6",
   "metadata": {},
   "outputs": [],
   "source": [
    "set1={1,2,3,4,8,12}\n",
    "set2={4,8,19,123,325}"
   ]
  },
  {
   "cell_type": "markdown",
   "id": "05a513ed",
   "metadata": {},
   "source": [
    "#### Union"
   ]
  },
  {
   "cell_type": "code",
   "execution_count": 2,
   "id": "540e18ce",
   "metadata": {},
   "outputs": [
    {
     "data": {
      "text/plain": [
       "{1, 2, 3, 4, 8, 12, 19, 123, 325}"
      ]
     },
     "execution_count": 2,
     "metadata": {},
     "output_type": "execute_result"
    }
   ],
   "source": [
    "set1.union(set2)"
   ]
  },
  {
   "cell_type": "code",
   "execution_count": 3,
   "id": "9267b5d8",
   "metadata": {},
   "outputs": [
    {
     "data": {
      "text/plain": [
       "{1, 2, 3, 4, 8, 12, 19, 123, 325}"
      ]
     },
     "execution_count": 3,
     "metadata": {},
     "output_type": "execute_result"
    }
   ],
   "source": [
    "set1 | set2"
   ]
  },
  {
   "cell_type": "code",
   "execution_count": 4,
   "id": "d52db026",
   "metadata": {},
   "outputs": [],
   "source": [
    "set3={23,52,62,78}"
   ]
  },
  {
   "cell_type": "code",
   "execution_count": 5,
   "id": "0d44d010",
   "metadata": {},
   "outputs": [
    {
     "data": {
      "text/plain": [
       "{1, 2, 3, 4, 8, 12, 19, 23, 52, 62, 78, 123, 325}"
      ]
     },
     "execution_count": 5,
     "metadata": {},
     "output_type": "execute_result"
    }
   ],
   "source": [
    "set1 | set2 |set3"
   ]
  },
  {
   "cell_type": "code",
   "execution_count": 6,
   "id": "1ced63cb",
   "metadata": {},
   "outputs": [
    {
     "data": {
      "text/plain": [
       "{1, 2, 3, 4, 8, 12, 19, 23, 52, 62, 78, 123, 325}"
      ]
     },
     "execution_count": 6,
     "metadata": {},
     "output_type": "execute_result"
    }
   ],
   "source": [
    "set1.union(set2,set3)"
   ]
  },
  {
   "cell_type": "code",
   "execution_count": 7,
   "id": "11b55254",
   "metadata": {},
   "outputs": [],
   "source": [
    "set1.update(set2)"
   ]
  },
  {
   "cell_type": "code",
   "execution_count": 8,
   "id": "b65d163c",
   "metadata": {},
   "outputs": [
    {
     "data": {
      "text/plain": [
       "{1, 2, 3, 4, 8, 12, 19, 123, 325}"
      ]
     },
     "execution_count": 8,
     "metadata": {},
     "output_type": "execute_result"
    }
   ],
   "source": [
    "set1"
   ]
  },
  {
   "cell_type": "code",
   "execution_count": 9,
   "id": "d6ddba0a",
   "metadata": {},
   "outputs": [],
   "source": [
    "set1.update(['sandeep','ankur'])"
   ]
  },
  {
   "cell_type": "code",
   "execution_count": 10,
   "id": "881fd107",
   "metadata": {},
   "outputs": [
    {
     "data": {
      "text/plain": [
       "{1, 12, 123, 19, 2, 3, 325, 4, 8, 'ankur', 'sandeep'}"
      ]
     },
     "execution_count": 10,
     "metadata": {},
     "output_type": "execute_result"
    }
   ],
   "source": [
    "set1"
   ]
  },
  {
   "cell_type": "code",
   "execution_count": 11,
   "id": "9d6a450a",
   "metadata": {},
   "outputs": [],
   "source": [
    "set1 |=set3"
   ]
  },
  {
   "cell_type": "code",
   "execution_count": 12,
   "id": "e873effb",
   "metadata": {},
   "outputs": [
    {
     "data": {
      "text/plain": [
       "{1, 12, 123, 19, 2, 23, 3, 325, 4, 52, 62, 78, 8, 'ankur', 'sandeep'}"
      ]
     },
     "execution_count": 12,
     "metadata": {},
     "output_type": "execute_result"
    }
   ],
   "source": [
    "set1"
   ]
  },
  {
   "cell_type": "markdown",
   "id": "a3fb2f2f",
   "metadata": {},
   "source": [
    "#### Intersection : Only common items"
   ]
  },
  {
   "cell_type": "code",
   "execution_count": 13,
   "id": "3d83345f",
   "metadata": {},
   "outputs": [
    {
     "data": {
      "text/plain": [
       "{4, 8, 19, 123, 325}"
      ]
     },
     "execution_count": 13,
     "metadata": {},
     "output_type": "execute_result"
    }
   ],
   "source": [
    "set1.intersection(set2)"
   ]
  },
  {
   "cell_type": "code",
   "execution_count": 14,
   "id": "d943d283",
   "metadata": {},
   "outputs": [
    {
     "data": {
      "text/plain": [
       "set()"
      ]
     },
     "execution_count": 14,
     "metadata": {},
     "output_type": "execute_result"
    }
   ],
   "source": [
    "set1.intersection(set2,set3)"
   ]
  },
  {
   "cell_type": "code",
   "execution_count": 15,
   "id": "ff6d3ca6",
   "metadata": {},
   "outputs": [
    {
     "data": {
      "text/plain": [
       "{23, 52, 62, 78}"
      ]
     },
     "execution_count": 15,
     "metadata": {},
     "output_type": "execute_result"
    }
   ],
   "source": [
    "set1&set3"
   ]
  },
  {
   "cell_type": "code",
   "execution_count": 21,
   "id": "a0a983c7",
   "metadata": {},
   "outputs": [],
   "source": [
    "set1.intersection_update(set2)"
   ]
  },
  {
   "cell_type": "code",
   "execution_count": 23,
   "id": "73724674",
   "metadata": {},
   "outputs": [
    {
     "data": {
      "text/plain": [
       "set()"
      ]
     },
     "execution_count": 23,
     "metadata": {},
     "output_type": "execute_result"
    }
   ],
   "source": [
    "set1"
   ]
  },
  {
   "cell_type": "markdown",
   "id": "48c7a611",
   "metadata": {},
   "source": [
    "#### Difference in Sets"
   ]
  },
  {
   "cell_type": "code",
   "execution_count": 25,
   "id": "25346b80",
   "metadata": {},
   "outputs": [],
   "source": [
    "set1={\"Sandeep\",\"Akash\",\"Ankit\",\"Prabhash\",\"Sonu\"}\n",
    "set2={\"Ankur\",\"Sonu\",\"Bipul\",\"Mayank\",\"Uday\"}\n",
    "set3={\"Anurag\",\"Ritik\",\"Bhargav\",\"Uday\",\"Akash\"}"
   ]
  },
  {
   "cell_type": "code",
   "execution_count": 26,
   "id": "86946f46",
   "metadata": {},
   "outputs": [
    {
     "data": {
      "text/plain": [
       "{'Akash', 'Ankit', 'Prabhash', 'Sandeep'}"
      ]
     },
     "execution_count": 26,
     "metadata": {},
     "output_type": "execute_result"
    }
   ],
   "source": [
    "set1.difference(set2)"
   ]
  },
  {
   "cell_type": "code",
   "execution_count": 27,
   "id": "16e306b3",
   "metadata": {},
   "outputs": [
    {
     "data": {
      "text/plain": [
       "{'Akash', 'Ankit', 'Prabhash', 'Sandeep'}"
      ]
     },
     "execution_count": 27,
     "metadata": {},
     "output_type": "execute_result"
    }
   ],
   "source": [
    "set1-set2"
   ]
  },
  {
   "cell_type": "code",
   "execution_count": 28,
   "id": "ea800e9a",
   "metadata": {},
   "outputs": [
    {
     "data": {
      "text/plain": [
       "{'Ankit', 'Prabhash', 'Sandeep'}"
      ]
     },
     "execution_count": 28,
     "metadata": {},
     "output_type": "execute_result"
    }
   ],
   "source": [
    "set1.difference(set2,set3)"
   ]
  },
  {
   "cell_type": "code",
   "execution_count": 29,
   "id": "554282d6",
   "metadata": {},
   "outputs": [
    {
     "data": {
      "text/plain": [
       "{'Akash', 'Ankit', 'Ankur', 'Bipul', 'Mayank', 'Prabhash', 'Sandeep', 'Uday'}"
      ]
     },
     "execution_count": 29,
     "metadata": {},
     "output_type": "execute_result"
    }
   ],
   "source": [
    "set1.symmetric_difference(set2)"
   ]
  },
  {
   "cell_type": "code",
   "execution_count": 30,
   "id": "d35ac0f7",
   "metadata": {},
   "outputs": [
    {
     "data": {
      "text/plain": [
       "{'Akash', 'Ankit', 'Ankur', 'Bipul', 'Mayank', 'Prabhash', 'Sandeep', 'Uday'}"
      ]
     },
     "execution_count": 30,
     "metadata": {},
     "output_type": "execute_result"
    }
   ],
   "source": [
    "set1^set2"
   ]
  },
  {
   "cell_type": "code",
   "execution_count": 31,
   "id": "1877a41d",
   "metadata": {},
   "outputs": [
    {
     "data": {
      "text/plain": [
       "False"
      ]
     },
     "execution_count": 31,
     "metadata": {},
     "output_type": "execute_result"
    }
   ],
   "source": [
    "set1.isdisjoint(set2)"
   ]
  },
  {
   "cell_type": "code",
   "execution_count": 32,
   "id": "2251dafd",
   "metadata": {},
   "outputs": [
    {
     "data": {
      "text/plain": [
       "False"
      ]
     },
     "execution_count": 32,
     "metadata": {},
     "output_type": "execute_result"
    }
   ],
   "source": [
    "set1.issubset(set2)"
   ]
  },
  {
   "cell_type": "code",
   "execution_count": 33,
   "id": "8c83d1bb",
   "metadata": {},
   "outputs": [
    {
     "data": {
      "text/plain": [
       "False"
      ]
     },
     "execution_count": 33,
     "metadata": {},
     "output_type": "execute_result"
    }
   ],
   "source": [
    "set2.issubset(set1)"
   ]
  }
 ],
 "metadata": {
  "kernelspec": {
   "display_name": "Python 3 (ipykernel)",
   "language": "python",
   "name": "python3"
  },
  "language_info": {
   "codemirror_mode": {
    "name": "ipython",
    "version": 3
   },
   "file_extension": ".py",
   "mimetype": "text/x-python",
   "name": "python",
   "nbconvert_exporter": "python",
   "pygments_lexer": "ipython3",
   "version": "3.9.12"
  }
 },
 "nbformat": 4,
 "nbformat_minor": 5
}
