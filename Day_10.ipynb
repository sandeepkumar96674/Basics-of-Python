{
 "cells": [
  {
   "cell_type": "markdown",
   "id": "0f5f9978",
   "metadata": {},
   "source": [
    "> ### Operations on Sets"
   ]
  },
  {
   "cell_type": "code",
   "execution_count": 1,
   "id": "79fdbda2",
   "metadata": {},
   "outputs": [],
   "source": [
    "set1={1,2,3,4,8,12}\n",
    "set2={4,8,19,123,325}"
   ]
  },
  {
   "cell_type": "markdown",
   "id": "30129d51",
   "metadata": {},
   "source": [
    "#### Union"
   ]
  },
  {
   "cell_type": "code",
   "execution_count": 2,
   "id": "d355dab6",
   "metadata": {},
   "outputs": [
    {
     "data": {
      "text/plain": [
       "{1, 2, 3, 4, 8, 12, 19, 123, 325}"
      ]
     },
     "execution_count": 2,
     "metadata": {},
     "output_type": "execute_result"
    }
   ],
   "source": [
    "set1.union(set2)"
   ]
  },
  {
   "cell_type": "code",
   "execution_count": 3,
   "id": "55db8f22",
   "metadata": {},
   "outputs": [
    {
     "data": {
      "text/plain": [
       "{1, 2, 3, 4, 8, 12, 19, 123, 325}"
      ]
     },
     "execution_count": 3,
     "metadata": {},
     "output_type": "execute_result"
    }
   ],
   "source": [
    "set1 | set2"
   ]
  },
  {
   "cell_type": "code",
   "execution_count": 4,
   "id": "fd912217",
   "metadata": {},
   "outputs": [],
   "source": [
    "set3={23,52,62,78}"
   ]
  },
  {
   "cell_type": "code",
   "execution_count": 5,
   "id": "02370bc2",
   "metadata": {},
   "outputs": [
    {
     "data": {
      "text/plain": [
       "{1, 2, 3, 4, 8, 12, 19, 23, 52, 62, 78, 123, 325}"
      ]
     },
     "execution_count": 5,
     "metadata": {},
     "output_type": "execute_result"
    }
   ],
   "source": [
    "set1 | set2 |set3"
   ]
  },
  {
   "cell_type": "code",
   "execution_count": 6,
   "id": "200b54a1",
   "metadata": {},
   "outputs": [
    {
     "data": {
      "text/plain": [
       "{1, 2, 3, 4, 8, 12, 19, 23, 52, 62, 78, 123, 325}"
      ]
     },
     "execution_count": 6,
     "metadata": {},
     "output_type": "execute_result"
    }
   ],
   "source": [
    "set1.union(set2,set3)"
   ]
  },
  {
   "cell_type": "code",
   "execution_count": 7,
   "id": "38efa722",
   "metadata": {},
   "outputs": [],
   "source": [
    "set1.update(set2)"
   ]
  },
  {
   "cell_type": "code",
   "execution_count": 8,
   "id": "ece03451",
   "metadata": {},
   "outputs": [
    {
     "data": {
      "text/plain": [
       "{1, 2, 3, 4, 8, 12, 19, 123, 325}"
      ]
     },
     "execution_count": 8,
     "metadata": {},
     "output_type": "execute_result"
    }
   ],
   "source": [
    "set1"
   ]
  },
  {
   "cell_type": "code",
   "execution_count": 9,
   "id": "a30fcf0b",
   "metadata": {},
   "outputs": [],
   "source": [
    "set1.update(['sandeep','ankur'])"
   ]
  },
  {
   "cell_type": "code",
   "execution_count": 10,
   "id": "37e5f782",
   "metadata": {},
   "outputs": [
    {
     "data": {
      "text/plain": [
       "{1, 12, 123, 19, 2, 3, 325, 4, 8, 'ankur', 'sandeep'}"
      ]
     },
     "execution_count": 10,
     "metadata": {},
     "output_type": "execute_result"
    }
   ],
   "source": [
    "set1"
   ]
  },
  {
   "cell_type": "code",
   "execution_count": 11,
   "id": "a8e280d6",
   "metadata": {},
   "outputs": [],
   "source": [
    "set1 |=set3"
   ]
  },
  {
   "cell_type": "code",
   "execution_count": 12,
   "id": "d95afdaa",
   "metadata": {},
   "outputs": [
    {
     "data": {
      "text/plain": [
       "{1, 12, 123, 19, 2, 23, 3, 325, 4, 52, 62, 78, 8, 'ankur', 'sandeep'}"
      ]
     },
     "execution_count": 12,
     "metadata": {},
     "output_type": "execute_result"
    }
   ],
   "source": [
    "set1"
   ]
  },
  {
   "cell_type": "markdown",
   "id": "bb2f0169",
   "metadata": {},
   "source": [
    "#### Intersection : Only common items"
   ]
  },
  {
   "cell_type": "code",
   "execution_count": 13,
   "id": "f761f62b",
   "metadata": {},
   "outputs": [
    {
     "data": {
      "text/plain": [
       "{4, 8, 19, 123, 325}"
      ]
     },
     "execution_count": 13,
     "metadata": {},
     "output_type": "execute_result"
    }
   ],
   "source": [
    "set1.intersection(set2)"
   ]
  },
  {
   "cell_type": "code",
   "execution_count": 14,
   "id": "00b95ef3",
   "metadata": {},
   "outputs": [
    {
     "data": {
      "text/plain": [
       "set()"
      ]
     },
     "execution_count": 14,
     "metadata": {},
     "output_type": "execute_result"
    }
   ],
   "source": [
    "set1.intersection(set2,set3)"
   ]
  },
  {
   "cell_type": "code",
   "execution_count": 15,
   "id": "181bc374",
   "metadata": {},
   "outputs": [
    {
     "data": {
      "text/plain": [
       "{23, 52, 62, 78}"
      ]
     },
     "execution_count": 15,
     "metadata": {},
     "output_type": "execute_result"
    }
   ],
   "source": [
    "set1&set3"
   ]
  },
  {
   "cell_type": "code",
   "execution_count": 21,
   "id": "3d637165",
   "metadata": {},
   "outputs": [],
   "source": [
    "set1.intersection_update(set2)"
   ]
  },
  {
   "cell_type": "code",
   "execution_count": 23,
   "id": "85818272",
   "metadata": {},
   "outputs": [
    {
     "data": {
      "text/plain": [
       "set()"
      ]
     },
     "execution_count": 23,
     "metadata": {},
     "output_type": "execute_result"
    }
   ],
   "source": [
    "set1"
   ]
  },
  {
   "cell_type": "code",
   "execution_count": 25,
   "id": "2be3f379",
   "metadata": {},
   "outputs": [],
   "source": [
    "set1={\"Sandeep\",\"Akash\",\"Ankit\",\"Prabhash\",\"Sonu\"}\n",
    "set2={\"Ankur\",\"Sonu\",\"Bipul\",\"Mayank\",\"Uday\"}\n",
    "set3={\"Anurag\",\"Ritik\",\"Bhargav\",\"Uday\",\"Akash\"}"
   ]
  },
  {
   "cell_type": "code",
   "execution_count": 26,
   "id": "15273c5b",
   "metadata": {},
   "outputs": [
    {
     "data": {
      "text/plain": [
       "{'Akash', 'Ankit', 'Prabhash', 'Sandeep'}"
      ]
     },
     "execution_count": 26,
     "metadata": {},
     "output_type": "execute_result"
    }
   ],
   "source": [
    "set1.difference(set2)"
   ]
  },
  {
   "cell_type": "code",
   "execution_count": 27,
   "id": "4c253ec8",
   "metadata": {},
   "outputs": [
    {
     "data": {
      "text/plain": [
       "{'Akash', 'Ankit', 'Prabhash', 'Sandeep'}"
      ]
     },
     "execution_count": 27,
     "metadata": {},
     "output_type": "execute_result"
    }
   ],
   "source": [
    "set1-set2"
   ]
  },
  {
   "cell_type": "code",
   "execution_count": 28,
   "id": "3172a1d8",
   "metadata": {},
   "outputs": [
    {
     "data": {
      "text/plain": [
       "{'Ankit', 'Prabhash', 'Sandeep'}"
      ]
     },
     "execution_count": 28,
     "metadata": {},
     "output_type": "execute_result"
    }
   ],
   "source": [
    "set1.difference(set2,set3)"
   ]
  },
  {
   "cell_type": "code",
   "execution_count": 29,
   "id": "2037e4c4",
   "metadata": {},
   "outputs": [
    {
     "data": {
      "text/plain": [
       "{'Akash', 'Ankit', 'Ankur', 'Bipul', 'Mayank', 'Prabhash', 'Sandeep', 'Uday'}"
      ]
     },
     "execution_count": 29,
     "metadata": {},
     "output_type": "execute_result"
    }
   ],
   "source": [
    "set1.symmetric_difference(set2)"
   ]
  },
  {
   "cell_type": "code",
   "execution_count": 30,
   "id": "75baf976",
   "metadata": {},
   "outputs": [
    {
     "data": {
      "text/plain": [
       "{'Akash', 'Ankit', 'Ankur', 'Bipul', 'Mayank', 'Prabhash', 'Sandeep', 'Uday'}"
      ]
     },
     "execution_count": 30,
     "metadata": {},
     "output_type": "execute_result"
    }
   ],
   "source": [
    "set1^set2"
   ]
  },
  {
   "cell_type": "code",
   "execution_count": 31,
   "id": "f2381fd5",
   "metadata": {},
   "outputs": [
    {
     "data": {
      "text/plain": [
       "False"
      ]
     },
     "execution_count": 31,
     "metadata": {},
     "output_type": "execute_result"
    }
   ],
   "source": [
    "set1.isdisjoint(set2)"
   ]
  },
  {
   "cell_type": "code",
   "execution_count": 32,
   "id": "d35cdd75",
   "metadata": {},
   "outputs": [
    {
     "data": {
      "text/plain": [
       "False"
      ]
     },
     "execution_count": 32,
     "metadata": {},
     "output_type": "execute_result"
    }
   ],
   "source": [
    "set1.issubset(set2)"
   ]
  },
  {
   "cell_type": "code",
   "execution_count": 33,
   "id": "b899a750",
   "metadata": {},
   "outputs": [
    {
     "data": {
      "text/plain": [
       "False"
      ]
     },
     "execution_count": 33,
     "metadata": {},
     "output_type": "execute_result"
    }
   ],
   "source": [
    "set2.issubset(set1)"
   ]
  },
  {
   "cell_type": "code",
   "execution_count": null,
   "id": "fb198e3a",
   "metadata": {},
   "outputs": [],
   "source": []
  }
 ],
 "metadata": {
  "kernelspec": {
   "display_name": "Python 3 (ipykernel)",
   "language": "python",
   "name": "python3"
  },
  "language_info": {
   "codemirror_mode": {
    "name": "ipython",
    "version": 3
   },
   "file_extension": ".py",
   "mimetype": "text/x-python",
   "name": "python",
   "nbconvert_exporter": "python",
   "pygments_lexer": "ipython3",
   "version": "3.9.12"
  }
 },
 "nbformat": 4,
 "nbformat_minor": 5
}
