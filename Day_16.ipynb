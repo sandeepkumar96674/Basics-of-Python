{
 "cells": [
  {
   "cell_type": "markdown",
   "id": "ea183049",
   "metadata": {},
   "source": [
    "> ### Functions"
   ]
  },
  {
   "cell_type": "code",
   "execution_count": 1,
   "id": "9aac94ec",
   "metadata": {},
   "outputs": [],
   "source": [
    "# Functions\n",
    "def greet ():\n",
    "    print(\"Hii\")\n",
    "    print(\"Sandeep\")"
   ]
  },
  {
   "cell_type": "code",
   "execution_count": 2,
   "id": "c701114a",
   "metadata": {},
   "outputs": [
    {
     "name": "stdout",
     "output_type": "stream",
     "text": [
      "Hii\n",
      "Sandeep\n"
     ]
    }
   ],
   "source": [
    "greet()"
   ]
  },
  {
   "cell_type": "code",
   "execution_count": 3,
   "id": "46ec5877",
   "metadata": {},
   "outputs": [
    {
     "name": "stdout",
     "output_type": "stream",
     "text": [
      "Enter a number:5\n",
      "Enter another number:5\n"
     ]
    },
    {
     "data": {
      "text/plain": [
       "10"
      ]
     },
     "execution_count": 3,
     "metadata": {},
     "output_type": "execute_result"
    }
   ],
   "source": [
    "def add(a,b):\n",
    "    c=a+b\n",
    "    return c\n",
    "a=int(input(\"Enter a number:\"))\n",
    "b=int(input(\"Enter another number:\"))\n",
    "add(a,b)"
   ]
  },
  {
   "cell_type": "code",
   "execution_count": 4,
   "id": "82b38e37",
   "metadata": {},
   "outputs": [
    {
     "name": "stdout",
     "output_type": "stream",
     "text": [
      "Enter your name:Sandeep\n",
      "Hii Sandeep\n"
     ]
    }
   ],
   "source": [
    "def greet (name):\n",
    "    print(f\"Hii {name}\")\n",
    "name=input(\"Enter your name:\")\n",
    "greet(name)"
   ]
  },
  {
   "cell_type": "markdown",
   "id": "312d976f",
   "metadata": {},
   "source": [
    "> ### Function with Argument"
   ]
  },
  {
   "cell_type": "code",
   "execution_count": 5,
   "id": "d9bab295",
   "metadata": {},
   "outputs": [
    {
     "name": "stdout",
     "output_type": "stream",
     "text": [
      "Enter your name:sadm\n",
      "Hello sadm\n",
      "Are you from CS Department\n",
      "Enter your name:dsadm\n",
      "Hello dsadm\n",
      "Are you from CS Department\n"
     ]
    }
   ],
   "source": [
    "def greet(): #no argument\n",
    "    name=input(\"Enter your name:\")\n",
    "    print(f\"Hello {name}\")\n",
    "    print(\"Are you from CS Department\")\n",
    "greet()\n",
    "greet()"
   ]
  },
  {
   "cell_type": "code",
   "execution_count": 6,
   "id": "6b9b408b",
   "metadata": {},
   "outputs": [
    {
     "name": "stdout",
     "output_type": "stream",
     "text": [
      "Hello ram\n",
      "Are you from CS Department\n",
      "\n",
      "Hello shyam\n",
      "Are you from CS Department\n",
      "\n"
     ]
    }
   ],
   "source": [
    "def greet(name):\n",
    "    print(f\"Hello {name}\")\n",
    "    print(\"Are you from CS Department\\n\")\n",
    "greet(\"ram\")\n",
    "greet(\"shyam\")"
   ]
  },
  {
   "cell_type": "code",
   "execution_count": 7,
   "id": "73fa7294",
   "metadata": {},
   "outputs": [
    {
     "data": {
      "text/plain": [
       "3"
      ]
     },
     "execution_count": 7,
     "metadata": {},
     "output_type": "execute_result"
    }
   ],
   "source": [
    "def add(a,b):\n",
    "    return a+b\n",
    "add(1,2)"
   ]
  },
  {
   "cell_type": "code",
   "execution_count": 8,
   "id": "f8d7cc7f",
   "metadata": {},
   "outputs": [
    {
     "data": {
      "text/plain": [
       "90"
      ]
     },
     "execution_count": 8,
     "metadata": {},
     "output_type": "execute_result"
    }
   ],
   "source": [
    "add(3,87)"
   ]
  },
  {
   "cell_type": "markdown",
   "id": "f971b177",
   "metadata": {},
   "source": [
    "> ### Types of Argument"
   ]
  },
  {
   "cell_type": "code",
   "execution_count": 15,
   "id": "01ff4abf",
   "metadata": {},
   "outputs": [
    {
     "name": "stdout",
     "output_type": "stream",
     "text": [
      "\n",
      "Hello CS\n",
      "Welcome to Sandeep Department\n"
     ]
    }
   ],
   "source": [
    "def greet(name,dep): #positional Argument\n",
    "    print(f\"\\nHello {name}\")\n",
    "    print(f\"Welcome to {dep} Department\")\n",
    "greet(\"CS\",\"Sandeep\")"
   ]
  },
  {
   "cell_type": "code",
   "execution_count": 16,
   "id": "e79e904c",
   "metadata": {},
   "outputs": [
    {
     "name": "stdout",
     "output_type": "stream",
     "text": [
      "\n",
      "Hello Sandeep\n",
      "Welcome to CS Department\n"
     ]
    }
   ],
   "source": [
    "def greet(name,dep): #keyword Argument\n",
    "    print(f\"\\nHello {name}\")\n",
    "    print(f\"Welcome to {dep} Department\")\n",
    "greet(dep=\"CS\",name=\"Sandeep\")"
   ]
  },
  {
   "cell_type": "code",
   "execution_count": 21,
   "id": "eefeb597",
   "metadata": {},
   "outputs": [
    {
     "name": "stdout",
     "output_type": "stream",
     "text": [
      "\n",
      "Hello Sandeep\n",
      "Welcome to CS Department\n"
     ]
    }
   ],
   "source": [
    "def greet(name,dep): #mixed\n",
    "    print(f\"\\nHello {name}\")\n",
    "    print(f\"Welcome to {dep} Department\")\n",
    "greet(\"Sandeep\",dep=\"CS\",)"
   ]
  },
  {
   "cell_type": "code",
   "execution_count": 23,
   "id": "f344e845",
   "metadata": {},
   "outputs": [
    {
     "name": "stdout",
     "output_type": "stream",
     "text": [
      "\n",
      "Hello Sandeep\n",
      "Welcome to CS Department with subject Java\n"
     ]
    }
   ],
   "source": [
    "def greet(name,sub,dep=\"CS\"): #here dep has default value \"CS\"\n",
    "    print(f\"\\nHello {name}\")\n",
    "    print(f\"Welcome to {dep} Department with subject {sub}\")\n",
    "greet(\"Sandeep\",\"Java\")"
   ]
  },
  {
   "cell_type": "code",
   "execution_count": 28,
   "id": "4473c5fb",
   "metadata": {},
   "outputs": [
    {
     "data": {
      "text/plain": [
       "57"
      ]
     },
     "execution_count": 28,
     "metadata": {},
     "output_type": "execute_result"
    }
   ],
   "source": [
    "# Arbitrary positional argument\n",
    "def add(*a): # \"*\" define positional argument\n",
    "    c=0\n",
    "    for i in a:\n",
    "        c=c+i\n",
    "    return c\n",
    "add(1,3,5,42,6)"
   ]
  },
  {
   "cell_type": "code",
   "execution_count": 29,
   "id": "5cb4c90f",
   "metadata": {},
   "outputs": [
    {
     "data": {
      "text/plain": [
       "905"
      ]
     },
     "execution_count": 29,
     "metadata": {},
     "output_type": "execute_result"
    }
   ],
   "source": [
    "add(2,54,245,25,345,234)"
   ]
  }
 ],
 "metadata": {
  "kernelspec": {
   "display_name": "Python 3 (ipykernel)",
   "language": "python",
   "name": "python3"
  },
  "language_info": {
   "codemirror_mode": {
    "name": "ipython",
    "version": 3
   },
   "file_extension": ".py",
   "mimetype": "text/x-python",
   "name": "python",
   "nbconvert_exporter": "python",
   "pygments_lexer": "ipython3",
   "version": "3.9.12"
  }
 },
 "nbformat": 4,
 "nbformat_minor": 5
}
