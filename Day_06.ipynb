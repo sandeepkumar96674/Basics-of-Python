{
 "cells": [
  {
   "cell_type": "markdown",
   "id": "96a7a181",
   "metadata": {},
   "source": [
    "> ### Conditional Statement"
   ]
  },
  {
   "cell_type": "code",
   "execution_count": 10,
   "id": "94e140cb",
   "metadata": {},
   "outputs": [
    {
     "name": "stdout",
     "output_type": "stream",
     "text": [
      "Enter your height in feet:2\n",
      "No token required\n",
      "\n",
      "Out of the conditional statement\n"
     ]
    }
   ],
   "source": [
    "# if-else statement\n",
    "height=int(input(\"Enter your height in feet:\"))\n",
    "if(height>3):\n",
    "    print(\"Token is required to enter\\n\")\n",
    "    print(\"Then you can board to metro\\n\")\n",
    "else:\n",
    "    print(\"No token required\\n\")\n",
    "    \n",
    "print(\"Out of the conditional statement\")"
   ]
  },
  {
   "cell_type": "markdown",
   "id": "53cba56f",
   "metadata": {},
   "source": [
    "> #### Excercise "
   ]
  },
  {
   "cell_type": "code",
   "execution_count": 11,
   "id": "76d4f2b4",
   "metadata": {},
   "outputs": [
    {
     "name": "stdout",
     "output_type": "stream",
     "text": [
      "Enter a integer: 6\n",
      "The number 6 is Even\n"
     ]
    }
   ],
   "source": [
    "# even or odd\n",
    "number=int(input(\"Enter a integer: \"))\n",
    "if(number%2==0):\n",
    "    print(f\"The number {number} is Even\")\n",
    "else:\n",
    "    print(f\"The number {number} is Odd\")"
   ]
  },
  {
   "cell_type": "markdown",
   "id": "8dfe48fb",
   "metadata": {},
   "source": [
    "> ### Nested if-else and elif"
   ]
  },
  {
   "cell_type": "code",
   "execution_count": 16,
   "id": "15f942db",
   "metadata": {},
   "outputs": [
    {
     "name": "stdout",
     "output_type": "stream",
     "text": [
      "Enter your height in feet: 5\n",
      "You can ride the roller-coster\n",
      "Enter your age: 12\n",
      "You have to pay RS:300\n",
      "Thank You😊\n"
     ]
    }
   ],
   "source": [
    "# Nested if\n",
    "height=int(input(\"Enter your height in feet: \"))\n",
    "if height>=3:\n",
    "    print(\"You can ride the roller-coster\")\n",
    "    age=int(input(\"Enter your age: \"))\n",
    "    if age>=15:\n",
    "        print(\"You have to pay only RS:500 \")\n",
    "    else:\n",
    "        print(\"You have to pay RS:300\")\n",
    "else:\n",
    "    print(\"You are not eligible for ride to a roller coster\")\n",
    "    \n",
    "print(\"Thank You😊\")"
   ]
  },
  {
   "cell_type": "code",
   "execution_count": 18,
   "id": "7f75b5bb",
   "metadata": {},
   "outputs": [
    {
     "name": "stdout",
     "output_type": "stream",
     "text": [
      "Enter your height in feet: 5\n",
      "You can ride the roller-coster\n",
      "Enter your age: 14\n",
      "You have to pay only RS:300\n",
      "Thank You😊\n"
     ]
    }
   ],
   "source": [
    "#Elif\n",
    "height=int(input(\"Enter your height in feet: \"))\n",
    "if height>=3:\n",
    "    print(\"You can ride the roller-coster\")\n",
    "    age=int(input(\"Enter your age: \"))\n",
    "    if age<10:\n",
    "        print(\"You have to pay only RS:200 \")\n",
    "    elif age<=18:\n",
    "        print(\"You have to pay only RS:300\")\n",
    "    else:\n",
    "        print(\"You have to pay RS:500\")\n",
    "else:\n",
    "    print(\"You are not eligible for ride to a roller coster\")\n",
    "    \n",
    "print(\"Thank You😊\")"
   ]
  },
  {
   "cell_type": "markdown",
   "id": "1664c4f5",
   "metadata": {},
   "source": [
    "> ### Excercise"
   ]
  },
  {
   "cell_type": "code",
   "execution_count": 31,
   "id": "8b53cc63",
   "metadata": {},
   "outputs": [
    {
     "name": "stdout",
     "output_type": "stream",
     "text": [
      "Enter your height in meter: 1.73\n",
      "Enter your weight: 63\n",
      "You are in Normal range\n"
     ]
    }
   ],
   "source": [
    "height=float(input(\"Enter your height in meter: \"))\n",
    "weight=float(input(\"Enter your weight: \"))\n",
    "BMI=round(weight/height**2)\n",
    "if BMI<18.5:\n",
    "    print(\"You are underweighted\")\n",
    "elif BMI<18.5 or BMI<24.9:\n",
    "    print(\"You are in Normal range\")\n",
    "else:\n",
    "    print(\"You are overweighted\")"
   ]
  },
  {
   "cell_type": "code",
   "execution_count": 39,
   "id": "c6a3872c",
   "metadata": {},
   "outputs": [
    {
     "name": "stdout",
     "output_type": "stream",
     "text": [
      "Enter the Year: 133\n",
      "The year 133 is not a Leep Year\n"
     ]
    }
   ],
   "source": [
    "year=int(input(\"Enter the Year: \"))\n",
    "if (year%4==0):\n",
    "    if (year%100==0):\n",
    "        if(year%400==0):\n",
    "            print(f\"This year {year} is a Leep Year\")\n",
    "        else:\n",
    "            print(f\"This year {year} is Not a Leep Year\")\n",
    "    else:\n",
    "        print(f\"This year {year} is a Leep Year\")\n",
    "else:\n",
    "    print(f\"The year {year} is not a Leep Year\")"
   ]
  },
  {
   "cell_type": "code",
   "execution_count": 5,
   "id": "bff0029e",
   "metadata": {},
   "outputs": [
    {
     "name": "stdout",
     "output_type": "stream",
     "text": [
      "Enter your height in feet: 6\n",
      "You can ride the roller-coster\n",
      "Enter your age: 19\n",
      "Fixed amount for the ride is 500\n",
      "Do you want to click photo during the ride just press y or Y: y\n",
      "You have to pay RS: 550\n",
      "Thank You😊\n"
     ]
    }
   ],
   "source": [
    "height=int(input(\"Enter your height in feet: \"))\n",
    "bill=0\n",
    "if height>=3:\n",
    "    print(\"You can ride the roller-coster\")\n",
    "    age=int(input(\"Enter your age: \"))\n",
    "    if age<10:\n",
    "        bill=150\n",
    "        print(\"Fixed amount for the ride is 150\")\n",
    "    elif age<=18:\n",
    "        bill=250\n",
    "        print(\"Fixed amount for the ride is 250\")\n",
    "    else:\n",
    "        bill=500\n",
    "        print(\"Fixed amount for the ride is 500\")\n",
    "    pic_ans=input(\"Do you want to click photo during the ride just press y or Y: \")\n",
    "    if pic_ans==\"Y\" or pic_ans==\"y\":\n",
    "        bill=bill+50\n",
    "    print(f\"You have to pay RS: {bill}\")\n",
    "else:\n",
    "    print(\"You are not eligible for ride to a roller coster\")\n",
    "    \n",
    "print(\"Thank You😊\")"
   ]
  },
  {
   "cell_type": "code",
   "execution_count": null,
   "id": "e6ac79f3",
   "metadata": {},
   "outputs": [],
   "source": []
  }
 ],
 "metadata": {
  "kernelspec": {
   "display_name": "Python 3 (ipykernel)",
   "language": "python",
   "name": "python3"
  },
  "language_info": {
   "codemirror_mode": {
    "name": "ipython",
    "version": 3
   },
   "file_extension": ".py",
   "mimetype": "text/x-python",
   "name": "python",
   "nbconvert_exporter": "python",
   "pygments_lexer": "ipython3",
   "version": "3.9.12"
  }
 },
 "nbformat": 4,
 "nbformat_minor": 5
}
