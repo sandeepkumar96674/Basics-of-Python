{
 "cells": [
  {
   "cell_type": "code",
   "execution_count": 4,
   "id": "ae2f994a",
   "metadata": {},
   "outputs": [
    {
     "name": "stdout",
     "output_type": "stream",
     "text": [
      "1\n",
      "2\n",
      "3\n",
      "Out of the Loop\n"
     ]
    }
   ],
   "source": [
    "#break\n",
    "for i in range(1,10):\n",
    "    print(i)\n",
    "    if i%3==0:\n",
    "        break\n",
    "print(\"Out of the Loop\")"
   ]
  },
  {
   "cell_type": "code",
   "execution_count": 5,
   "id": "db1fd784",
   "metadata": {},
   "outputs": [
    {
     "name": "stdout",
     "output_type": "stream",
     "text": [
      "Hi Kumar\n",
      "Hi Abhay\n",
      "Hi Anmol\n",
      "Out from inner Loop\n",
      "Hello Kumar\n",
      "Hello Abhay\n",
      "Out from inner Loop\n",
      "Welcome Kumar\n",
      "Welcome Abhay\n",
      "Welcome Anmol\n",
      "Out from inner Loop\n",
      "Out of the Outer Loop Body\n"
     ]
    }
   ],
   "source": [
    "list1=[\"Hi\",\"Hello\",\"Welcome\"]\n",
    "list2=[\"Kumar\",\"Abhay\",\"Anmol\"]\n",
    "for i in list1:\n",
    "    for name in list2:\n",
    "        print(i,name)\n",
    "        if i==\"Hello\" and name==\"Abhay\":\n",
    "            break\n",
    "    print(\"Out from inner Loop\")\n",
    "print(\"Out of the Outer Loop Body\")"
   ]
  },
  {
   "cell_type": "code",
   "execution_count": 8,
   "id": "ee6348a3",
   "metadata": {},
   "outputs": [
    {
     "name": "stdout",
     "output_type": "stream",
     "text": [
      "Hello number 1\n",
      "Hello number 2\n",
      "Hello number 3\n",
      "Hello number 4\n",
      "Hello number 5\n",
      "Hello number 6\n",
      "Hello number 7\n",
      "Hello number 9\n",
      "Out of the Loop\n"
     ]
    }
   ],
   "source": [
    "#break\n",
    "for i in range(1,10):\n",
    "    if i==8:\n",
    "        continue\n",
    "    print(\"Hello number\",i)\n",
    "print(\"Out of the Loop\")"
   ]
  },
  {
   "cell_type": "code",
   "execution_count": 12,
   "id": "0c4a3214",
   "metadata": {},
   "outputs": [
    {
     "name": "stdout",
     "output_type": "stream",
     "text": [
      "0\n",
      "Executed\n",
      "1\n",
      "Executed\n",
      "2\n",
      "Executed\n",
      "3\n",
      "Executed\n",
      "4\n",
      "Executed\n",
      "5\n",
      "Executed\n",
      "6\n",
      "7\n",
      "Executed\n",
      "8\n",
      "Executed\n",
      "9\n",
      "Executed\n",
      "10\n",
      "Executed\n",
      "Out of the Loop\n"
     ]
    }
   ],
   "source": [
    "count=0\n",
    "while count<=10:\n",
    "    print(count)\n",
    "    count+=1\n",
    "    if count==7:\n",
    "        continue\n",
    "    print(\"Executed\")\n",
    "print(\"Out of the Loop\")"
   ]
  },
  {
   "cell_type": "code",
   "execution_count": 13,
   "id": "1d0a3295",
   "metadata": {},
   "outputs": [
    {
     "name": "stdout",
     "output_type": "stream",
     "text": [
      "1\n",
      "2\n",
      "3\n",
      "4\n",
      "5\n",
      "6\n",
      "8\n",
      "9\n",
      "10\n"
     ]
    }
   ],
   "source": [
    "for i in range(1,11):\n",
    "    if i ==7:\n",
    "        continue\n",
    "    else:\n",
    "        print(i)"
   ]
  },
  {
   "cell_type": "code",
   "execution_count": 14,
   "id": "3dbb2238",
   "metadata": {},
   "outputs": [],
   "source": [
    "for i in range(8):\n",
    "    pass"
   ]
  },
  {
   "cell_type": "code",
   "execution_count": 17,
   "id": "2bd43901",
   "metadata": {},
   "outputs": [
    {
     "name": "stdout",
     "output_type": "stream",
     "text": [
      "1\n",
      "Hello\n",
      "2\n",
      "Hello\n",
      "3\n",
      "Hello\n",
      "4\n",
      "Hello\n",
      "5\n",
      "Hello\n",
      "6\n",
      "Hello\n",
      "7\n",
      "Hello\n",
      "8\n",
      "Hello\n",
      "9\n",
      "Hello\n",
      "10\n",
      "Hello\n"
     ]
    }
   ],
   "source": [
    "for i in range(1,11):\n",
    "    print(i)\n",
    "    if i ==7:\n",
    "        pass\n",
    "    print(\"Hello\")"
   ]
  },
  {
   "cell_type": "code",
   "execution_count": 25,
   "id": "7ef77a89",
   "metadata": {
    "scrolled": true
   },
   "outputs": [
    {
     "name": "stdout",
     "output_type": "stream",
     "text": [
      "1\n",
      "2\n",
      "3\n",
      "4\n",
      "5\n",
      "6\n",
      "7\n",
      "8\n",
      "9\n"
     ]
    }
   ],
   "source": [
    "for i in range(1,10):\n",
    "  print(i)"
   ]
  }
 ],
 "metadata": {
  "kernelspec": {
   "display_name": "Python 3 (ipykernel)",
   "language": "python",
   "name": "python3"
  },
  "language_info": {
   "codemirror_mode": {
    "name": "ipython",
    "version": 3
   },
   "file_extension": ".py",
   "mimetype": "text/x-python",
   "name": "python",
   "nbconvert_exporter": "python",
   "pygments_lexer": "ipython3",
   "version": "3.9.12"
  }
 },
 "nbformat": 4,
 "nbformat_minor": 5
}
