{
 "cells": [
  {
   "cell_type": "markdown",
   "id": "f7542356",
   "metadata": {},
   "source": [
    "> ### Hangman Game\n",
    "\n",
    "* You have to guess the word by entering letter by letter within the given live attempt i.e the lenght of the word.\n",
    " \n",
    "* Each wrong guess decrease the count of the number of lives\n",
    "* If you guessed the right letter, the live will not be decrease. "
   ]
  },
  {
   "cell_type": "code",
   "execution_count": 1,
   "id": "f5f8c5a9",
   "metadata": {},
   "outputs": [
    {
     "name": "stdout",
     "output_type": "stream",
     "text": [
      "['_', '_', '_', '_', '_', '_']\n",
      "Guess a letter:d\n",
      "['_', '_', '_', '_', '_', '_']\n",
      "Guess a letter:a\n",
      "['_', '_', '_', '_', '_', '_']\n",
      "Guess a letter:c\n",
      "['c', '_', '_', '_', '_', '_']\n",
      "Guess a letter:o\n",
      "['c', 'o', '_', '_', '_', '_']\n",
      "Guess a letter:l\n",
      "['c', 'o', '_', '_', '_', '_']\n",
      "Guess a letter:m\n",
      "['c', 'o', '_', '_', '_', '_']\n",
      "Guess a letter:f\n",
      "['c', 'o', 'f', 'f', '_', '_']\n",
      "Guess a letter:e\n",
      "['c', 'o', 'f', 'f', 'e', 'e']\n",
      "\n",
      "You Win\n",
      "\n",
      "The chosen word was coffee and you guessed the word Correclty 🥳\n"
     ]
    }
   ],
   "source": [
    "import random\n",
    "word_list=[\"apple\",\"banana\",\"carrot\",\"donkey\",\"memory\",\"computer\",\"mobile\",\"coffee\",\"college\",\"learning\",\"human\"] \n",
    "\n",
    "chosen_word=random.choice(word_list) #randomly choose the word\n",
    "display=[] #empty list for storing the guessed word letter by letter\n",
    "\n",
    "for i in range(len(chosen_word)):\n",
    "    display+='_'# adding blank space to the list as the length of the chosen word\n",
    "print(display)\n",
    "\n",
    "live=6\n",
    "game_over=False #bydefault the game will be on start mode until the game_over condition not satisfied\n",
    "\n",
    "while not game_over:\n",
    "    guessed_letter=input(\"Guess a letter:\").lower() #taking input from user for guessing the number in lowercase\n",
    "    for position in range(len(chosen_word)): #iterating the loop till the length of the chosen word\n",
    "        letter=chosen_word[position]\n",
    "        \n",
    "        if letter==guessed_letter: #comapring the guessed letter with letter of chosen word\n",
    "            display[position]=guessed_letter #if the above condition is true, add the letter in the blank list i.e display\n",
    "    print(display)\n",
    "    \n",
    "    if guessed_letter not in chosen_word: #if the guessed letter is not present in the chosen word\n",
    "        live-=1 #decrease the live by 1.\n",
    "        if live==0: # if the live count is 0,the game will be over\n",
    "            \n",
    "            game_over=True\n",
    "            print(\"\\nYou Lose..!!\\n\")\n",
    "            print(f\"The chosen word was {chosen_word} and you could not guessed the word Correclty 🥲\")\n",
    "            \n",
    "    if '_' not in display: #if the user guessed all the word correclty the Game will be over with \n",
    "        game_over=True\n",
    "        print(\"\\nYou Win\\n\")\n",
    "        print(f\"The chosen word was {chosen_word} and you guessed the word Correclty 🥳\")"
   ]
  }
 ],
 "metadata": {
  "kernelspec": {
   "display_name": "Python 3 (ipykernel)",
   "language": "python",
   "name": "python3"
  },
  "language_info": {
   "codemirror_mode": {
    "name": "ipython",
    "version": 3
   },
   "file_extension": ".py",
   "mimetype": "text/x-python",
   "name": "python",
   "nbconvert_exporter": "python",
   "pygments_lexer": "ipython3",
   "version": "3.9.12"
  }
 },
 "nbformat": 4,
 "nbformat_minor": 5
}
