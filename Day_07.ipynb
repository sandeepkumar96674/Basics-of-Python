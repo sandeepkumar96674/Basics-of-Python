{
 "cells": [
  {
   "cell_type": "markdown",
   "id": "142fb25d",
   "metadata": {},
   "source": [
    "> ### Excercise"
   ]
  },
  {
   "cell_type": "code",
   "execution_count": 1,
   "id": "753f517c",
   "metadata": {},
   "outputs": [
    {
     "name": "stdout",
     "output_type": "stream",
     "text": [
      "Enter your name:Sandeep\n",
      "Sandeep, Which size of Pizza you want to buy: \n",
      "1.Small \n",
      "2.Medium \n",
      "3.Large \n",
      "1\n",
      "Sandeep,Do you need Pepperoni: (Y/N)y\n",
      "Total bill till now is: 130\n",
      "You want Extra cheese for Pizza:n\n",
      "Sandeep,You have to pay total amount 130\n",
      "Thank You😊\n"
     ]
    }
   ],
   "source": [
    "name=input(\"Enter your name:\")\n",
    "pizza_size=int(input(f\"{name}, Which size of Pizza you want to buy: \\n1.Small \\n2.Medium \\n3.Large \\n\"))\n",
    "bill=0\n",
    "pepperoni_small=30\n",
    "pepperoni_other=50\n",
    "if(pizza_size==1):\n",
    "    bill=100\n",
    "elif (pizza_size==2):\n",
    "    bill=200\n",
    "else:\n",
    "    bill=300\n",
    "add_pepperoni=input(f\"{name},Do you need Pepperoni: (Y/N)\")\n",
    "if(add_pepperoni==\"y\" or add_pepperoni==\"Y\"):\n",
    "    if(pizza_size==1):\n",
    "        bill=bill+pepperoni_small\n",
    "    elif(pizza_size==2):\n",
    "        bill=bill+pepperoni_other\n",
    "    else:\n",
    "        bill=bill+pepperoni_other\n",
    "    print(f\"Total bill till now is: {bill}\")\n",
    "else:\n",
    "    print(\"Thank You\")\n",
    "    print(f\"Total bill till now is: {bill}\")\n",
    "answer=input(\"You want Extra cheese for Pizza:\")\n",
    "if answer==\"Y\" or answer==\"y\":\n",
    "    bill=bill+20\n",
    "print(f\"{name},You have to pay total amount {bill}\")\n",
    "print(\"Thank You😊\")"
   ]
  },
  {
   "cell_type": "markdown",
   "id": "fb49a3a9",
   "metadata": {},
   "source": [
    "> ### Love Calculator"
   ]
  },
  {
   "cell_type": "code",
   "execution_count": 13,
   "id": "96bc98f7",
   "metadata": {},
   "outputs": [
    {
     "name": "stdout",
     "output_type": "stream",
     "text": [
      "Enter your name: Sandeep\n",
      "Enter his/her nameSandeep\n",
      "Your total love score is: 44\n",
      "According to the Love Score:\n",
      "Your relationship is Good\n"
     ]
    }
   ],
   "source": [
    "name1=input(\"Enter your name: \")\n",
    "name2=input(\"Enter his/her name: \")\n",
    "name=name1+name2\n",
    "name=name.lower()\n",
    "t=name.count(\"t\")\n",
    "r=name.count(\"r\")\n",
    "u=name.count(\"u\")\n",
    "e=name.count(\"e\")\n",
    "\n",
    "true=t+r+u+e\n",
    "\n",
    "l=name.count(\"l\")\n",
    "o=name.count(\"o\")\n",
    "v=name.count(\"v\")\n",
    "e=name.count(\"e\")\n",
    "love=l+o+v+e\n",
    "\n",
    "total_score=str(true)+str(love)\n",
    "\n",
    "total_score=int(total_score)\n",
    "\n",
    "print(f\"Your total love score is: {total_score}\")\n",
    "\n",
    "print(\"According to the Love Score:\")\n",
    "if(total_score<40):\n",
    "    print(\"Your relationship is in an average stage\")\n",
    "elif(total_score<70):\n",
    "    print(\"Your relationship is Good\")\n",
    "else:\n",
    "    print(\"Your relationship is Amazing\")"
   ]
  },
  {
   "cell_type": "markdown",
   "id": "036eede5",
   "metadata": {},
   "source": [
    "> ### Python List"
   ]
  },
  {
   "cell_type": "code",
   "execution_count": 48,
   "id": "2cf9ffca",
   "metadata": {},
   "outputs": [],
   "source": [
    "roll_no=[1,2,3,8,56,7]\n",
    "name=[\"Sandeep\",\"Pranav\",\"Vivek\",\"Shyam\"]\n",
    "mixed=[1,\"Sandeep\",False]"
   ]
  },
  {
   "cell_type": "code",
   "execution_count": 30,
   "id": "5ebe4463",
   "metadata": {},
   "outputs": [
    {
     "data": {
      "text/plain": [
       "[1, 'Sandeep', False]"
      ]
     },
     "execution_count": 30,
     "metadata": {},
     "output_type": "execute_result"
    }
   ],
   "source": [
    "mixed"
   ]
  },
  {
   "cell_type": "code",
   "execution_count": 31,
   "id": "3d145843",
   "metadata": {},
   "outputs": [
    {
     "name": "stdout",
     "output_type": "stream",
     "text": [
      "3\n"
     ]
    }
   ],
   "source": [
    "print(roll_no[2])"
   ]
  },
  {
   "cell_type": "code",
   "execution_count": 32,
   "id": "ec283933",
   "metadata": {},
   "outputs": [
    {
     "data": {
      "text/plain": [
       "list"
      ]
     },
     "execution_count": 32,
     "metadata": {},
     "output_type": "execute_result"
    }
   ],
   "source": [
    "type(mixed)"
   ]
  },
  {
   "cell_type": "code",
   "execution_count": 33,
   "id": "6b950c63",
   "metadata": {},
   "outputs": [
    {
     "data": {
      "text/plain": [
       "bool"
      ]
     },
     "execution_count": 33,
     "metadata": {},
     "output_type": "execute_result"
    }
   ],
   "source": [
    "type(mixed[2])"
   ]
  },
  {
   "cell_type": "code",
   "execution_count": 34,
   "id": "5dd4f196",
   "metadata": {},
   "outputs": [
    {
     "data": {
      "text/plain": [
       "4"
      ]
     },
     "execution_count": 34,
     "metadata": {},
     "output_type": "execute_result"
    }
   ],
   "source": [
    "len(name)"
   ]
  },
  {
   "cell_type": "code",
   "execution_count": 35,
   "id": "03620a5e",
   "metadata": {},
   "outputs": [
    {
     "data": {
      "text/plain": [
       "6"
      ]
     },
     "execution_count": 35,
     "metadata": {},
     "output_type": "execute_result"
    }
   ],
   "source": [
    "len(roll_no)"
   ]
  },
  {
   "cell_type": "code",
   "execution_count": 36,
   "id": "f3036902",
   "metadata": {},
   "outputs": [
    {
     "data": {
      "text/plain": [
       "8"
      ]
     },
     "execution_count": 36,
     "metadata": {},
     "output_type": "execute_result"
    }
   ],
   "source": [
    "roll_no[-3]"
   ]
  },
  {
   "cell_type": "code",
   "execution_count": 37,
   "id": "2c83f7d4",
   "metadata": {},
   "outputs": [
    {
     "data": {
      "text/plain": [
       "[3, 8, 56]"
      ]
     },
     "execution_count": 37,
     "metadata": {},
     "output_type": "execute_result"
    }
   ],
   "source": [
    "roll_no[2:5]"
   ]
  },
  {
   "cell_type": "code",
   "execution_count": 38,
   "id": "1907c524",
   "metadata": {},
   "outputs": [],
   "source": [
    "roll_no.sort()"
   ]
  },
  {
   "cell_type": "code",
   "execution_count": 39,
   "id": "3912c257",
   "metadata": {},
   "outputs": [
    {
     "name": "stdout",
     "output_type": "stream",
     "text": [
      "[1, 2, 3, 7, 8, 56]\n"
     ]
    }
   ],
   "source": [
    "print(roll_no)"
   ]
  },
  {
   "cell_type": "code",
   "execution_count": 40,
   "id": "86bea2bb",
   "metadata": {},
   "outputs": [],
   "source": [
    "roll_no.reverse()"
   ]
  },
  {
   "cell_type": "code",
   "execution_count": 41,
   "id": "4d8729d3",
   "metadata": {},
   "outputs": [
    {
     "name": "stdout",
     "output_type": "stream",
     "text": [
      "[56, 8, 7, 3, 2, 1]\n"
     ]
    }
   ],
   "source": [
    "print(roll_no)"
   ]
  },
  {
   "cell_type": "code",
   "execution_count": 42,
   "id": "b64a0314",
   "metadata": {},
   "outputs": [
    {
     "name": "stdout",
     "output_type": "stream",
     "text": [
      "56\n"
     ]
    }
   ],
   "source": [
    "print(max(roll_no))"
   ]
  },
  {
   "cell_type": "code",
   "execution_count": 50,
   "id": "77a69ef9",
   "metadata": {},
   "outputs": [],
   "source": [
    "roll_no.append(19)"
   ]
  },
  {
   "cell_type": "code",
   "execution_count": 51,
   "id": "05b5e968",
   "metadata": {},
   "outputs": [
    {
     "data": {
      "text/plain": [
       "[1, 2, 3, 8, 56, 7, 19]"
      ]
     },
     "execution_count": 51,
     "metadata": {},
     "output_type": "execute_result"
    }
   ],
   "source": [
    "roll_no"
   ]
  },
  {
   "cell_type": "code",
   "execution_count": 54,
   "id": "5253934b",
   "metadata": {},
   "outputs": [
    {
     "name": "stdout",
     "output_type": "stream",
     "text": [
      "[1, 200, 3, 8, 56, 7, 19]\n"
     ]
    }
   ],
   "source": [
    "#change the value of list\n",
    "roll_no[1]=200\n",
    "print(roll_no)"
   ]
  },
  {
   "cell_type": "code",
   "execution_count": 55,
   "id": "47d90334",
   "metadata": {},
   "outputs": [],
   "source": [
    "roll_no[1:4]=[28,25,19]"
   ]
  },
  {
   "cell_type": "code",
   "execution_count": 56,
   "id": "706caabc",
   "metadata": {},
   "outputs": [
    {
     "data": {
      "text/plain": [
       "[1, 28, 25, 19, 56, 7, 19]"
      ]
     },
     "execution_count": 56,
     "metadata": {},
     "output_type": "execute_result"
    }
   ],
   "source": [
    "roll_no"
   ]
  },
  {
   "cell_type": "code",
   "execution_count": 57,
   "id": "16544416",
   "metadata": {},
   "outputs": [],
   "source": [
    "roll_no.remove(19) #it will remove first occurance of the element"
   ]
  },
  {
   "cell_type": "code",
   "execution_count": 58,
   "id": "fb612045",
   "metadata": {},
   "outputs": [
    {
     "data": {
      "text/plain": [
       "[1, 28, 25, 56, 7, 19]"
      ]
     },
     "execution_count": 58,
     "metadata": {},
     "output_type": "execute_result"
    }
   ],
   "source": [
    "roll_no"
   ]
  },
  {
   "cell_type": "code",
   "execution_count": 59,
   "id": "dc179520",
   "metadata": {},
   "outputs": [
    {
     "name": "stdout",
     "output_type": "stream",
     "text": [
      "19\n"
     ]
    }
   ],
   "source": [
    "print(roll_no.pop())"
   ]
  },
  {
   "cell_type": "code",
   "execution_count": 60,
   "id": "f41f2936",
   "metadata": {},
   "outputs": [
    {
     "data": {
      "text/plain": [
       "[1, 28, 25, 56, 7]"
      ]
     },
     "execution_count": 60,
     "metadata": {},
     "output_type": "execute_result"
    }
   ],
   "source": [
    "roll_no"
   ]
  },
  {
   "cell_type": "code",
   "execution_count": 62,
   "id": "9c28e37c",
   "metadata": {},
   "outputs": [
    {
     "data": {
      "text/plain": [
       "25"
      ]
     },
     "execution_count": 62,
     "metadata": {},
     "output_type": "execute_result"
    }
   ],
   "source": [
    "roll_no.pop(2)"
   ]
  },
  {
   "cell_type": "code",
   "execution_count": 63,
   "id": "d2c16e2e",
   "metadata": {},
   "outputs": [
    {
     "data": {
      "text/plain": [
       "[1, 28, 56, 7]"
      ]
     },
     "execution_count": 63,
     "metadata": {},
     "output_type": "execute_result"
    }
   ],
   "source": [
    "roll_no"
   ]
  },
  {
   "cell_type": "code",
   "execution_count": 64,
   "id": "385d5d79",
   "metadata": {},
   "outputs": [],
   "source": [
    "roll_no.extend([34,35,24,235,23])"
   ]
  },
  {
   "cell_type": "code",
   "execution_count": 65,
   "id": "0c3b0ef1",
   "metadata": {},
   "outputs": [
    {
     "data": {
      "text/plain": [
       "[1, 28, 56, 7, 34, 35, 24, 235, 23]"
      ]
     },
     "execution_count": 65,
     "metadata": {},
     "output_type": "execute_result"
    }
   ],
   "source": [
    "roll_no"
   ]
  },
  {
   "cell_type": "code",
   "execution_count": 66,
   "id": "21a4cddf",
   "metadata": {},
   "outputs": [
    {
     "name": "stdout",
     "output_type": "stream",
     "text": [
      "1\n"
     ]
    }
   ],
   "source": [
    "print(roll_no.count(34))"
   ]
  },
  {
   "cell_type": "markdown",
   "id": "4ef1afd3",
   "metadata": {},
   "source": [
    "> ### Random Module/Randomization"
   ]
  },
  {
   "cell_type": "code",
   "execution_count": 84,
   "id": "42ef51e6",
   "metadata": {},
   "outputs": [
    {
     "name": "stdout",
     "output_type": "stream",
     "text": [
      "7\n"
     ]
    }
   ],
   "source": [
    "import random \n",
    "a=random.randint(1,9)\n",
    "print(a)"
   ]
  },
  {
   "cell_type": "code",
   "execution_count": 105,
   "id": "21f56336",
   "metadata": {},
   "outputs": [
    {
     "name": "stdout",
     "output_type": "stream",
     "text": [
      "4\n"
     ]
    }
   ],
   "source": [
    "a=random.randrange(1,5)\n",
    "print(a)"
   ]
  },
  {
   "cell_type": "code",
   "execution_count": 114,
   "id": "eee6df6c",
   "metadata": {},
   "outputs": [
    {
     "name": "stdout",
     "output_type": "stream",
     "text": [
      "0.4101297617910423\n"
     ]
    }
   ],
   "source": [
    "a=random.random()\n",
    "print(a)"
   ]
  },
  {
   "cell_type": "code",
   "execution_count": 119,
   "id": "ccf841de",
   "metadata": {},
   "outputs": [
    {
     "name": "stdout",
     "output_type": "stream",
     "text": [
      "1.0303696649727243\n"
     ]
    }
   ],
   "source": [
    "a=random.uniform(1,4)\n",
    "print(a)"
   ]
  },
  {
   "cell_type": "code",
   "execution_count": 128,
   "id": "258035d3",
   "metadata": {},
   "outputs": [
    {
     "name": "stdout",
     "output_type": "stream",
     "text": [
      "53\n"
     ]
    }
   ],
   "source": [
    "l=[1,43,53,26,39,0,45,22,20]\n",
    "a=random.choice(l)\n",
    "print(a)"
   ]
  },
  {
   "cell_type": "code",
   "execution_count": 135,
   "id": "532065e8",
   "metadata": {},
   "outputs": [
    {
     "name": "stdout",
     "output_type": "stream",
     "text": [
      "[20, 22, 45, 1, 53, 43, 0, 39, 26]\n"
     ]
    }
   ],
   "source": [
    "random.shuffle(l)\n",
    "print(l)"
   ]
  },
  {
   "cell_type": "markdown",
   "id": "70aa7c8d",
   "metadata": {},
   "source": [
    "> ### Virtual Coin Test Program"
   ]
  },
  {
   "cell_type": "code",
   "execution_count": 144,
   "id": "abbb61c2",
   "metadata": {},
   "outputs": [
    {
     "name": "stdout",
     "output_type": "stream",
     "text": [
      "Enter your choice (Head=1,Tails=0):1\n",
      "1\n",
      "Your 1 and 1 is same\n",
      "Your answer is correct\n"
     ]
    }
   ],
   "source": [
    "coin=random.randint(0,1)\n",
    "ans=int(input(\"Enter your choice (Head=1,Tails=0):\"))\n",
    "print(coin)\n",
    "if coin==ans:\n",
    "    print(f\"Your {ans} and {coin} is same\")\n",
    "    print(\"Your answer is correct\")\n",
    "else:\n",
    "    print(f\"Your {ans} and {coin} is not same\")\n",
    "    print(\"Your answer is wrong\")"
   ]
  },
  {
   "cell_type": "code",
   "execution_count": 9,
   "id": "41d14d72",
   "metadata": {},
   "outputs": [
    {
     "name": "stdout",
     "output_type": "stream",
     "text": [
      "Enter everybody's name separated by comma: Sandeep,Pranav,Vivek,Shyam,Ujjawal\n",
      "You have entered name's: ['Sandeep', 'Pranav', 'Vivek', 'Shyam', 'Ujjawal']\n",
      "Sandeep will pay the bill\n"
     ]
    }
   ],
   "source": [
    "import random\n",
    "names=input(\"Enter everybody's name separated by comma: \")\n",
    "names=names.split(\",\")\n",
    "print(\"You have entered name's:\",names)\n",
    "random_choice=random.randint(0,len(names)-1)\n",
    "print(f\"{names[random_choice]} will pay the bill\")"
   ]
  },
  {
   "cell_type": "markdown",
   "id": "12da3c4c",
   "metadata": {},
   "source": [
    "> ### Index Error"
   ]
  },
  {
   "cell_type": "code",
   "execution_count": 10,
   "id": "66747bb9",
   "metadata": {},
   "outputs": [
    {
     "name": "stdout",
     "output_type": "stream",
     "text": [
      "Hi,Vivek\n"
     ]
    }
   ],
   "source": [
    "names=[\"Sandeep\",\"Pranav\",\"Vivek\"]\n",
    "print(f\"Hi,{names[2]}\")"
   ]
  },
  {
   "cell_type": "code",
   "execution_count": 11,
   "id": "936cd568",
   "metadata": {},
   "outputs": [
    {
     "ename": "IndexError",
     "evalue": "list index out of range",
     "output_type": "error",
     "traceback": [
      "\u001b[1;31m---------------------------------------------------------------------------\u001b[0m",
      "\u001b[1;31mIndexError\u001b[0m                                Traceback (most recent call last)",
      "Input \u001b[1;32mIn [11]\u001b[0m, in \u001b[0;36m<cell line: 1>\u001b[1;34m()\u001b[0m\n\u001b[1;32m----> 1\u001b[0m \u001b[38;5;28mprint\u001b[39m(\u001b[38;5;124mf\u001b[39m\u001b[38;5;124m\"\u001b[39m\u001b[38;5;124mHi,\u001b[39m\u001b[38;5;132;01m{\u001b[39;00mnames[\u001b[38;5;241m3\u001b[39m]\u001b[38;5;132;01m}\u001b[39;00m\u001b[38;5;124m\"\u001b[39m)\n",
      "\u001b[1;31mIndexError\u001b[0m: list index out of range"
     ]
    }
   ],
   "source": [
    "print(f\"Hi,{names[3]}\")"
   ]
  },
  {
   "cell_type": "code",
   "execution_count": 12,
   "id": "09136e0a",
   "metadata": {},
   "outputs": [
    {
     "ename": "IndexError",
     "evalue": "list index out of range",
     "output_type": "error",
     "traceback": [
      "\u001b[1;31m---------------------------------------------------------------------------\u001b[0m",
      "\u001b[1;31mIndexError\u001b[0m                                Traceback (most recent call last)",
      "Input \u001b[1;32mIn [12]\u001b[0m, in \u001b[0;36m<cell line: 1>\u001b[1;34m()\u001b[0m\n\u001b[1;32m----> 1\u001b[0m \u001b[38;5;28mprint\u001b[39m(\u001b[38;5;124mf\u001b[39m\u001b[38;5;124m\"\u001b[39m\u001b[38;5;124mHi,\u001b[39m\u001b[38;5;132;01m{\u001b[39;00mnames[\u001b[38;5;28mlen\u001b[39m(names)]\u001b[38;5;132;01m}\u001b[39;00m\u001b[38;5;124m\"\u001b[39m)\n",
      "\u001b[1;31mIndexError\u001b[0m: list index out of range"
     ]
    }
   ],
   "source": [
    "print(f\"Hi,{names[len(names)]}\")"
   ]
  },
  {
   "cell_type": "code",
   "execution_count": 13,
   "id": "1971d196",
   "metadata": {},
   "outputs": [
    {
     "ename": "IndexError",
     "evalue": "list index out of range",
     "output_type": "error",
     "traceback": [
      "\u001b[1;31m---------------------------------------------------------------------------\u001b[0m",
      "\u001b[1;31mIndexError\u001b[0m                                Traceback (most recent call last)",
      "Input \u001b[1;32mIn [13]\u001b[0m, in \u001b[0;36m<cell line: 1>\u001b[1;34m()\u001b[0m\n\u001b[1;32m----> 1\u001b[0m \u001b[38;5;28mprint\u001b[39m(\u001b[43mnames\u001b[49m\u001b[43m[\u001b[49m\u001b[38;5;241;43m-\u001b[39;49m\u001b[38;5;241;43m4\u001b[39;49m\u001b[43m]\u001b[49m)\n",
      "\u001b[1;31mIndexError\u001b[0m: list index out of range"
     ]
    }
   ],
   "source": [
    "print(names[-4])"
   ]
  },
  {
   "cell_type": "markdown",
   "id": "10a1a8c2",
   "metadata": {},
   "source": [
    "> ### Nested List"
   ]
  },
  {
   "cell_type": "code",
   "execution_count": 16,
   "id": "ee35b0fa",
   "metadata": {},
   "outputs": [],
   "source": [
    "num=[1,34,64,37,845,33,86,345,86,35,30]\n",
    "num2=[1,34,64,37,845,[33,86,345],25,2,86,35,30]"
   ]
  },
  {
   "cell_type": "code",
   "execution_count": 17,
   "id": "f0c85d40",
   "metadata": {},
   "outputs": [
    {
     "data": {
      "text/plain": [
       "11"
      ]
     },
     "execution_count": 17,
     "metadata": {},
     "output_type": "execute_result"
    }
   ],
   "source": [
    "len(num2)"
   ]
  },
  {
   "cell_type": "code",
   "execution_count": 18,
   "id": "71dcadcf",
   "metadata": {},
   "outputs": [
    {
     "data": {
      "text/plain": [
       "345"
      ]
     },
     "execution_count": 18,
     "metadata": {},
     "output_type": "execute_result"
    }
   ],
   "source": [
    "num2[5][2]"
   ]
  }
 ],
 "metadata": {
  "kernelspec": {
   "display_name": "Python 3 (ipykernel)",
   "language": "python",
   "name": "python3"
  },
  "language_info": {
   "codemirror_mode": {
    "name": "ipython",
    "version": 3
   },
   "file_extension": ".py",
   "mimetype": "text/x-python",
   "name": "python",
   "nbconvert_exporter": "python",
   "pygments_lexer": "ipython3",
   "version": "3.9.12"
  }
 },
 "nbformat": 4,
 "nbformat_minor": 5
}
