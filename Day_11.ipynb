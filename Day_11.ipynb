{
 "cells": [
  {
   "cell_type": "markdown",
   "id": "74336e90",
   "metadata": {},
   "source": [
    "> ### For Loop"
   ]
  },
  {
   "cell_type": "code",
   "execution_count": 7,
   "id": "7ac3aeac",
   "metadata": {},
   "outputs": [
    {
     "name": "stdout",
     "output_type": "stream",
     "text": [
      "Sandeep\n",
      "Bhargav\n",
      "Ankur\n",
      "Ankit\n"
     ]
    }
   ],
   "source": [
    "names=['Sandeep','Bhargav','Ankur','Ankit']\n",
    "for name in names:\n",
    "    print(name)"
   ]
  },
  {
   "cell_type": "code",
   "execution_count": 8,
   "id": "19970ea9",
   "metadata": {},
   "outputs": [
    {
     "name": "stdout",
     "output_type": "stream",
     "text": [
      "S a n d e e p "
     ]
    }
   ],
   "source": [
    "name='Sandeep'\n",
    "for i in name:\n",
    "    print(i,end=\" \")"
   ]
  },
  {
   "cell_type": "code",
   "execution_count": 9,
   "id": "d900c0f3",
   "metadata": {},
   "outputs": [
    {
     "name": "stdout",
     "output_type": "stream",
     "text": [
      "Hello Sandeep\n"
     ]
    }
   ],
   "source": [
    "name=['Sandeep','Bhushan','arpan']\n",
    "for i in name:\n",
    "    if i=='Sandeep':\n",
    "        print(\"Hello\",i)"
   ]
  },
  {
   "cell_type": "code",
   "execution_count": 10,
   "id": "34acbedd",
   "metadata": {},
   "outputs": [
    {
     "name": "stdout",
     "output_type": "stream",
     "text": [
      "[4, 9, 1849, 9, 36, 400, 441]\n"
     ]
    }
   ],
   "source": [
    "list1=[2,3,43,-3,6,20,21]\n",
    "list2=[]\n",
    "for i in list1:\n",
    "    list2.append(i**2)\n",
    "print(list2)"
   ]
  },
  {
   "cell_type": "markdown",
   "id": "288f1c47",
   "metadata": {},
   "source": [
    "> ### For Else"
   ]
  },
  {
   "cell_type": "code",
   "execution_count": 11,
   "id": "fd17af89",
   "metadata": {},
   "outputs": [
    {
     "name": "stdout",
     "output_type": "stream",
     "text": [
      "the numbers are: 0\n",
      "the numbers are: 1\n",
      "the numbers are: 2\n",
      "the numbers are: 3\n",
      "the numbers are: 4\n",
      "the numbers are: 5\n",
      "the numbers are: 6\n",
      "the numbers are: 7\n",
      "the numbers are: 8\n",
      "the numbers are: 9\n",
      "The for loop is executed completely\n"
     ]
    }
   ],
   "source": [
    "num={1,2,3,4,5,6,7,7,8,9,0,0}\n",
    "for i in num:\n",
    "    print(\"the numbers are:\",i)\n",
    "else:\n",
    "    print(\"The for loop is executed completely\")"
   ]
  },
  {
   "cell_type": "code",
   "execution_count": 12,
   "id": "f4f379e2",
   "metadata": {},
   "outputs": [
    {
     "name": "stdout",
     "output_type": "stream",
     "text": [
      "0\n",
      "1\n",
      "2\n",
      "3\n",
      "4\n",
      "5\n",
      "6\n"
     ]
    }
   ],
   "source": [
    "for i in num:\n",
    "    if i==7:\n",
    "        break #terminating the loop\n",
    "    print(i)\n",
    "    \n",
    "else:\n",
    "    print(\"Loop is executed successfully\")"
   ]
  },
  {
   "cell_type": "code",
   "execution_count": null,
   "id": "ab1a7bf3",
   "metadata": {},
   "outputs": [],
   "source": [
    "list"
   ]
  }
 ],
 "metadata": {
  "kernelspec": {
   "display_name": "Python 3 (ipykernel)",
   "language": "python",
   "name": "python3"
  },
  "language_info": {
   "codemirror_mode": {
    "name": "ipython",
    "version": 3
   },
   "file_extension": ".py",
   "mimetype": "text/x-python",
   "name": "python",
   "nbconvert_exporter": "python",
   "pygments_lexer": "ipython3",
   "version": "3.9.12"
  }
 },
 "nbformat": 4,
 "nbformat_minor": 5
}
