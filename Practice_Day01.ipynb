{
 "cells": [
  {
   "cell_type": "code",
   "execution_count": 1,
   "id": "3ae14dd4",
   "metadata": {},
   "outputs": [
    {
     "data": {
      "text/plain": [
       "'Green'"
      ]
     },
     "execution_count": 1,
     "metadata": {},
     "output_type": "execute_result"
    }
   ],
   "source": [
    "x=\"Green\"\n",
    "y=\"Blue\"\n",
    "z=x\n",
    "z"
   ]
  },
  {
   "cell_type": "code",
   "execution_count": 2,
   "id": "dbce520b",
   "metadata": {},
   "outputs": [],
   "source": [
    "a=7\n",
    "b=a\n",
    "a=\"Liberty\""
   ]
  },
  {
   "cell_type": "code",
   "execution_count": 3,
   "id": "ba47ec85",
   "metadata": {},
   "outputs": [
    {
     "data": {
      "text/plain": [
       "'Liberty'"
      ]
     },
     "execution_count": 3,
     "metadata": {},
     "output_type": "execute_result"
    }
   ],
   "source": [
    "a"
   ]
  },
  {
   "cell_type": "code",
   "execution_count": 4,
   "id": "068babae",
   "metadata": {},
   "outputs": [
    {
     "data": {
      "text/plain": [
       "7"
      ]
     },
     "execution_count": 4,
     "metadata": {},
     "output_type": "execute_result"
    }
   ],
   "source": [
    "b"
   ]
  },
  {
   "cell_type": "code",
   "execution_count": 5,
   "id": "a7eff539",
   "metadata": {},
   "outputs": [
    {
     "name": "stdout",
     "output_type": "stream",
     "text": [
      "Green Blue Green\n"
     ]
    }
   ],
   "source": [
    "print(x,y,z)"
   ]
  },
  {
   "cell_type": "code",
   "execution_count": 6,
   "id": "d84845fb",
   "metadata": {},
   "outputs": [],
   "source": [
    "a=\"Any\","
   ]
  },
  {
   "cell_type": "code",
   "execution_count": 7,
   "id": "6b209c8a",
   "metadata": {},
   "outputs": [
    {
     "data": {
      "text/plain": [
       "('Any',)"
      ]
     },
     "execution_count": 7,
     "metadata": {},
     "output_type": "execute_result"
    }
   ],
   "source": [
    "a"
   ]
  },
  {
   "cell_type": "code",
   "execution_count": 8,
   "id": "c28cbb35",
   "metadata": {},
   "outputs": [],
   "source": [
    "name=[\"Sandeep\",\"Sonu\"]\n",
    "name.append(\"Jay\")"
   ]
  },
  {
   "cell_type": "code",
   "execution_count": 9,
   "id": "9d1cc28a",
   "metadata": {},
   "outputs": [
    {
     "data": {
      "text/plain": [
       "['Sandeep', 'Sonu', 'Jay']"
      ]
     },
     "execution_count": 9,
     "metadata": {},
     "output_type": "execute_result"
    }
   ],
   "source": [
    "name"
   ]
  },
  {
   "cell_type": "code",
   "execution_count": 11,
   "id": "4e811aa0",
   "metadata": {},
   "outputs": [],
   "source": [
    "list.append(name,\"extra\")"
   ]
  },
  {
   "cell_type": "code",
   "execution_count": 12,
   "id": "83d88f78",
   "metadata": {},
   "outputs": [
    {
     "data": {
      "text/plain": [
       "['Sandeep', 'Sonu', 'Jay', 'extra']"
      ]
     },
     "execution_count": 12,
     "metadata": {},
     "output_type": "execute_result"
    }
   ],
   "source": [
    "name"
   ]
  },
  {
   "cell_type": "code",
   "execution_count": null,
   "id": "b475cceb",
   "metadata": {},
   "outputs": [],
   "source": []
  }
 ],
 "metadata": {
  "kernelspec": {
   "display_name": "Python 3 (ipykernel)",
   "language": "python",
   "name": "python3"
  },
  "language_info": {
   "codemirror_mode": {
    "name": "ipython",
    "version": 3
   },
   "file_extension": ".py",
   "mimetype": "text/x-python",
   "name": "python",
   "nbconvert_exporter": "python",
   "pygments_lexer": "ipython3",
   "version": "3.9.12"
  }
 },
 "nbformat": 4,
 "nbformat_minor": 5
}
