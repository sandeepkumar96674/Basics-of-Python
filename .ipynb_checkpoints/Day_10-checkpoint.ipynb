{
 "cells": [
  {
   "cell_type": "markdown",
   "id": "51cc92d6",
   "metadata": {},
   "source": [
    "> ### Operations on Sets"
   ]
  },
  {
   "cell_type": "code",
   "execution_count": 1,
   "id": "6659d12c",
   "metadata": {},
   "outputs": [],
   "source": [
    "set1={1,2,3,4,8,12}\n",
    "set2={4,8,19,123,325}"
   ]
  },
  {
   "cell_type": "markdown",
   "id": "cfbfda81",
   "metadata": {},
   "source": [
    "#### Union"
   ]
  },
  {
   "cell_type": "code",
   "execution_count": 2,
   "id": "d1cf8ba2",
   "metadata": {},
   "outputs": [
    {
     "data": {
      "text/plain": [
       "{1, 2, 3, 4, 8, 12, 19, 123, 325}"
      ]
     },
     "execution_count": 2,
     "metadata": {},
     "output_type": "execute_result"
    }
   ],
   "source": [
    "set1.union(set2)"
   ]
  },
  {
   "cell_type": "code",
   "execution_count": 3,
   "id": "92779132",
   "metadata": {},
   "outputs": [
    {
     "data": {
      "text/plain": [
       "{1, 2, 3, 4, 8, 12, 19, 123, 325}"
      ]
     },
     "execution_count": 3,
     "metadata": {},
     "output_type": "execute_result"
    }
   ],
   "source": [
    "set1 | set2"
   ]
  },
  {
   "cell_type": "code",
   "execution_count": 4,
   "id": "258f538b",
   "metadata": {},
   "outputs": [],
   "source": [
    "set3={23,52,62,78}"
   ]
  },
  {
   "cell_type": "code",
   "execution_count": 5,
   "id": "c8265e6f",
   "metadata": {},
   "outputs": [
    {
     "data": {
      "text/plain": [
       "{1, 2, 3, 4, 8, 12, 19, 23, 52, 62, 78, 123, 325}"
      ]
     },
     "execution_count": 5,
     "metadata": {},
     "output_type": "execute_result"
    }
   ],
   "source": [
    "set1 | set2 |set3"
   ]
  },
  {
   "cell_type": "code",
   "execution_count": 6,
   "id": "2d74f856",
   "metadata": {},
   "outputs": [
    {
     "data": {
      "text/plain": [
       "{1, 2, 3, 4, 8, 12, 19, 23, 52, 62, 78, 123, 325}"
      ]
     },
     "execution_count": 6,
     "metadata": {},
     "output_type": "execute_result"
    }
   ],
   "source": [
    "set1.union(set2,set3)"
   ]
  },
  {
   "cell_type": "code",
   "execution_count": 7,
   "id": "0ca7453b",
   "metadata": {},
   "outputs": [],
   "source": [
    "set1.update(set2)"
   ]
  },
  {
   "cell_type": "code",
   "execution_count": 8,
   "id": "8ff2218c",
   "metadata": {},
   "outputs": [
    {
     "data": {
      "text/plain": [
       "{1, 2, 3, 4, 8, 12, 19, 123, 325}"
      ]
     },
     "execution_count": 8,
     "metadata": {},
     "output_type": "execute_result"
    }
   ],
   "source": [
    "set1"
   ]
  },
  {
   "cell_type": "code",
   "execution_count": 9,
   "id": "6d53cfdd",
   "metadata": {},
   "outputs": [],
   "source": [
    "set1.update(['sandeep','ankur'])"
   ]
  },
  {
   "cell_type": "code",
   "execution_count": 10,
   "id": "65202cb6",
   "metadata": {},
   "outputs": [
    {
     "data": {
      "text/plain": [
       "{1, 12, 123, 19, 2, 3, 325, 4, 8, 'ankur', 'sandeep'}"
      ]
     },
     "execution_count": 10,
     "metadata": {},
     "output_type": "execute_result"
    }
   ],
   "source": [
    "set1"
   ]
  },
  {
   "cell_type": "code",
   "execution_count": 11,
   "id": "740ce6d3",
   "metadata": {},
   "outputs": [],
   "source": [
    "set1 |=set3"
   ]
  },
  {
   "cell_type": "code",
   "execution_count": 12,
   "id": "c5ebad4f",
   "metadata": {},
   "outputs": [
    {
     "data": {
      "text/plain": [
       "{1, 12, 123, 19, 2, 23, 3, 325, 4, 52, 62, 78, 8, 'ankur', 'sandeep'}"
      ]
     },
     "execution_count": 12,
     "metadata": {},
     "output_type": "execute_result"
    }
   ],
   "source": [
    "set1"
   ]
  },
  {
   "cell_type": "markdown",
   "id": "830da9d6",
   "metadata": {},
   "source": [
    "#### Intersection : Only common items"
   ]
  },
  {
   "cell_type": "code",
   "execution_count": 13,
   "id": "ed01e36a",
   "metadata": {},
   "outputs": [
    {
     "data": {
      "text/plain": [
       "{4, 8, 19, 123, 325}"
      ]
     },
     "execution_count": 13,
     "metadata": {},
     "output_type": "execute_result"
    }
   ],
   "source": [
    "set1.intersection(set2)"
   ]
  },
  {
   "cell_type": "code",
   "execution_count": 14,
   "id": "0cffb260",
   "metadata": {},
   "outputs": [
    {
     "data": {
      "text/plain": [
       "set()"
      ]
     },
     "execution_count": 14,
     "metadata": {},
     "output_type": "execute_result"
    }
   ],
   "source": [
    "set1.intersection(set2,set3)"
   ]
  },
  {
   "cell_type": "code",
   "execution_count": 15,
   "id": "168a1add",
   "metadata": {},
   "outputs": [
    {
     "data": {
      "text/plain": [
       "{23, 52, 62, 78}"
      ]
     },
     "execution_count": 15,
     "metadata": {},
     "output_type": "execute_result"
    }
   ],
   "source": [
    "set1&set3"
   ]
  },
  {
   "cell_type": "code",
   "execution_count": 21,
   "id": "ba8944f5",
   "metadata": {},
   "outputs": [],
   "source": [
    "set1.intersection_update(set2)"
   ]
  },
  {
   "cell_type": "code",
   "execution_count": 23,
   "id": "90fd1b3c",
   "metadata": {},
   "outputs": [
    {
     "data": {
      "text/plain": [
       "set()"
      ]
     },
     "execution_count": 23,
     "metadata": {},
     "output_type": "execute_result"
    }
   ],
   "source": [
    "set1"
   ]
  },
  {
   "cell_type": "code",
   "execution_count": 25,
   "id": "cbae9026",
   "metadata": {},
   "outputs": [],
   "source": [
    "set1={\"Sandeep\",\"Akash\",\"Ankit\",\"Prabhash\",\"Sonu\"}\n",
    "set2={\"Ankur\",\"Sonu\",\"Bipul\",\"Mayank\",\"Uday\"}\n",
    "set3={\"Anurag\",\"Ritik\",\"Bhargav\",\"Uday\",\"Akash\"}"
   ]
  },
  {
   "cell_type": "code",
   "execution_count": null,
   "id": "7ee71c10",
   "metadata": {},
   "outputs": [],
   "source": []
  }
 ],
 "metadata": {
  "kernelspec": {
   "display_name": "Python 3 (ipykernel)",
   "language": "python",
   "name": "python3"
  },
  "language_info": {
   "codemirror_mode": {
    "name": "ipython",
    "version": 3
   },
   "file_extension": ".py",
   "mimetype": "text/x-python",
   "name": "python",
   "nbconvert_exporter": "python",
   "pygments_lexer": "ipython3",
   "version": "3.9.12"
  }
 },
 "nbformat": 4,
 "nbformat_minor": 5
}
