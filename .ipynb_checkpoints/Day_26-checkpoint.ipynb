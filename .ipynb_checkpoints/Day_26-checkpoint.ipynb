{
 "cells": [
  {
   "cell_type": "code",
   "execution_count": 2,
   "id": "e609140e",
   "metadata": {},
   "outputs": [
    {
     "name": "stdout",
     "output_type": "stream",
     "text": [
      "3+6i\n"
     ]
    }
   ],
   "source": [
    "class ComplexNumber:\n",
    "    def __init__(self,r,i):\n",
    "        self.real=r\n",
    "        self.imaginary=i\n",
    "    def __add__(self,other):\n",
    "        return f\"{self.real+other.real}+{self.imaginary+other.imaginary}i\"\n",
    "c1=ComplexNumber(1,2)\n",
    "c2=ComplexNumber(2,4)\n",
    "print(c1+c2)"
   ]
  },
  {
   "cell_type": "code",
   "execution_count": 5,
   "id": "4f269bdc",
   "metadata": {},
   "outputs": [
    {
     "name": "stdout",
     "output_type": "stream",
     "text": [
      "Shyam will pay the Bill\n"
     ]
    }
   ],
   "source": [
    "class Person:\n",
    "    def __init__(self,name,age):\n",
    "        self.name=name\n",
    "        self.age=age\n",
    "p1=Person(\"Ram\",21)\n",
    "p2=Person(\"Shyam\",24)\n",
    "\n",
    "if p1.age>p2.age:\n",
    "    print(f\"{p1.name} will pay the Bill\")\n",
    "else:\n",
    "    print(f\"{p2.name} will pay the Bill\")"
   ]
  },
  {
   "cell_type": "code",
   "execution_count": 11,
   "id": "056cc86a",
   "metadata": {},
   "outputs": [
    {
     "name": "stdout",
     "output_type": "stream",
     "text": [
      "Ram will pay the Bill\n"
     ]
    }
   ],
   "source": [
    "class Person:\n",
    "    def __init__(self,name,age):\n",
    "        self.name=name\n",
    "        self.age=age\n",
    "    def __gt__(self,other):\n",
    "        if self.age>other.age:\n",
    "            return True\n",
    "        else:\n",
    "            return False\n",
    "p1=Person(\"Shyam\",23)\n",
    "p2=Person(\"Ram\",26)\n",
    "if p1>p2:\n",
    "    print(f\"{p1.name} will pay the Bill\")\n",
    "else:\n",
    "    print(f\"{p2.name} will pay the Bill\")"
   ]
  },
  {
   "cell_type": "markdown",
   "id": "742907f8",
   "metadata": {},
   "source": [
    "> ### Method Overloading"
   ]
  },
  {
   "cell_type": "code",
   "execution_count": 19,
   "id": "0f6f4f22",
   "metadata": {},
   "outputs": [
    {
     "name": "stdout",
     "output_type": "stream",
     "text": [
      "7\n",
      "9\n"
     ]
    }
   ],
   "source": [
    "class Demo:\n",
    "    def add(self,a,b,c=0):\n",
    "        return a+b+c\n",
    "a=Demo()\n",
    "print(a.add(3,4))       \n",
    "print(a.add(2,3,4))"
   ]
  },
  {
   "cell_type": "code",
   "execution_count": 21,
   "id": "2e18225b",
   "metadata": {},
   "outputs": [
    {
     "name": "stdout",
     "output_type": "stream",
     "text": [
      "7\n",
      "9\n",
      "110\n"
     ]
    }
   ],
   "source": [
    "class Demo:\n",
    "    def add(self,*args):\n",
    "        total=0\n",
    "        for i in args:\n",
    "            total+=i\n",
    "        return total\n",
    "a=Demo()\n",
    "print(a.add(3,4))       \n",
    "print(a.add(2,3,4))\n",
    "print(a.add(2,3,4,54,5,5,6,25,6))"
   ]
  },
  {
   "cell_type": "markdown",
   "id": "287958ae",
   "metadata": {},
   "source": [
    ">### Method Overriding"
   ]
  },
  {
   "cell_type": "code",
   "execution_count": 26,
   "id": "b3c5b6d3",
   "metadata": {},
   "outputs": [
    {
     "name": "stdout",
     "output_type": "stream",
     "text": [
      "Sleeps from 2:00 AM to 10:00 AM\n",
      "Sleeps from 10:00 PM to 5:00 AM\n"
     ]
    }
   ],
   "source": [
    "class Father:\n",
    "    def sleep(self):\n",
    "        print(\"Sleeps from 10:00 PM to 5:00 AM\")\n",
    "    def eat(self):\n",
    "        print(\"Eating\")\n",
    "class Son(Father):\n",
    "    def sleep(self):\n",
    "        print(\"Sleeps from 2:00 AM to 10:00 AM\")\n",
    "        super().sleep()\n",
    "s1=Son()\n",
    "s1.sleep()"
   ]
  },
  {
   "cell_type": "markdown",
   "id": "4f21e715",
   "metadata": {},
   "source": [
    "> ### Dunder Methods"
   ]
  },
  {
   "cell_type": "code",
   "execution_count": 27,
   "id": "f5b59150",
   "metadata": {},
   "outputs": [
    {
     "name": "stdout",
     "output_type": "stream",
     "text": [
      "3\n"
     ]
    }
   ],
   "source": [
    "list=[1,2,3]\n",
    "print(len(list))"
   ]
  },
  {
   "cell_type": "code",
   "execution_count": 28,
   "id": "6e8a1de0",
   "metadata": {},
   "outputs": [
    {
     "name": "stdout",
     "output_type": "stream",
     "text": [
      "[1, 2, 3]\n"
     ]
    }
   ],
   "source": [
    "print(list)"
   ]
  },
  {
   "cell_type": "code",
   "execution_count": 29,
   "id": "6e40e1d8",
   "metadata": {},
   "outputs": [
    {
     "ename": "TypeError",
     "evalue": "object of type 'Demo' has no len()",
     "output_type": "error",
     "traceback": [
      "\u001b[1;31m---------------------------------------------------------------------------\u001b[0m",
      "\u001b[1;31mTypeError\u001b[0m                                 Traceback (most recent call last)",
      "Input \u001b[1;32mIn [29]\u001b[0m, in \u001b[0;36m<cell line: 4>\u001b[1;34m()\u001b[0m\n\u001b[0;32m      2\u001b[0m     name\u001b[38;5;241m=\u001b[39m\u001b[38;5;124m\"\u001b[39m\u001b[38;5;124mSandeep\u001b[39m\u001b[38;5;124m\"\u001b[39m\n\u001b[0;32m      3\u001b[0m n\u001b[38;5;241m=\u001b[39mDemo()\n\u001b[1;32m----> 4\u001b[0m \u001b[38;5;28mprint\u001b[39m(\u001b[38;5;28;43mlen\u001b[39;49m\u001b[43m(\u001b[49m\u001b[43mn\u001b[49m\u001b[43m)\u001b[49m)\n",
      "\u001b[1;31mTypeError\u001b[0m: object of type 'Demo' has no len()"
     ]
    }
   ],
   "source": [
    "class Demo:\n",
    "    name=\"Sandeep\"\n",
    "n=Demo()\n",
    "print(len(n))"
   ]
  },
  {
   "cell_type": "code",
   "execution_count": 30,
   "id": "b7e823b7",
   "metadata": {},
   "outputs": [
    {
     "ename": "TypeError",
     "evalue": "'Demo' object is not callable",
     "output_type": "error",
     "traceback": [
      "\u001b[1;31m---------------------------------------------------------------------------\u001b[0m",
      "\u001b[1;31mTypeError\u001b[0m                                 Traceback (most recent call last)",
      "Input \u001b[1;32mIn [30]\u001b[0m, in \u001b[0;36m<cell line: 4>\u001b[1;34m()\u001b[0m\n\u001b[0;32m      2\u001b[0m     name\u001b[38;5;241m=\u001b[39m\u001b[38;5;124m\"\u001b[39m\u001b[38;5;124mSandeep\u001b[39m\u001b[38;5;124m\"\u001b[39m\n\u001b[0;32m      3\u001b[0m n\u001b[38;5;241m=\u001b[39mDemo()\n\u001b[1;32m----> 4\u001b[0m \u001b[43mn\u001b[49m\u001b[43m(\u001b[49m\u001b[43m)\u001b[49m\n",
      "\u001b[1;31mTypeError\u001b[0m: 'Demo' object is not callable"
     ]
    }
   ],
   "source": [
    "class Demo:\n",
    "    name=\"Sandeep\"\n",
    "n=Demo()\n",
    "n() #here we tried to call the instance of the Class without including the Class"
   ]
  },
  {
   "cell_type": "code",
   "execution_count": 31,
   "id": "5dc12dc1",
   "metadata": {},
   "outputs": [
    {
     "name": "stdout",
     "output_type": "stream",
     "text": [
      "Hii\n"
     ]
    }
   ],
   "source": [
    "class Demo:\n",
    "    name=\"Sandeep\"\n",
    "    def __call__(self,*args):\n",
    "        print(\"Hii\")\n",
    "n=Demo()\n",
    "n() # here the object(instance) will be work as method"
   ]
  },
  {
   "cell_type": "code",
   "execution_count": 32,
   "id": "68e7d970",
   "metadata": {},
   "outputs": [
    {
     "name": "stdout",
     "output_type": "stream",
     "text": [
      "['__abs__', '__add__', '__and__', '__bool__', '__ceil__', '__class__', '__delattr__', '__dir__', '__divmod__', '__doc__', '__eq__', '__float__', '__floor__', '__floordiv__', '__format__', '__ge__', '__getattribute__', '__getnewargs__', '__gt__', '__hash__', '__index__', '__init__', '__init_subclass__', '__int__', '__invert__', '__le__', '__lshift__', '__lt__', '__mod__', '__mul__', '__ne__', '__neg__', '__new__', '__or__', '__pos__', '__pow__', '__radd__', '__rand__', '__rdivmod__', '__reduce__', '__reduce_ex__', '__repr__', '__rfloordiv__', '__rlshift__', '__rmod__', '__rmul__', '__ror__', '__round__', '__rpow__', '__rrshift__', '__rshift__', '__rsub__', '__rtruediv__', '__rxor__', '__setattr__', '__sizeof__', '__str__', '__sub__', '__subclasshook__', '__truediv__', '__trunc__', '__xor__', 'as_integer_ratio', 'bit_length', 'conjugate', 'denominator', 'from_bytes', 'imag', 'numerator', 'real', 'to_bytes']\n"
     ]
    }
   ],
   "source": [
    "print(dir(int))"
   ]
  },
  {
   "cell_type": "code",
   "execution_count": null,
   "id": "709cca9f",
   "metadata": {},
   "outputs": [],
   "source": []
  }
 ],
 "metadata": {
  "kernelspec": {
   "display_name": "Python 3 (ipykernel)",
   "language": "python",
   "name": "python3"
  },
  "language_info": {
   "codemirror_mode": {
    "name": "ipython",
    "version": 3
   },
   "file_extension": ".py",
   "mimetype": "text/x-python",
   "name": "python",
   "nbconvert_exporter": "python",
   "pygments_lexer": "ipython3",
   "version": "3.9.12"
  }
 },
 "nbformat": 4,
 "nbformat_minor": 5
}
