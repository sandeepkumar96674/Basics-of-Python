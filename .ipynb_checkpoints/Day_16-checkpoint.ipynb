{
 "cells": [
  {
   "cell_type": "code",
   "execution_count": 3,
   "id": "9aac94ec",
   "metadata": {},
   "outputs": [],
   "source": [
    "# Functions\n",
    "def greet ():\n",
    "    print(\"Hii\")\n",
    "    print(\"Sandeep\")"
   ]
  },
  {
   "cell_type": "code",
   "execution_count": 4,
   "id": "c701114a",
   "metadata": {},
   "outputs": [
    {
     "name": "stdout",
     "output_type": "stream",
     "text": [
      "Hii\n",
      "Sandeep\n"
     ]
    }
   ],
   "source": [
    "greet()"
   ]
  },
  {
   "cell_type": "code",
   "execution_count": 2,
   "id": "46ec5877",
   "metadata": {},
   "outputs": [
    {
     "name": "stdout",
     "output_type": "stream",
     "text": [
      "Enter a number:5\n",
      "Enter another number:6\n"
     ]
    },
    {
     "data": {
      "text/plain": [
       "11"
      ]
     },
     "execution_count": 2,
     "metadata": {},
     "output_type": "execute_result"
    }
   ],
   "source": [
    "def add(a,b):\n",
    "    c=a+b\n",
    "    return c\n",
    "a=int(input(\"Enter a number:\"))\n",
    "b=int(input(\"Enter another number:\"))\n",
    "add(a,b)"
   ]
  },
  {
   "cell_type": "code",
   "execution_count": 7,
   "id": "82b38e37",
   "metadata": {},
   "outputs": [
    {
     "name": "stdout",
     "output_type": "stream",
     "text": [
      "Enter your nameSandeep\n",
      "Hii Sandeep\n"
     ]
    }
   ],
   "source": [
    "def greet (name):\n",
    "    print(f\"Hii {name}\")\n",
    "name=input(\"Enter your name:\")\n",
    "greet(name)"
   ]
  },
  {
   "cell_type": "code",
   "execution_count": null,
   "id": "c74f56bd",
   "metadata": {},
   "outputs": [],
   "source": []
  }
 ],
 "metadata": {
  "kernelspec": {
   "display_name": "Python 3 (ipykernel)",
   "language": "python",
   "name": "python3"
  },
  "language_info": {
   "codemirror_mode": {
    "name": "ipython",
    "version": 3
   },
   "file_extension": ".py",
   "mimetype": "text/x-python",
   "name": "python",
   "nbconvert_exporter": "python",
   "pygments_lexer": "ipython3",
   "version": "3.9.12"
  }
 },
 "nbformat": 4,
 "nbformat_minor": 5
}
