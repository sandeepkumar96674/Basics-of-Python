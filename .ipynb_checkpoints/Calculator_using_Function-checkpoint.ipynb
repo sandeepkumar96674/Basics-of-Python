{
 "cells": [
  {
   "cell_type": "code",
   "execution_count": 8,
   "id": "93c40a9d",
   "metadata": {},
   "outputs": [
    {
     "name": "stdout",
     "output_type": "stream",
     "text": [
      "Enter first number:5\n",
      "+\n",
      "-\n",
      "*\n",
      "/\n",
      "Pick a Operation:+\n",
      "Enter second number:6\n",
      "5 + 6 = 11\n",
      "Enter 'y' to continue calculation with 11, 'n' to start a new calculation, 'x' to exit: y\n",
      "Pick a Operation:+\n",
      "Enter second number:5\n",
      "11 + 5 = 16\n",
      "Enter 'y' to continue calculation with 16, 'n' to start a new calculation, 'x' to exit: x\n",
      "BYE\n"
     ]
    }
   ],
   "source": [
    "\n",
    "def add(a,b):\n",
    "    return a+b\n",
    "def subtract(a,b):\n",
    "    return a-b\n",
    "def multiply(a,b):\n",
    "    return a*b\n",
    "def divide(a,b):\n",
    "    return a/b\n",
    "\n",
    "operators_dictionry={\n",
    "    \"+\":add,\n",
    "    \"-\":subtract,\n",
    "    \"*\":multiply,\n",
    "    \"/\":divide\n",
    "}\n",
    "def calculator():\n",
    "    num1=int(input(\"Enter first number:\"))\n",
    "    for operator in operators_dictionry:\n",
    "        print(operator)\n",
    "    flag=True\n",
    "    while flag:\n",
    "        symbol=input(\"Pick a Operation:\")\n",
    "        num2=int(input(\"Enter second number:\"))\n",
    "        cal_func=operators_dictionry[symbol]\n",
    "        output=cal_func(num1,num2)\n",
    "        print(f\"{num1} {symbol} {num2} = {output}\")\n",
    "\n",
    "        repeat=input(f\"Enter 'y' to continue calculation with {output}, 'n' to start a new calculation, 'x' to exit: \").lower()\n",
    "\n",
    "        if repeat=='y':\n",
    "            num1=output\n",
    "        elif repeat=='n':\n",
    "            flag=False\n",
    "            calculator()\n",
    "        else:\n",
    "            flag=False\n",
    "            print(\"BYE\")\n",
    "calculator()"
   ]
  },
  {
   "cell_type": "code",
   "execution_count": null,
   "id": "40a449c3",
   "metadata": {},
   "outputs": [],
   "source": []
  }
 ],
 "metadata": {
  "kernelspec": {
   "display_name": "Python 3 (ipykernel)",
   "language": "python",
   "name": "python3"
  },
  "language_info": {
   "codemirror_mode": {
    "name": "ipython",
    "version": 3
   },
   "file_extension": ".py",
   "mimetype": "text/x-python",
   "name": "python",
   "nbconvert_exporter": "python",
   "pygments_lexer": "ipython3",
   "version": "3.9.12"
  }
 },
 "nbformat": 4,
 "nbformat_minor": 5
}
