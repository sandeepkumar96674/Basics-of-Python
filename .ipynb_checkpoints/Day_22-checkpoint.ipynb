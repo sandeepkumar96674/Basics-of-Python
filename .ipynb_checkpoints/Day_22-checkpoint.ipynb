{
 "cells": [
  {
   "cell_type": "markdown",
   "id": "b1aa4121",
   "metadata": {},
   "source": [
    "> ### Object Oriented Programming (OOP) Basics"
   ]
  },
  {
   "cell_type": "code",
   "execution_count": 1,
   "id": "fcb2a868",
   "metadata": {},
   "outputs": [],
   "source": [
    "class People:\n",
    "    pass\n",
    "name=People()"
   ]
  },
  {
   "cell_type": "code",
   "execution_count": 2,
   "id": "9d258483",
   "metadata": {},
   "outputs": [
    {
     "name": "stdout",
     "output_type": "stream",
     "text": [
      "<class '__main__.People'>\n"
     ]
    }
   ],
   "source": [
    "print(type(name))"
   ]
  },
  {
   "cell_type": "code",
   "execution_count": null,
   "id": "68c9952f",
   "metadata": {},
   "outputs": [],
   "source": []
  }
 ],
 "metadata": {
  "kernelspec": {
   "display_name": "Python 3 (ipykernel)",
   "language": "python",
   "name": "python3"
  },
  "language_info": {
   "codemirror_mode": {
    "name": "ipython",
    "version": 3
   },
   "file_extension": ".py",
   "mimetype": "text/x-python",
   "name": "python",
   "nbconvert_exporter": "python",
   "pygments_lexer": "ipython3",
   "version": "3.9.12"
  }
 },
 "nbformat": 4,
 "nbformat_minor": 5
}
