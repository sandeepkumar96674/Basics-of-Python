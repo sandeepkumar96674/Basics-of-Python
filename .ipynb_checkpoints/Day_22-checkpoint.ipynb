{
 "cells": [
  {
   "cell_type": "markdown",
   "id": "b1aa4121",
   "metadata": {},
   "source": [
    "> ### Object Oriented Programming (OOP)"
   ]
  },
  {
   "cell_type": "code",
   "execution_count": 1,
   "id": "fcb2a868",
   "metadata": {},
   "outputs": [],
   "source": [
    "class People:\n",
    "    pass\n",
    "name=People()"
   ]
  },
  {
   "cell_type": "code",
   "execution_count": 2,
   "id": "9d258483",
   "metadata": {},
   "outputs": [
    {
     "name": "stdout",
     "output_type": "stream",
     "text": [
      "<class '__main__.People'>\n"
     ]
    }
   ],
   "source": [
    "print(type(name))"
   ]
  },
  {
   "cell_type": "code",
   "execution_count": 3,
   "id": "68c9952f",
   "metadata": {},
   "outputs": [],
   "source": [
    "name.name1=\"Sandeep\""
   ]
  },
  {
   "cell_type": "code",
   "execution_count": 4,
   "id": "7d4beee0",
   "metadata": {},
   "outputs": [
    {
     "name": "stdout",
     "output_type": "stream",
     "text": [
      "Sandeep\n"
     ]
    }
   ],
   "source": [
    "print(name.name1)"
   ]
  },
  {
   "cell_type": "code",
   "execution_count": 7,
   "id": "17e60752",
   "metadata": {},
   "outputs": [
    {
     "name": "stdout",
     "output_type": "stream",
     "text": [
      "Creating a new object\n",
      "Sandeep\n"
     ]
    }
   ],
   "source": [
    "class student:\n",
    "    def __init__(self):\n",
    "        print(\"Creating a new object\")\n",
    "        \n",
    "names=student()\n",
    "names.name1=\"Sandeep\"\n",
    "print(names.name1)"
   ]
  },
  {
   "cell_type": "code",
   "execution_count": 10,
   "id": "2806c223",
   "metadata": {},
   "outputs": [
    {
     "name": "stdout",
     "output_type": "stream",
     "text": [
      "Sandeep\n",
      "Bihar\n"
     ]
    }
   ],
   "source": [
    "class student:\n",
    "    def __init__(self,name,address):\n",
    "        self.name=name\n",
    "        self.address=address\n",
    "        \n",
    "student1=student(\"Sandeep\",\"Bihar\")\n",
    "print(student1.name)\n",
    "print(student1.address)"
   ]
  },
  {
   "cell_type": "code",
   "execution_count": null,
   "id": "444f278b",
   "metadata": {},
   "outputs": [],
   "source": []
  }
 ],
 "metadata": {
  "kernelspec": {
   "display_name": "Python 3 (ipykernel)",
   "language": "python",
   "name": "python3"
  },
  "language_info": {
   "codemirror_mode": {
    "name": "ipython",
    "version": 3
   },
   "file_extension": ".py",
   "mimetype": "text/x-python",
   "name": "python",
   "nbconvert_exporter": "python",
   "pygments_lexer": "ipython3",
   "version": "3.9.12"
  }
 },
 "nbformat": 4,
 "nbformat_minor": 5
}
