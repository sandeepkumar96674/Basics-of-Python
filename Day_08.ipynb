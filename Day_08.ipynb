{
 "cells": [
  {
   "cell_type": "markdown",
   "id": "4ded6c34",
   "metadata": {},
   "source": [
    "> ### Excercise"
   ]
  },
  {
   "cell_type": "code",
   "execution_count": 19,
   "id": "08a9558e",
   "metadata": {},
   "outputs": [
    {
     "name": "stdout",
     "output_type": "stream",
     "text": [
      "[2, 3, 5]\n",
      "[3, 5, 7]\n",
      "[4, 6, 9]\n"
     ]
    }
   ],
   "source": [
    "row1=[2,3,5]\n",
    "row2=[3,5,7]\n",
    "row3=[4,6,9]\n",
    "print(f\"{row1}\\n{row2}\\n{row3}\")"
   ]
  },
  {
   "cell_type": "code",
   "execution_count": 20,
   "id": "533549a6",
   "metadata": {},
   "outputs": [],
   "source": [
    "matrix=[row1,row2,row3]"
   ]
  },
  {
   "cell_type": "code",
   "execution_count": 21,
   "id": "3db9a1cc",
   "metadata": {},
   "outputs": [
    {
     "name": "stdout",
     "output_type": "stream",
     "text": [
      "Enter the position in which you want to Hide your money:32\n",
      "[2, 3, 5]\n",
      "[3, 5, 7]\n",
      "[4, 'X', 9]\n"
     ]
    }
   ],
   "source": [
    "user=input(\"Enter the position in which you want to Hide your money:\")\n",
    "row=int(user[0])\n",
    "col=int(user[1])\n",
    "row_selected=matrix[row-1]\n",
    "row_selected[col-1]=\"X\"\n",
    "print(f\"{row1}\\n{row2}\\n{row3}\")"
   ]
  },
  {
   "cell_type": "markdown",
   "id": "eb9c2361",
   "metadata": {},
   "source": [
    "> ### Rock Paper Scissors"
   ]
  },
  {
   "cell_type": "code",
   "execution_count": 6,
   "id": "9b0fc49d",
   "metadata": {},
   "outputs": [
    {
     "name": "stdout",
     "output_type": "stream",
     "text": [
      "Enter your choice\n",
      "(0 for Rock)\n",
      "(1 for Paper)\n",
      "(2 for Scissor):2\n",
      "Computer chose: 0\n",
      "You Win\n"
     ]
    }
   ],
   "source": [
    "import random \n",
    "user_choice=int(input(\"Enter your choice\\n(0 for Rock)\\n(1 for Paper)\\n(2 for Scissor):\"))\n",
    "if (user_choice>2 or user_choice<0):\n",
    "    print(\"Please Enter a valid Number\")\n",
    "else:\n",
    "    com_choice=random.randint(0,2)\n",
    "    print(f\"Computer chose: {com_choice}\")\n",
    "    if (com_choice==user_choice):\n",
    "        print(\"It is a draw\")\n",
    "    elif (com_choice>user_choice):\n",
    "        print(\"You Lose\")\n",
    "    elif (user_choice>com_choice):\n",
    "        print(\"You Win\")\n",
    "    elif (com_choice==0 and user_choice==2):\n",
    "        print(\"You Lose\")\n",
    "    elif(user_choice==0 and com_choice==2):\n",
    "        print(\"You Win\")"
   ]
  },
  {
   "cell_type": "markdown",
   "id": "e7833d7c",
   "metadata": {},
   "source": [
    "> ### Tuples:"
   ]
  },
  {
   "cell_type": "markdown",
   "id": "aa9939c4",
   "metadata": {},
   "source": [
    "Items/Values are enclosed with `()` and separated with `,`."
   ]
  },
  {
   "cell_type": "code",
   "execution_count": 7,
   "id": "a007e4d1",
   "metadata": {},
   "outputs": [
    {
     "data": {
      "text/plain": [
       "int"
      ]
     },
     "execution_count": 7,
     "metadata": {},
     "output_type": "execute_result"
    }
   ],
   "source": [
    "tuple1=(10)\n",
    "type(tuple1)"
   ]
  },
  {
   "cell_type": "code",
   "execution_count": 8,
   "id": "35b39c67",
   "metadata": {},
   "outputs": [
    {
     "data": {
      "text/plain": [
       "tuple"
      ]
     },
     "execution_count": 8,
     "metadata": {},
     "output_type": "execute_result"
    }
   ],
   "source": [
    "tuple2=(10,)\n",
    "type(tuple2)"
   ]
  },
  {
   "cell_type": "code",
   "execution_count": 9,
   "id": "94f33d5d",
   "metadata": {},
   "outputs": [
    {
     "data": {
      "text/plain": [
       "(1, 3, 6, 'Sandeep', True, False)"
      ]
     },
     "execution_count": 9,
     "metadata": {},
     "output_type": "execute_result"
    }
   ],
   "source": [
    "mix=(1,3,6,\"Sandeep\",True,False)\n",
    "mix"
   ]
  },
  {
   "cell_type": "code",
   "execution_count": 10,
   "id": "802d41c8",
   "metadata": {},
   "outputs": [
    {
     "data": {
      "text/plain": [
       "tuple"
      ]
     },
     "execution_count": 10,
     "metadata": {},
     "output_type": "execute_result"
    }
   ],
   "source": [
    "type(mix)"
   ]
  },
  {
   "cell_type": "code",
   "execution_count": 11,
   "id": "ef8880f6",
   "metadata": {},
   "outputs": [
    {
     "data": {
      "text/plain": [
       "3"
      ]
     },
     "execution_count": 11,
     "metadata": {},
     "output_type": "execute_result"
    }
   ],
   "source": [
    "mix[1]"
   ]
  },
  {
   "cell_type": "code",
   "execution_count": 13,
   "id": "a2cfafc5",
   "metadata": {},
   "outputs": [
    {
     "data": {
      "text/plain": [
       "6"
      ]
     },
     "execution_count": 13,
     "metadata": {},
     "output_type": "execute_result"
    }
   ],
   "source": [
    "mix[-4]"
   ]
  },
  {
   "cell_type": "code",
   "execution_count": 15,
   "id": "7b18b3a5",
   "metadata": {},
   "outputs": [
    {
     "name": "stdout",
     "output_type": "stream",
     "text": [
      "<class 'tuple'>\n"
     ]
    }
   ],
   "source": [
    "print(type(mix))"
   ]
  },
  {
   "cell_type": "code",
   "execution_count": 16,
   "id": "d760fa8f",
   "metadata": {},
   "outputs": [
    {
     "name": "stdout",
     "output_type": "stream",
     "text": [
      "(3, 6, 'Sandeep')\n"
     ]
    }
   ],
   "source": [
    "print(mix[1:4])"
   ]
  },
  {
   "cell_type": "code",
   "execution_count": 17,
   "id": "bad43d02",
   "metadata": {},
   "outputs": [
    {
     "name": "stdout",
     "output_type": "stream",
     "text": [
      "(3, 'Sandeep')\n"
     ]
    }
   ],
   "source": [
    "print(mix[1:5:2])"
   ]
  },
  {
   "cell_type": "code",
   "execution_count": 18,
   "id": "1680ecd5",
   "metadata": {},
   "outputs": [
    {
     "name": "stdout",
     "output_type": "stream",
     "text": [
      "6\n"
     ]
    }
   ],
   "source": [
    "print(len(mix))"
   ]
  },
  {
   "cell_type": "code",
   "execution_count": 19,
   "id": "b6b05a18",
   "metadata": {},
   "outputs": [
    {
     "name": "stdout",
     "output_type": "stream",
     "text": [
      "(10, 10, 10, 10, 10)\n"
     ]
    }
   ],
   "source": [
    "tuple1=(10,)*5\n",
    "print(tuple1)"
   ]
  },
  {
   "cell_type": "code",
   "execution_count": null,
   "id": "7ea2d440",
   "metadata": {},
   "outputs": [],
   "source": []
  }
 ],
 "metadata": {
  "kernelspec": {
   "display_name": "Python 3 (ipykernel)",
   "language": "python",
   "name": "python3"
  },
  "language_info": {
   "codemirror_mode": {
    "name": "ipython",
    "version": 3
   },
   "file_extension": ".py",
   "mimetype": "text/x-python",
   "name": "python",
   "nbconvert_exporter": "python",
   "pygments_lexer": "ipython3",
   "version": "3.9.12"
  }
 },
 "nbformat": 4,
 "nbformat_minor": 5
}
