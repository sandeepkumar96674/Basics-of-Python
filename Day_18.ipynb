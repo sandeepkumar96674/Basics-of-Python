{
 "cells": [
  {
   "cell_type": "markdown",
   "id": "91d3f01b",
   "metadata": {},
   "source": [
    "> ### Dictionary"
   ]
  },
  {
   "cell_type": "code",
   "execution_count": 7,
   "id": "3dd81238",
   "metadata": {},
   "outputs": [],
   "source": [
    "dic={1:\"Sandeep\",2:\"Ram\",3:\"Mohan\"}"
   ]
  },
  {
   "cell_type": "code",
   "execution_count": 9,
   "id": "3d023538",
   "metadata": {},
   "outputs": [
    {
     "data": {
      "text/plain": [
       "dict_keys([1, 2, 3])"
      ]
     },
     "execution_count": 9,
     "metadata": {},
     "output_type": "execute_result"
    }
   ],
   "source": [
    "dic.keys()"
   ]
  },
  {
   "cell_type": "code",
   "execution_count": 10,
   "id": "8f44b035",
   "metadata": {},
   "outputs": [
    {
     "name": "stdout",
     "output_type": "stream",
     "text": [
      "{1: 'Sandeep', 2: 'Ram', 3: 'Mohan'}\n"
     ]
    }
   ],
   "source": [
    "print(dic)"
   ]
  },
  {
   "cell_type": "code",
   "execution_count": 9,
   "id": "af20eeb5",
   "metadata": {},
   "outputs": [],
   "source": [
    "phone={\n",
    "    'Ram':1234,\n",
    "    'Shyam':4567,\n",
    "    'Mohan':7890\n",
    "}"
   ]
  },
  {
   "cell_type": "code",
   "execution_count": 4,
   "id": "e7150dc5",
   "metadata": {},
   "outputs": [
    {
     "data": {
      "text/plain": [
       "{'Ram': 1234, 'Shyam': 4567, 'Mohan': 7890}"
      ]
     },
     "execution_count": 4,
     "metadata": {},
     "output_type": "execute_result"
    }
   ],
   "source": [
    "phone"
   ]
  },
  {
   "cell_type": "code",
   "execution_count": 5,
   "id": "ee2bdcff",
   "metadata": {},
   "outputs": [
    {
     "data": {
      "text/plain": [
       "1234"
      ]
     },
     "execution_count": 5,
     "metadata": {},
     "output_type": "execute_result"
    }
   ],
   "source": [
    "phone['Ram']"
   ]
  },
  {
   "cell_type": "code",
   "execution_count": 6,
   "id": "82764e37",
   "metadata": {},
   "outputs": [],
   "source": [
    "phone['Ram']=3149"
   ]
  },
  {
   "cell_type": "code",
   "execution_count": 7,
   "id": "8a9b5a19",
   "metadata": {},
   "outputs": [
    {
     "data": {
      "text/plain": [
       "{'Ram': 3149, 'Shyam': 4567, 'Mohan': 7890}"
      ]
     },
     "execution_count": 7,
     "metadata": {},
     "output_type": "execute_result"
    }
   ],
   "source": [
    "phone"
   ]
  },
  {
   "cell_type": "code",
   "execution_count": 10,
   "id": "ec1ee4a0",
   "metadata": {},
   "outputs": [],
   "source": [
    "phone2={\n",
    "    'Ram':1234,\n",
    "    'Shyam':4567,\n",
    "    'Mohan':7890,\n",
    "    'Ram':2349\n",
    "}"
   ]
  },
  {
   "cell_type": "code",
   "execution_count": 11,
   "id": "608f4075",
   "metadata": {},
   "outputs": [
    {
     "data": {
      "text/plain": [
       "{'Ram': 2349, 'Shyam': 4567, 'Mohan': 7890}"
      ]
     },
     "execution_count": 11,
     "metadata": {},
     "output_type": "execute_result"
    }
   ],
   "source": [
    "phone2"
   ]
  },
  {
   "cell_type": "code",
   "execution_count": 13,
   "id": "6aaf7603",
   "metadata": {},
   "outputs": [],
   "source": [
    "phone_num=dict({\n",
    "    'Ram':1234,\n",
    "    'Shyam':4567,\n",
    "    'Mohan':7890,\n",
    "    'Ram':2349\n",
    "})"
   ]
  },
  {
   "cell_type": "code",
   "execution_count": 14,
   "id": "13c7dbd1",
   "metadata": {},
   "outputs": [
    {
     "data": {
      "text/plain": [
       "{'Ram': 2349, 'Shyam': 4567, 'Mohan': 7890}"
      ]
     },
     "execution_count": 14,
     "metadata": {},
     "output_type": "execute_result"
    }
   ],
   "source": [
    "phone_num"
   ]
  },
  {
   "cell_type": "code",
   "execution_count": 16,
   "id": "60132dda",
   "metadata": {},
   "outputs": [],
   "source": [
    "phone_num['Madhav']={132214,513545}"
   ]
  },
  {
   "cell_type": "code",
   "execution_count": 17,
   "id": "8f5df82d",
   "metadata": {},
   "outputs": [
    {
     "data": {
      "text/plain": [
       "{'Ram': 2349, 'Shyam': 4567, 'Mohan': 7890, 'Madhav': {132214, 513545}}"
      ]
     },
     "execution_count": 17,
     "metadata": {},
     "output_type": "execute_result"
    }
   ],
   "source": [
    "phone_num"
   ]
  },
  {
   "cell_type": "code",
   "execution_count": 18,
   "id": "97d6acbd",
   "metadata": {},
   "outputs": [],
   "source": [
    "phone_num[\"Shyam\"]={'Shyam_Home':34114,'Shyam_Office':34134}"
   ]
  },
  {
   "cell_type": "code",
   "execution_count": 19,
   "id": "1573b6e2",
   "metadata": {},
   "outputs": [
    {
     "data": {
      "text/plain": [
       "{'Ram': 2349,\n",
       " 'Shyam': {'Shyam_Home': 34114, 'Shyam_Office': 34134},\n",
       " 'Mohan': 7890,\n",
       " 'Madhav': {132214, 513545}}"
      ]
     },
     "execution_count": 19,
     "metadata": {},
     "output_type": "execute_result"
    }
   ],
   "source": [
    "phone_num"
   ]
  },
  {
   "cell_type": "code",
   "execution_count": 20,
   "id": "4d8b9499",
   "metadata": {},
   "outputs": [
    {
     "data": {
      "text/plain": [
       "{'Shyam_Home': 34114, 'Shyam_Office': 34134}"
      ]
     },
     "execution_count": 20,
     "metadata": {},
     "output_type": "execute_result"
    }
   ],
   "source": [
    "phone_num['Shyam']"
   ]
  },
  {
   "cell_type": "code",
   "execution_count": 21,
   "id": "450e4070",
   "metadata": {},
   "outputs": [
    {
     "data": {
      "text/plain": [
       "34134"
      ]
     },
     "execution_count": 21,
     "metadata": {},
     "output_type": "execute_result"
    }
   ],
   "source": [
    "phone_num['Shyam']['Shyam_Office']"
   ]
  },
  {
   "cell_type": "code",
   "execution_count": 23,
   "id": "ff2f99ad",
   "metadata": {},
   "outputs": [
    {
     "data": {
      "text/plain": [
       "2349"
      ]
     },
     "execution_count": 23,
     "metadata": {},
     "output_type": "execute_result"
    }
   ],
   "source": [
    "phone_num.get('Ram')"
   ]
  },
  {
   "cell_type": "code",
   "execution_count": 25,
   "id": "b56393f7",
   "metadata": {},
   "outputs": [
    {
     "name": "stdout",
     "output_type": "stream",
     "text": [
      "None\n"
     ]
    }
   ],
   "source": [
    "print(phone_num.get('ram'))"
   ]
  },
  {
   "cell_type": "code",
   "execution_count": 27,
   "id": "6d62cc25",
   "metadata": {},
   "outputs": [],
   "source": [
    "del phone_num['Ram']"
   ]
  },
  {
   "cell_type": "code",
   "execution_count": 28,
   "id": "9519d629",
   "metadata": {},
   "outputs": [
    {
     "data": {
      "text/plain": [
       "{'Shyam': {'Shyam_Home': 34114, 'Shyam_Office': 34134},\n",
       " 'Mohan': 7890,\n",
       " 'Madhav': {132214, 513545}}"
      ]
     },
     "execution_count": 28,
     "metadata": {},
     "output_type": "execute_result"
    }
   ],
   "source": [
    "phone_num"
   ]
  },
  {
   "cell_type": "code",
   "execution_count": 29,
   "id": "a00e1733",
   "metadata": {},
   "outputs": [
    {
     "data": {
      "text/plain": [
       "7890"
      ]
     },
     "execution_count": 29,
     "metadata": {},
     "output_type": "execute_result"
    }
   ],
   "source": [
    "phone_num.pop('Mohan')"
   ]
  },
  {
   "cell_type": "code",
   "execution_count": 30,
   "id": "a8c55418",
   "metadata": {},
   "outputs": [
    {
     "data": {
      "text/plain": [
       "{'Shyam': {'Shyam_Home': 34114, 'Shyam_Office': 34134},\n",
       " 'Madhav': {132214, 513545}}"
      ]
     },
     "execution_count": 30,
     "metadata": {},
     "output_type": "execute_result"
    }
   ],
   "source": [
    "phone_num"
   ]
  },
  {
   "cell_type": "code",
   "execution_count": 31,
   "id": "ea4ed347",
   "metadata": {},
   "outputs": [],
   "source": [
    "phone_num.clear()"
   ]
  },
  {
   "cell_type": "code",
   "execution_count": 32,
   "id": "712843aa",
   "metadata": {},
   "outputs": [
    {
     "data": {
      "text/plain": [
       "{}"
      ]
     },
     "execution_count": 32,
     "metadata": {},
     "output_type": "execute_result"
    }
   ],
   "source": [
    "phone_num"
   ]
  },
  {
   "cell_type": "code",
   "execution_count": 33,
   "id": "a719593b",
   "metadata": {},
   "outputs": [],
   "source": [
    "phone_num=dict({\n",
    "    'Ram':1234,\n",
    "    'Shyam':4567,\n",
    "    'Mohan':7890,\n",
    "    'Ram':2349\n",
    "})"
   ]
  },
  {
   "cell_type": "code",
   "execution_count": 34,
   "id": "74bb5bea",
   "metadata": {},
   "outputs": [
    {
     "data": {
      "text/plain": [
       "dict_keys(['Ram', 'Shyam', 'Mohan'])"
      ]
     },
     "execution_count": 34,
     "metadata": {},
     "output_type": "execute_result"
    }
   ],
   "source": [
    "phone_num.keys()"
   ]
  },
  {
   "cell_type": "code",
   "execution_count": 35,
   "id": "f7cfe813",
   "metadata": {},
   "outputs": [
    {
     "data": {
      "text/plain": [
       "dict_values([2349, 4567, 7890])"
      ]
     },
     "execution_count": 35,
     "metadata": {},
     "output_type": "execute_result"
    }
   ],
   "source": [
    "phone_num.values()"
   ]
  },
  {
   "cell_type": "code",
   "execution_count": 36,
   "id": "a9d870e3",
   "metadata": {},
   "outputs": [
    {
     "data": {
      "text/plain": [
       "dict_items([('Ram', 2349), ('Shyam', 4567), ('Mohan', 7890)])"
      ]
     },
     "execution_count": 36,
     "metadata": {},
     "output_type": "execute_result"
    }
   ],
   "source": [
    "phone_num.items()"
   ]
  },
  {
   "cell_type": "code",
   "execution_count": 37,
   "id": "43dc1e73",
   "metadata": {},
   "outputs": [
    {
     "name": "stdout",
     "output_type": "stream",
     "text": [
      "Ram\n",
      "Shyam\n",
      "Mohan\n"
     ]
    }
   ],
   "source": [
    "for i in phone_num:\n",
    "    print(i)"
   ]
  },
  {
   "cell_type": "code",
   "execution_count": 38,
   "id": "0af44429",
   "metadata": {},
   "outputs": [
    {
     "name": "stdout",
     "output_type": "stream",
     "text": [
      "2349\n",
      "4567\n",
      "7890\n"
     ]
    }
   ],
   "source": [
    "for i in phone_num:\n",
    "    print(phone_num[i])"
   ]
  },
  {
   "cell_type": "code",
   "execution_count": 40,
   "id": "caf2bc61",
   "metadata": {},
   "outputs": [
    {
     "name": "stdout",
     "output_type": "stream",
     "text": [
      "('Ram', 2349)\n",
      "('Shyam', 4567)\n",
      "('Mohan', 7890)\n"
     ]
    }
   ],
   "source": [
    "for i in phone_num.items():\n",
    "    print(i)"
   ]
  },
  {
   "cell_type": "code",
   "execution_count": 41,
   "id": "cf0099dc",
   "metadata": {},
   "outputs": [],
   "source": [
    "phone_num2=phone_num.copy()"
   ]
  },
  {
   "cell_type": "code",
   "execution_count": 42,
   "id": "14994ded",
   "metadata": {},
   "outputs": [
    {
     "data": {
      "text/plain": [
       "{'Ram': 2349, 'Shyam': 4567, 'Mohan': 7890}"
      ]
     },
     "execution_count": 42,
     "metadata": {},
     "output_type": "execute_result"
    }
   ],
   "source": [
    "phone_num2"
   ]
  },
  {
   "cell_type": "code",
   "execution_count": 43,
   "id": "90a1962c",
   "metadata": {},
   "outputs": [
    {
     "data": {
      "text/plain": [
       "3"
      ]
     },
     "execution_count": 43,
     "metadata": {},
     "output_type": "execute_result"
    }
   ],
   "source": [
    "len(phone_num2)"
   ]
  },
  {
   "cell_type": "markdown",
   "id": "db3cc89c",
   "metadata": {},
   "source": [
    "> ### Excercise"
   ]
  },
  {
   "cell_type": "code",
   "execution_count": 51,
   "id": "a142fff7",
   "metadata": {},
   "outputs": [],
   "source": [
    "st_marks={\n",
    "    'Sandeep':85,\n",
    "    'Herry':93,\n",
    "    'Rahul':95,\n",
    "    'Ankur':86,\n",
    "    'Subhash':67,\n",
    "    'Manish':89,\n",
    "    'Jay':46,\n",
    "    'Prem':35\n",
    "}"
   ]
  },
  {
   "cell_type": "code",
   "execution_count": 60,
   "id": "9fa7515a",
   "metadata": {},
   "outputs": [
    {
     "name": "stdout",
     "output_type": "stream",
     "text": [
      "{'Sandeep': 'A', 'Herry': 'A+', 'Rahul': 'A+', 'Ankur': 'A', 'Subhash': 'B', 'Manish': 'A', 'Jay': 'C', 'Prem': 'F'}\n"
     ]
    }
   ],
   "source": [
    "grades={}\n",
    "for i in st_marks:\n",
    "    marks=st_marks[i]\n",
    "    if marks >=90:\n",
    "        grades[i]=\"A+\"\n",
    "    elif marks>=80:\n",
    "        grades[i]=\"A\"\n",
    "    elif marks>=70:\n",
    "        grades[i]=\"B+\"\n",
    "    elif marks>=60:\n",
    "        grades[i]=\"B\"\n",
    "    elif marks>=50:\n",
    "        grades[i]=\"C+\"\n",
    "    elif marks>=40:\n",
    "        grades[i]=\"C\"\n",
    "    elif marks>=30:\n",
    "        grades[i]=\"F\"\n",
    "print(grades)"
   ]
  },
  {
   "cell_type": "markdown",
   "id": "e4ebb6b1",
   "metadata": {},
   "source": [
    "> ### Nested Dictionary and List"
   ]
  },
  {
   "cell_type": "code",
   "execution_count": 66,
   "id": "c5fcd0fb",
   "metadata": {},
   "outputs": [],
   "source": [
    "details={\n",
    "    \"name\":{\"Sandeep\",\"Sonu\",\"Prem\",\"Jay\",\"Kunal\"},\n",
    "    \"SID\":{454,654,354,854,365},\n",
    "    \"stream\":[\"Sc\",\"IA\",\"Com\",\"Sc\",\"Com\"]\n",
    "}"
   ]
  },
  {
   "cell_type": "code",
   "execution_count": 67,
   "id": "788179fb",
   "metadata": {},
   "outputs": [
    {
     "data": {
      "text/plain": [
       "['Sc', 'IA', 'Com', 'Sc', 'Com']"
      ]
     },
     "execution_count": 67,
     "metadata": {},
     "output_type": "execute_result"
    }
   ],
   "source": [
    "details[\"stream\"]"
   ]
  },
  {
   "cell_type": "code",
   "execution_count": 68,
   "id": "4e427930",
   "metadata": {},
   "outputs": [
    {
     "data": {
      "text/plain": [
       "dict_keys(['name', 'SID', 'stream'])"
      ]
     },
     "execution_count": 68,
     "metadata": {},
     "output_type": "execute_result"
    }
   ],
   "source": [
    "details.keys()"
   ]
  },
  {
   "cell_type": "code",
   "execution_count": 70,
   "id": "94ce078f",
   "metadata": {},
   "outputs": [],
   "source": [
    "#list nested in Dictionary\n",
    "travel={\n",
    "    \"rajasthan\":[\"Jalmahal\",\"Hawamahal\",\"Nahargadh Fort\"],\n",
    "    \"delhi\":[\"Central Zoo\",\"Red Fort\",\"India Gate\",\"Amar Jyoti\"]\n",
    "}"
   ]
  },
  {
   "cell_type": "code",
   "execution_count": 71,
   "id": "3a292770",
   "metadata": {},
   "outputs": [
    {
     "name": "stdout",
     "output_type": "stream",
     "text": [
      "{'rajasthan': ['Jalmahal', 'Hawamahal', 'Nahargadh Fort'], 'delhi': ['Central Zoo', 'Red Fort', 'India Gate', 'Amar Jyoti']}\n"
     ]
    }
   ],
   "source": [
    "print(travel)"
   ]
  },
  {
   "cell_type": "code",
   "execution_count": 72,
   "id": "f5c70b02",
   "metadata": {},
   "outputs": [
    {
     "data": {
      "text/plain": [
       "['Central Zoo', 'Red Fort', 'India Gate', 'Amar Jyoti']"
      ]
     },
     "execution_count": 72,
     "metadata": {},
     "output_type": "execute_result"
    }
   ],
   "source": [
    "travel[\"delhi\"]"
   ]
  },
  {
   "cell_type": "code",
   "execution_count": 90,
   "id": "69ed4381",
   "metadata": {},
   "outputs": [],
   "source": [
    "details2=[\n",
    "    {\n",
    "        \"name1\":\"Sandeep\",\n",
    "        \"Name2\":\"Sonu\",\n",
    "        \"Name3\":\"Prem\",\n",
    "        \"Name4\":\"Jay\",\n",
    "        \"Name5\":\"Kunal\",\n",
    "        \"phone_number\":[\n",
    "            23132,\n",
    "            34313,\n",
    "            43241,\n",
    "            32531,\n",
    "            34611,\n",
    "            42564\n",
    "        ]\n",
    "    },\n",
    "    {\n",
    "        \"SID1\":454,\n",
    "        \"SID2\":654,\n",
    "        \"SID3\":354,\n",
    "        \"SID4\":854,\n",
    "        \"SID5\":365\n",
    "    },\n",
    "    \n",
    "    {\n",
    "        \"stream1\":\"Sc\",\n",
    "        \"stream2\":\"IA\",\n",
    "        \"stream3\":\"Com\",\n",
    "        \"stream4\":\"Sc\",\n",
    "        \"stream5\":\"Com\"\n",
    "    }\n",
    "]"
   ]
  },
  {
   "cell_type": "code",
   "execution_count": 91,
   "id": "e3656218",
   "metadata": {},
   "outputs": [
    {
     "data": {
      "text/plain": [
       "[{'name1': 'Sandeep',\n",
       "  'Name2': 'Sonu',\n",
       "  'Name3': 'Prem',\n",
       "  'Name4': 'Jay',\n",
       "  'Name5': 'Kunal',\n",
       "  'phone_number': [23132, 34313, 43241, 32531, 34611, 42564]},\n",
       " {'SID1': 454, 'SID2': 654, 'SID3': 354, 'SID4': 854, 'SID5': 365},\n",
       " {'stream1': 'Sc',\n",
       "  'stream2': 'IA',\n",
       "  'stream3': 'Com',\n",
       "  'stream4': 'Sc',\n",
       "  'stream5': 'Com'}]"
      ]
     },
     "execution_count": 91,
     "metadata": {},
     "output_type": "execute_result"
    }
   ],
   "source": [
    "details2"
   ]
  },
  {
   "cell_type": "code",
   "execution_count": 85,
   "id": "a69f1243",
   "metadata": {},
   "outputs": [
    {
     "data": {
      "text/plain": [
       "{'stream1': 'Sc',\n",
       " 'stream2': 'IA',\n",
       " 'stream3': 'Com',\n",
       " 'stream4': 'Sc',\n",
       " 'stream5': 'Com'}"
      ]
     },
     "execution_count": 85,
     "metadata": {},
     "output_type": "execute_result"
    }
   ],
   "source": [
    "details2[2]"
   ]
  },
  {
   "cell_type": "code",
   "execution_count": 86,
   "id": "00ad619c",
   "metadata": {},
   "outputs": [
    {
     "data": {
      "text/plain": [
       "'Sc'"
      ]
     },
     "execution_count": 86,
     "metadata": {},
     "output_type": "execute_result"
    }
   ],
   "source": [
    "details2[2]['stream1']"
   ]
  },
  {
   "cell_type": "code",
   "execution_count": 95,
   "id": "fca8e507",
   "metadata": {},
   "outputs": [
    {
     "data": {
      "text/plain": [
       "{'name1': 'Sandeep',\n",
       " 'Name2': 'Sonu',\n",
       " 'Name3': 'Prem',\n",
       " 'Name4': 'Jay',\n",
       " 'Name5': 'Kunal',\n",
       " 'phone_number': [23132, 34313, 43241, 32531, 34611, 42564]}"
      ]
     },
     "execution_count": 95,
     "metadata": {},
     "output_type": "execute_result"
    }
   ],
   "source": [
    "details2[0]"
   ]
  },
  {
   "cell_type": "code",
   "execution_count": 96,
   "id": "57c3e47a",
   "metadata": {},
   "outputs": [
    {
     "data": {
      "text/plain": [
       "[23132, 34313, 43241, 32531, 34611, 42564]"
      ]
     },
     "execution_count": 96,
     "metadata": {},
     "output_type": "execute_result"
    }
   ],
   "source": [
    "details2[0]['phone_number']"
   ]
  },
  {
   "cell_type": "code",
   "execution_count": 97,
   "id": "7840bd92",
   "metadata": {},
   "outputs": [
    {
     "data": {
      "text/plain": [
       "43241"
      ]
     },
     "execution_count": 97,
     "metadata": {},
     "output_type": "execute_result"
    }
   ],
   "source": [
    "details2[0]['phone_number'][2]"
   ]
  },
  {
   "cell_type": "markdown",
   "id": "82603af1",
   "metadata": {},
   "source": [
    "> ### Excercise"
   ]
  },
  {
   "cell_type": "code",
   "execution_count": 109,
   "id": "860f3b39",
   "metadata": {},
   "outputs": [],
   "source": [
    "student_data=[\n",
    "    {\n",
    "        \"Name\":\"Sandeep\",\n",
    "        \"SID\":96674,\n",
    "        \"Age\":20,\n",
    "        \"Course\":\"B.Tech CSE\"\n",
    "    },\n",
    "    {\n",
    "        \"Name\":\"Ramesh\",\n",
    "        \"SID\":100001,\n",
    "        \"Age\":21,\n",
    "        \"Course\":\"BCA\"\n",
    "    }\n",
    "]"
   ]
  },
  {
   "cell_type": "code",
   "execution_count": 110,
   "id": "905c72dc",
   "metadata": {},
   "outputs": [
    {
     "data": {
      "text/plain": [
       "[{'Name': 'Sandeep', 'SID': 96674, 'Age': 20, 'Course': 'B.Tech CSE'},\n",
       " {'Name': 'Ramesh', 'SID': 100001, 'Age': 21, 'Course': 'BCA'}]"
      ]
     },
     "execution_count": 110,
     "metadata": {},
     "output_type": "execute_result"
    }
   ],
   "source": [
    "student_data"
   ]
  },
  {
   "cell_type": "code",
   "execution_count": 112,
   "id": "571a2a93",
   "metadata": {},
   "outputs": [
    {
     "ename": "SyntaxError",
     "evalue": "invalid syntax (771614840.py, line 1)",
     "output_type": "error",
     "traceback": [
      "\u001b[1;36m  Input \u001b[1;32mIn [112]\u001b[1;36m\u001b[0m\n\u001b[1;33m    def addition(\"Name\",'SID','Age',\"Course\"):\u001b[0m\n\u001b[1;37m                 ^\u001b[0m\n\u001b[1;31mSyntaxError\u001b[0m\u001b[1;31m:\u001b[0m invalid syntax\n"
     ]
    }
   ],
   "source": [
    "def addition(\"Name\",'SID','Age',\"Course\"):\n",
    "    new_entry={}\n",
    "    new_entry[\"Name\"]=name\n",
    "    new_entry[\"SID\"]=SID\n",
    "    new_entry[\"Age\"]=Age\n",
    "    new_entry[\"Course\"]=Course\n",
    "    student_data.append(new_entry)\n",
    "add(\"Shyam\",99695,21,\"B.Tech CSE\")\n",
    "print(student_data)"
   ]
  },
  {
   "cell_type": "code",
   "execution_count": null,
   "id": "ac81aaaa",
   "metadata": {},
   "outputs": [],
   "source": []
  }
 ],
 "metadata": {
  "kernelspec": {
   "display_name": "Python 3 (ipykernel)",
   "language": "python",
   "name": "python3"
  },
  "language_info": {
   "codemirror_mode": {
    "name": "ipython",
    "version": 3
   },
   "file_extension": ".py",
   "mimetype": "text/x-python",
   "name": "python",
   "nbconvert_exporter": "python",
   "pygments_lexer": "ipython3",
   "version": "3.9.12"
  }
 },
 "nbformat": 4,
 "nbformat_minor": 5
}
