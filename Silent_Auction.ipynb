{
 "cells": [
  {
   "cell_type": "code",
   "execution_count": null,
   "id": "6400fd63",
   "metadata": {},
   "outputs": [
    {
     "name": "stdout",
     "output_type": "stream",
     "text": [
      "Enter your name:Sandeep\n",
      "What is your bid amount:800\n",
      "Are there more bidders? Type 'yes' or 'no':yes\n"
     ]
    }
   ],
   "source": [
    "import os\n",
    "def find_winner(bidder_detials):\n",
    "    highest=0\n",
    "    winner=\"\"\n",
    "    for i in bidder_detials:\n",
    "        if bidder_detials[i]>highest:\n",
    "            highest=bidder_detials[i]\n",
    "            winner=i\n",
    "    print(f\"\\nThe bid is won by {winner} with bid amount of {highest}\")\n",
    "bidders={}\n",
    "Another= True\n",
    "while Another:\n",
    "    name=input(\"Enter your name:\")\n",
    "    bid_amount=int(input(\"What is your bid amount:\"))\n",
    "    bidders[name]=bid_amount\n",
    "    more=input(\"Are there more bidders? Type 'yes' or 'no':\").lower()\n",
    "    if more==\"no\":\n",
    "        Another=False\n",
    "        find_winner(bidders)\n",
    "    elif more==\"yes\":\n",
    "        os.system('cls')"
   ]
  },
  {
   "cell_type": "code",
   "execution_count": null,
   "id": "c902cc72",
   "metadata": {},
   "outputs": [],
   "source": []
  }
 ],
 "metadata": {
  "kernelspec": {
   "display_name": "Python 3 (ipykernel)",
   "language": "python",
   "name": "python3"
  },
  "language_info": {
   "codemirror_mode": {
    "name": "ipython",
    "version": 3
   },
   "file_extension": ".py",
   "mimetype": "text/x-python",
   "name": "python",
   "nbconvert_exporter": "python",
   "pygments_lexer": "ipython3",
   "version": "3.9.12"
  }
 },
 "nbformat": 4,
 "nbformat_minor": 5
}
