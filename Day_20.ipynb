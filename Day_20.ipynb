{
 "cells": [
  {
   "cell_type": "code",
   "execution_count": 1,
   "id": "65a0dc8d",
   "metadata": {},
   "outputs": [
    {
     "name": "stdout",
     "output_type": "stream",
     "text": [
      "Enter the year:2554\n",
      "Enter the Month:5\n"
     ]
    },
    {
     "data": {
      "text/plain": [
       "'No leap Year'"
      ]
     },
     "execution_count": 1,
     "metadata": {},
     "output_type": "execute_result"
    }
   ],
   "source": [
    "def dates(year,month):\n",
    "    if year%4==0 and year%100 !=0:\n",
    "        return \"Leap Year\"\n",
    "    elif year%100==0 and year%400==0:\n",
    "        return \"Leap Year\"\n",
    "    else:\n",
    "        return \"No leap Year\"\n",
    "year=int(input(\"Enter the year:\"))\n",
    "dates(year,month)"
   ]
  },
  {
   "cell_type": "code",
   "execution_count": 9,
   "id": "4de97fc3",
   "metadata": {},
   "outputs": [
    {
     "name": "stdout",
     "output_type": "stream",
     "text": [
      "Enter a year:2023\n",
      "Enter a month:2\n"
     ]
    },
    {
     "data": {
      "text/plain": [
       "28"
      ]
     },
     "execution_count": 9,
     "metadata": {},
     "output_type": "execute_result"
    }
   ],
   "source": [
    "def leap_year(month):\n",
    "    if year%4==0 and year%100 !=0:\n",
    "        return True\n",
    "    elif year%100==0 and year%400==0:\n",
    "        return True\n",
    "    else:\n",
    "        return False\n",
    "\n",
    "def days(year,month):\n",
    "    days_list=[31,28,31,30,31,30,31,31,30,31,30,31]\n",
    "    \n",
    "    if leap_year(year) and month==2:\n",
    "        return 2`9\n",
    "    else:\n",
    "        return days_list[month-1]\n",
    "    return \n",
    "year=int(input(\"Enter a year:\"))\n",
    "month=int(input(\"Enter a month:\"))\n",
    "month_days=days(year,month)\n",
    "month_days"
   ]
  },
  {
   "cell_type": "markdown",
   "id": "f75ecaf2",
   "metadata": {},
   "source": [
    "> ### Print Vs Return ()"
   ]
  },
  {
   "cell_type": "code",
   "execution_count": 15,
   "id": "55703ce3",
   "metadata": {},
   "outputs": [
    {
     "name": "stdout",
     "output_type": "stream",
     "text": [
      "Enter a number:2\n",
      "Enter another number:5\n",
      "7\n",
      "None\n"
     ]
    }
   ],
   "source": [
    "def func(a,b):\n",
    "    c=a+b\n",
    "    print(c)\n",
    "a=int(input(\"Enter a number:\"))\n",
    "b=int(input(\"Enter another number:\"))\n",
    "value1=func(a,b)\n",
    "print(value1)"
   ]
  },
  {
   "cell_type": "code",
   "execution_count": 14,
   "id": "c8fdd91f",
   "metadata": {},
   "outputs": [
    {
     "name": "stdout",
     "output_type": "stream",
     "text": [
      "Enter a number:2\n",
      "Enter another number:5\n",
      "7\n"
     ]
    }
   ],
   "source": [
    "#print vs return\n",
    "def add(a,b):\n",
    "    c=a+b\n",
    "    return c\n",
    "a=int(input(\"Enter a number:\"))\n",
    "b=int(input(\"Enter another number:\"))\n",
    "value2=add(a,b)\n",
    "print(value2)"
   ]
  },
  {
   "cell_type": "code",
   "execution_count": 18,
   "id": "0a5f1693",
   "metadata": {},
   "outputs": [
    {
     "name": "stdout",
     "output_type": "stream",
     "text": [
      "9\n"
     ]
    }
   ],
   "source": [
    "def second(x):\n",
    "    return x+1\n",
    "def first(a,b):\n",
    "    c=a+b\n",
    "    return c\n",
    "output1=first(2,6)\n",
    "final_output=second(output1)\n",
    "print(final_output)"
   ]
  },
  {
   "cell_type": "code",
   "execution_count": null,
   "id": "0ab38584",
   "metadata": {},
   "outputs": [],
   "source": []
  }
 ],
 "metadata": {
  "kernelspec": {
   "display_name": "Python 3 (ipykernel)",
   "language": "python",
   "name": "python3"
  },
  "language_info": {
   "codemirror_mode": {
    "name": "ipython",
    "version": 3
   },
   "file_extension": ".py",
   "mimetype": "text/x-python",
   "name": "python",
   "nbconvert_exporter": "python",
   "pygments_lexer": "ipython3",
   "version": "3.9.12"
  }
 },
 "nbformat": 4,
 "nbformat_minor": 5
}
