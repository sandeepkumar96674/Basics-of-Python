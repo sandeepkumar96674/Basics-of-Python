{
 "cells": [
  {
   "cell_type": "code",
   "execution_count": null,
   "id": "65a0dc8d",
   "metadata": {},
   "outputs": [],
   "source": [
    "def dates(year,month):\n",
    "    if year%4==0 and year%100 !=0:\n",
    "        return \"Leap Year\"\n",
    "    elif year%100==0 and year%400==0:\n",
    "        return \"Leap Year\"\n",
    "    else:\n",
    "        return \"No leap Year\"\n",
    "year=int(input(\"Enter the year:\"))\n",
    "month=int(input(\"Enter the Month:\"))\n",
    "dates(year,month)"
   ]
  }
 ],
 "metadata": {
  "kernelspec": {
   "display_name": "Python 3 (ipykernel)",
   "language": "python",
   "name": "python3"
  },
  "language_info": {
   "codemirror_mode": {
    "name": "ipython",
    "version": 3
   },
   "file_extension": ".py",
   "mimetype": "text/x-python",
   "name": "python",
   "nbconvert_exporter": "python",
   "pygments_lexer": "ipython3",
   "version": "3.9.12"
  }
 },
 "nbformat": 4,
 "nbformat_minor": 5
}
