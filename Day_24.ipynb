{
 "cells": [
  {
   "cell_type": "markdown",
   "id": "eea2217d",
   "metadata": {},
   "source": [
    "> ### Abstract Classes and Methods "
   ]
  },
  {
   "cell_type": "code",
   "execution_count": 1,
   "id": "a730c787",
   "metadata": {},
   "outputs": [
    {
     "name": "stdout",
     "output_type": "stream",
     "text": [
      "<class 'str'>\n"
     ]
    }
   ],
   "source": [
    "str=\"Sandeep\"\n",
    "print(type(str))"
   ]
  },
  {
   "cell_type": "code",
   "execution_count": 2,
   "id": "06e35de6",
   "metadata": {},
   "outputs": [],
   "source": [
    "class Item:\n",
    "    pass\n",
    "item1=Item()\n",
    "item1.name=\"Phone\"\n",
    "item1.price=200"
   ]
  },
  {
   "cell_type": "code",
   "execution_count": 5,
   "id": "20f4daad",
   "metadata": {},
   "outputs": [
    {
     "data": {
      "text/plain": [
       "1000"
      ]
     },
     "execution_count": 5,
     "metadata": {},
     "output_type": "execute_result"
    }
   ],
   "source": [
    "class Item:\n",
    "    def calculation(self):\n",
    "        return item1.price * item1.unit\n",
    "item1=Item()\n",
    "item1.name=\"Phone\"\n",
    "item1.price=200\n",
    "item1.unit=5\n",
    "item1.calculation()"
   ]
  },
  {
   "cell_type": "code",
   "execution_count": 10,
   "id": "02c03466",
   "metadata": {},
   "outputs": [
    {
     "data": {
      "text/plain": [
       "8"
      ]
     },
     "execution_count": 10,
     "metadata": {},
     "output_type": "execute_result"
    }
   ],
   "source": [
    "class Item:\n",
    "    def calculation(self,x,y): #takes 2 argument\n",
    "        return x*y\n",
    "item1=Item()\n",
    "item1.name=\"Phone\"\n",
    "item1.price=200 #ignored\n",
    "item1.unit=5 #ignored\n",
    "item1.calculation(2,4) #passed the parameter value (argument)"
   ]
  },
  {
   "cell_type": "code",
   "execution_count": 12,
   "id": "18dc04d4",
   "metadata": {},
   "outputs": [
    {
     "name": "stdout",
     "output_type": "stream",
     "text": [
      "It's working\n"
     ]
    }
   ],
   "source": [
    "class Item:\n",
    "    def __init__(self): #it will execute everytime when the new instance will create\n",
    "        print(\"It's working\")\n",
    "    def calculation(self,x,y): #takes 2 argument\n",
    "        return x*y\n",
    "item1=Item()\n",
    "item1.name=\"Phone\"\n",
    "item1.price=200 #ignored\n",
    "item1.unit=5 #ignored\n",
    "#item1.calculation(2,4) #passed the parameter value (argument)"
   ]
  },
  {
   "cell_type": "code",
   "execution_count": 13,
   "id": "50d12722",
   "metadata": {},
   "outputs": [
    {
     "data": {
      "text/plain": [
       "600"
      ]
     },
     "execution_count": 13,
     "metadata": {},
     "output_type": "execute_result"
    }
   ],
   "source": [
    "item1.calculation(20,30)"
   ]
  },
  {
   "cell_type": "code",
   "execution_count": 15,
   "id": "19218e10",
   "metadata": {},
   "outputs": [
    {
     "name": "stdout",
     "output_type": "stream",
     "text": [
      "It's working\n"
     ]
    },
    {
     "data": {
      "text/plain": [
       "150000"
      ]
     },
     "execution_count": 15,
     "metadata": {},
     "output_type": "execute_result"
    }
   ],
   "source": [
    "item2=Item()\n",
    "item2.name=\"Laptop\"\n",
    "item2.calculation(30000,5)"
   ]
  },
  {
   "cell_type": "code",
   "execution_count": 16,
   "id": "06429fe5",
   "metadata": {},
   "outputs": [
    {
     "name": "stdout",
     "output_type": "stream",
     "text": [
      "It's working\n"
     ]
    }
   ],
   "source": [
    "item3=Item()"
   ]
  },
  {
   "cell_type": "code",
   "execution_count": 25,
   "id": "0ec11be6",
   "metadata": {},
   "outputs": [
    {
     "name": "stdout",
     "output_type": "stream",
     "text": [
      "Sandeep\n",
      "Kamal\n"
     ]
    }
   ],
   "source": [
    "class Item:\n",
    "    def __init__(self,name): #it will execute everytime when the new instance will create\n",
    "        #print(f\"The item name is {name}\")\n",
    "        self.name=name\n",
    "        print(name)\n",
    "    def calculation(self,x,y): #takes 2 argument\n",
    "        return x*y\n",
    "item1=Item(\"Sandeep\")\n",
    "'\" here Sandeep\" will be pass as second argument to the __init__() and dynamically the self.name will recieve the the value from the init()\"' \n",
    "item2=Item(\"Kamal\")"
   ]
  },
  {
   "cell_type": "code",
   "execution_count": 23,
   "id": "5a3a8782",
   "metadata": {},
   "outputs": [
    {
     "name": "stdout",
     "output_type": "stream",
     "text": [
      "Sandeep\n"
     ]
    }
   ],
   "source": [
    "print(item1.name)"
   ]
  },
  {
   "cell_type": "code",
   "execution_count": 24,
   "id": "09afe120",
   "metadata": {},
   "outputs": [
    {
     "name": "stdout",
     "output_type": "stream",
     "text": [
      "Kamal\n"
     ]
    }
   ],
   "source": [
    "print(item2.name)"
   ]
  },
  {
   "cell_type": "code",
   "execution_count": 29,
   "id": "a0d35e25",
   "metadata": {},
   "outputs": [
    {
     "name": "stdout",
     "output_type": "stream",
     "text": [
      "60000\n",
      "20000\n"
     ]
    }
   ],
   "source": [
    "class Item:\n",
    "    def __init__(self,name,price,quantity): #it will execute everytime when the new instance will create\n",
    "        #print(f\"The item name is {name}\")\n",
    "        self.name=name\n",
    "        self.price=price #assigning new attributes\n",
    "        self.quantity=quantity #assigning new attributes\n",
    "        return print(price*quantity) #returning the multiplication of price and quantity\n",
    "item1=Item(\"Laptop\",20000,3)\n",
    "item2=Item(\"Mobile\",4000,5)"
   ]
  },
  {
   "cell_type": "code",
   "execution_count": 35,
   "id": "be9dc70e",
   "metadata": {},
   "outputs": [
    {
     "name": "stdout",
     "output_type": "stream",
     "text": [
      "Laptop\n",
      "Mobile\n",
      "20000\n",
      "4000\n",
      "3\n",
      "5\n"
     ]
    }
   ],
   "source": [
    "print(item1.name)\n",
    "print(item2.name)\n",
    "print(item1.price)\n",
    "print(item2.price)\n",
    "print(item1.quantity)\n",
    "print(item2.quantity)"
   ]
  },
  {
   "cell_type": "code",
   "execution_count": 38,
   "id": "8f5682e0",
   "metadata": {},
   "outputs": [
    {
     "name": "stdout",
     "output_type": "stream",
     "text": [
      "0\n",
      "0\n"
     ]
    }
   ],
   "source": [
    "class Item:\n",
    "    def __init__(self,name,price,quantity=0): #making the quantity parameter as default\n",
    "        self.name=name\n",
    "        self.price=price #assigning new attributes\n",
    "        self.quantity=quantity #assigning new attributes\n",
    "item1=Item(\"Laptop\",20000)\n",
    "item2=Item(\"Mobile\",4000)"
   ]
  },
  {
   "cell_type": "code",
   "execution_count": 39,
   "id": "1905175f",
   "metadata": {},
   "outputs": [
    {
     "name": "stdout",
     "output_type": "stream",
     "text": [
      "0\n",
      "0\n"
     ]
    }
   ],
   "source": [
    "print(item1.quantity)\n",
    "print(item2.quantity)"
   ]
  },
  {
   "cell_type": "code",
   "execution_count": null,
   "id": "e43d7a00",
   "metadata": {},
   "outputs": [],
   "source": []
  },
  {
   "cell_type": "code",
   "execution_count": null,
   "id": "c0f7a77a",
   "metadata": {},
   "outputs": [],
   "source": []
  },
  {
   "cell_type": "code",
   "execution_count": null,
   "id": "fc376ebb",
   "metadata": {},
   "outputs": [],
   "source": []
  },
  {
   "cell_type": "code",
   "execution_count": null,
   "id": "090d365a",
   "metadata": {},
   "outputs": [],
   "source": [
    "from abc import ABC,abstractclassmethod\n",
    "class Vehicle(ABC):\n",
    "    def __init__(self,n):\n",
    "        self.no_of_tyres=n\n",
    "    @abstractclassmethod\n",
    "    def start(self):\n",
    "        pass\n",
    "class Car:\n",
    "    def __init__(self):\n",
    "        self.no_of_tyres=4\n",
    "    def start(self):\n",
    "        print(\"Car is Start\")\n",
    "class Bike:\n",
    "    def __init__(self):\n",
    "        self.no_of_tyres=2\n",
    "    def start(self):\n",
    "        print(\"Bike is start\")\n",
    "class Scooty:\n",
    "    def __init__(self):\n",
    "        self.no_of_tyres=2\n",
    "    def start(self):\n",
    "        print(\"Scooty is start\")\n",
    "v=Vehicle"
   ]
  }
 ],
 "metadata": {
  "kernelspec": {
   "display_name": "Python 3 (ipykernel)",
   "language": "python",
   "name": "python3"
  },
  "language_info": {
   "codemirror_mode": {
    "name": "ipython",
    "version": 3
   },
   "file_extension": ".py",
   "mimetype": "text/x-python",
   "name": "python",
   "nbconvert_exporter": "python",
   "pygments_lexer": "ipython3",
   "version": "3.9.12"
  }
 },
 "nbformat": 4,
 "nbformat_minor": 5
}
