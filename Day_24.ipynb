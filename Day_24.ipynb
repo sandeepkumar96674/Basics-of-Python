{
 "cells": [
  {
   "cell_type": "markdown",
   "id": "eea2217d",
   "metadata": {},
   "source": [
    "> ### Abstract Classes and Methods "
   ]
  },
  {
   "cell_type": "code",
   "execution_count": null,
   "id": "415e2130",
   "metadata": {},
   "outputs": [],
   "source": []
  },
  {
   "cell_type": "code",
   "execution_count": null,
   "id": "47f0ea0a",
   "metadata": {},
   "outputs": [],
   "source": []
  },
  {
   "cell_type": "code",
   "execution_count": null,
   "id": "4c371c09",
   "metadata": {},
   "outputs": [],
   "source": []
  },
  {
   "cell_type": "code",
   "execution_count": null,
   "id": "6f9e2385",
   "metadata": {},
   "outputs": [],
   "source": []
  },
  {
   "cell_type": "code",
   "execution_count": null,
   "id": "090d365a",
   "metadata": {},
   "outputs": [],
   "source": [
    "from abc import ABC,abstractclassmethod\n",
    "class Vehicle(ABC):\n",
    "    def __init__(self,n):\n",
    "        self.no_of_tyres=n\n",
    "    @abstractclassmethod\n",
    "    def start(self):\n",
    "        pass\n",
    "class Car:\n",
    "    def __init__(self):\n",
    "        self.no_of_tyres=4\n",
    "    def start(self):\n",
    "        print(\"Car is Start\")\n",
    "class Bike:\n",
    "    def __init__(self):\n",
    "        self.no_of_tyres=2\n",
    "    def start(self):\n",
    "        print(\"Bike is start\")\n",
    "class Scooty:\n",
    "    def __init__(self):\n",
    "        self.no_of_tyres=2\n",
    "    def start(self):\n",
    "        print(\"Scooty is start\")\n",
    "v=Vehicle"
   ]
  }
 ],
 "metadata": {
  "kernelspec": {
   "display_name": "Python 3 (ipykernel)",
   "language": "python",
   "name": "python3"
  },
  "language_info": {
   "codemirror_mode": {
    "name": "ipython",
    "version": 3
   },
   "file_extension": ".py",
   "mimetype": "text/x-python",
   "name": "python",
   "nbconvert_exporter": "python",
   "pygments_lexer": "ipython3",
   "version": "3.9.12"
  }
 },
 "nbformat": 4,
 "nbformat_minor": 5
}
