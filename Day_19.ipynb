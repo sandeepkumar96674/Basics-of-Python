{
 "cells": [
  {
   "cell_type": "code",
   "execution_count": 1,
   "id": "5bf329a7",
   "metadata": {},
   "outputs": [
    {
     "name": "stdout",
     "output_type": "stream",
     "text": [
      "6\n"
     ]
    }
   ],
   "source": [
    "def add(a,b):\n",
    "    c=a+b\n",
    "    print(c)\n",
    "add(2,4)   "
   ]
  },
  {
   "cell_type": "code",
   "execution_count": 3,
   "id": "52d2afa4",
   "metadata": {},
   "outputs": [
    {
     "data": {
      "text/plain": [
       "6"
      ]
     },
     "execution_count": 3,
     "metadata": {},
     "output_type": "execute_result"
    }
   ],
   "source": [
    "def add(a,b):\n",
    "    c=a+b\n",
    "    return c\n",
    "add(2,4)  "
   ]
  },
  {
   "cell_type": "code",
   "execution_count": 11,
   "id": "69e4fb28",
   "metadata": {},
   "outputs": [],
   "source": [
    "def add(a,b):\n",
    "    c=a+b\n",
    "    return \n",
    "output=add(2,4)"
   ]
  },
  {
   "cell_type": "code",
   "execution_count": 13,
   "id": "23c5fc41",
   "metadata": {},
   "outputs": [
    {
     "name": "stdout",
     "output_type": "stream",
     "text": [
      "None\n"
     ]
    }
   ],
   "source": [
    "print(output)"
   ]
  },
  {
   "cell_type": "code",
   "execution_count": 17,
   "id": "c5ce4462",
   "metadata": {},
   "outputs": [
    {
     "name": "stdout",
     "output_type": "stream",
     "text": [
      "6\n"
     ]
    }
   ],
   "source": [
    "def add(a,b):\n",
    "    c=a+b\n",
    "    return c\n",
    "print(add(2,4))"
   ]
  },
  {
   "cell_type": "code",
   "execution_count": 15,
   "id": "63a89ab3",
   "metadata": {},
   "outputs": [],
   "source": [
    "def add(a,b):\n",
    "    c=a+b\n",
    "    return c\n",
    "output=add(2,4)"
   ]
  },
  {
   "cell_type": "code",
   "execution_count": 18,
   "id": "43b5929a",
   "metadata": {},
   "outputs": [
    {
     "data": {
      "text/plain": [
       "6"
      ]
     },
     "execution_count": 18,
     "metadata": {},
     "output_type": "execute_result"
    }
   ],
   "source": [
    "output"
   ]
  },
  {
   "cell_type": "code",
   "execution_count": 20,
   "id": "f66bfdcd",
   "metadata": {},
   "outputs": [
    {
     "name": "stdout",
     "output_type": "stream",
     "text": [
      "6\n"
     ]
    }
   ],
   "source": [
    "def add(a,b):\n",
    "    return a+b\n",
    "print(add(2,4))"
   ]
  },
  {
   "cell_type": "code",
   "execution_count": 27,
   "id": "94e4fc85",
   "metadata": {},
   "outputs": [
    {
     "name": "stdout",
     "output_type": "stream",
     "text": [
      "Enter Your first name:SaNDEeP\n",
      "Enter Your last name:KuMaR\n"
     ]
    },
    {
     "data": {
      "text/plain": [
       "('Sandeep', 'Kumar')"
      ]
     },
     "execution_count": 27,
     "metadata": {},
     "output_type": "execute_result"
    }
   ],
   "source": [
    "f_name=input(\"Enter Your first name:\")\n",
    "l_name=input(\"Enter Your last name:\")\n",
    "def name(first,last):\n",
    "    First=first.title()\n",
    "    Last=last.title()\n",
    "    return First,Last\n",
    "name(f_name,l_name)"
   ]
  },
  {
   "cell_type": "code",
   "execution_count": 31,
   "id": "8d2e7c08",
   "metadata": {},
   "outputs": [
    {
     "data": {
      "text/plain": [
       "(1, 73)"
      ]
     },
     "execution_count": 31,
     "metadata": {},
     "output_type": "execute_result"
    }
   ],
   "source": [
    "def data(num):\n",
    "    minimum=min(num)\n",
    "    maximum=max(num)\n",
    "    return minimum,maximum\n",
    "data([1,43,6,26,73,26,32,29,23])"
   ]
  },
  {
   "cell_type": "code",
   "execution_count": 32,
   "id": "cf181b1e",
   "metadata": {},
   "outputs": [],
   "source": [
    "a,b=data([12,134,135,35,13,425,40]) # here a is assigned the value of minimum and b is assigned the value of Maximum"
   ]
  },
  {
   "cell_type": "code",
   "execution_count": 33,
   "id": "4d51349f",
   "metadata": {},
   "outputs": [
    {
     "name": "stdout",
     "output_type": "stream",
     "text": [
      "12\n"
     ]
    }
   ],
   "source": [
    "print(a)"
   ]
  },
  {
   "cell_type": "code",
   "execution_count": 34,
   "id": "318327a1",
   "metadata": {},
   "outputs": [
    {
     "name": "stdout",
     "output_type": "stream",
     "text": [
      "425\n"
     ]
    }
   ],
   "source": [
    "print(b)"
   ]
  },
  {
   "cell_type": "code",
   "execution_count": 42,
   "id": "7330d903",
   "metadata": {},
   "outputs": [
    {
     "name": "stdout",
     "output_type": "stream",
     "text": [
      "Enter first number:0\n",
      "Enter Second number:0\n",
      "None\n"
     ]
    }
   ],
   "source": [
    "a=int(input(\"Enter first number:\"))\n",
    "b=int(input(\"Enter Second number:\"))\n",
    "def add(a,b):\n",
    "    if a==0 and b==0:\n",
    "        return None\n",
    "    else:\n",
    "        return a+b\n",
    "print(add(a,b))"
   ]
  },
  {
   "cell_type": "code",
   "execution_count": 44,
   "id": "a1e46244",
   "metadata": {},
   "outputs": [
    {
     "name": "stdout",
     "output_type": "stream",
     "text": [
      "None\n"
     ]
    }
   ],
   "source": [
    "print(add(a,b))"
   ]
  },
  {
   "cell_type": "code",
   "execution_count": 5,
   "id": "42f6c873",
   "metadata": {},
   "outputs": [
    {
     "name": "stdout",
     "output_type": "stream",
     "text": [
      "Enter the year:1700\n",
      "Enter the Month:5\n"
     ]
    },
    {
     "data": {
      "text/plain": [
       "'No leap Year'"
      ]
     },
     "execution_count": 5,
     "metadata": {},
     "output_type": "execute_result"
    }
   ],
   "source": [
    "# Calender\n",
    "def dates(year,month):\n",
    "    if year%4==0 and year%100 !=0:\n",
    "        return \"Leap Year\"\n",
    "    elif year%100==0 and year%400==0:\n",
    "        return \"Leap Year\"\n",
    "    else:\n",
    "        return \"No leap Year\"\n",
    "year=int(input(\"Enter the year:\"))\n",
    "month=int(input(\"Enter the Month:\"))\n",
    "dates(year,month)"
   ]
  },
  {
   "cell_type": "code",
   "execution_count": null,
   "id": "ac93bd85",
   "metadata": {},
   "outputs": [],
   "source": []
  },
  {
   "cell_type": "code",
   "execution_count": null,
   "id": "df55d42b",
   "metadata": {},
   "outputs": [],
   "source": []
  }
 ],
 "metadata": {
  "kernelspec": {
   "display_name": "Python 3 (ipykernel)",
   "language": "python",
   "name": "python3"
  },
  "language_info": {
   "codemirror_mode": {
    "name": "ipython",
    "version": 3
   },
   "file_extension": ".py",
   "mimetype": "text/x-python",
   "name": "python",
   "nbconvert_exporter": "python",
   "pygments_lexer": "ipython3",
   "version": "3.9.12"
  }
 },
 "nbformat": 4,
 "nbformat_minor": 5
}
