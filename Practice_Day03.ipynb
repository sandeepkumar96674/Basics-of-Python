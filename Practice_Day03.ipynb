{
 "cells": [
  {
   "cell_type": "code",
   "execution_count": 1,
   "id": "1797e827",
   "metadata": {},
   "outputs": [],
   "source": [
    "string=\"Sandeep\""
   ]
  },
  {
   "cell_type": "code",
   "execution_count": 2,
   "id": "243af27a",
   "metadata": {},
   "outputs": [
    {
     "data": {
      "text/plain": [
       "'Sandeep'"
      ]
     },
     "execution_count": 2,
     "metadata": {},
     "output_type": "execute_result"
    }
   ],
   "source": [
    "string.capitalize()"
   ]
  },
  {
   "cell_type": "code",
   "execution_count": 3,
   "id": "8f3df202",
   "metadata": {},
   "outputs": [
    {
     "data": {
      "text/plain": [
       "'sandeep'"
      ]
     },
     "execution_count": 3,
     "metadata": {},
     "output_type": "execute_result"
    }
   ],
   "source": [
    "string.casefold()"
   ]
  },
  {
   "cell_type": "code",
   "execution_count": 4,
   "id": "8788198e",
   "metadata": {},
   "outputs": [
    {
     "data": {
      "text/plain": [
       "'Sandeep'"
      ]
     },
     "execution_count": 4,
     "metadata": {},
     "output_type": "execute_result"
    }
   ],
   "source": [
    "string.center(1)"
   ]
  },
  {
   "cell_type": "code",
   "execution_count": 5,
   "id": "aa2e0061",
   "metadata": {},
   "outputs": [
    {
     "data": {
      "text/plain": [
       "True"
      ]
     },
     "execution_count": 5,
     "metadata": {},
     "output_type": "execute_result"
    }
   ],
   "source": [
    "string.istitle()"
   ]
  },
  {
   "cell_type": "code",
   "execution_count": 6,
   "id": "6d4cec3a",
   "metadata": {},
   "outputs": [
    {
     "data": {
      "text/plain": [
       "'Sandeep'"
      ]
     },
     "execution_count": 6,
     "metadata": {},
     "output_type": "execute_result"
    }
   ],
   "source": [
    "string.translate('eng')"
   ]
  },
  {
   "cell_type": "code",
   "execution_count": 7,
   "id": "8a08ecfc",
   "metadata": {},
   "outputs": [],
   "source": [
    "names=[\"Sandeep\",\"Aman\",\"Abhay\",\"Anuj\",\"Aaditya\"]"
   ]
  },
  {
   "cell_type": "code",
   "execution_count": 8,
   "id": "5cc2c345",
   "metadata": {},
   "outputs": [
    {
     "name": "stdout",
     "output_type": "stream",
     "text": [
      "Sandeep Aman Abhay Anuj Aaditya "
     ]
    }
   ],
   "source": [
    "for i in names:\n",
    "    print(i,end=\" \")"
   ]
  },
  {
   "cell_type": "code",
   "execution_count": 9,
   "id": "5803320b",
   "metadata": {},
   "outputs": [],
   "source": [
    "lst=[1,2,3]"
   ]
  },
  {
   "cell_type": "code",
   "execution_count": 10,
   "id": "bb3cdb41",
   "metadata": {},
   "outputs": [],
   "source": [
    "import array as arr"
   ]
  },
  {
   "cell_type": "code",
   "execution_count": 12,
   "id": "45be4885",
   "metadata": {},
   "outputs": [
    {
     "ename": "TypeError",
     "evalue": "'type' object is not subscriptable",
     "output_type": "error",
     "traceback": [
      "\u001b[1;31m---------------------------------------------------------------------------\u001b[0m",
      "\u001b[1;31mTypeError\u001b[0m                                 Traceback (most recent call last)",
      "Input \u001b[1;32mIn [12]\u001b[0m, in \u001b[0;36m<cell line: 1>\u001b[1;34m()\u001b[0m\n\u001b[1;32m----> 1\u001b[0m name\u001b[38;5;241m=\u001b[39m\u001b[43marr\u001b[49m\u001b[38;5;241;43m.\u001b[39;49m\u001b[43marray\u001b[49m\u001b[43m[\u001b[49m\u001b[38;5;124;43m'\u001b[39;49m\u001b[38;5;124;43mSandeep\u001b[39;49m\u001b[38;5;124;43m'\u001b[39;49m\u001b[43m]\u001b[49m\n",
      "\u001b[1;31mTypeError\u001b[0m: 'type' object is not subscriptable"
     ]
    }
   ],
   "source": []
  },
  {
   "cell_type": "code",
   "execution_count": null,
   "id": "0559b1a9",
   "metadata": {},
   "outputs": [],
   "source": []
  }
 ],
 "metadata": {
  "kernelspec": {
   "display_name": "Python 3 (ipykernel)",
   "language": "python",
   "name": "python3"
  },
  "language_info": {
   "codemirror_mode": {
    "name": "ipython",
    "version": 3
   },
   "file_extension": ".py",
   "mimetype": "text/x-python",
   "name": "python",
   "nbconvert_exporter": "python",
   "pygments_lexer": "ipython3",
   "version": "3.9.12"
  }
 },
 "nbformat": 4,
 "nbformat_minor": 5
}
