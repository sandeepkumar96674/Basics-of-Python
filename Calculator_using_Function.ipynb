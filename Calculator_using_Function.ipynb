{
 "cells": [
  {
   "cell_type": "code",
   "execution_count": 10,
   "id": "104bd30f",
   "metadata": {},
   "outputs": [
    {
     "name": "stdout",
     "output_type": "stream",
     "text": [
      "Enter first number:5\n",
      "+\n",
      "-\n",
      "*\n",
      "/\n",
      "Pick a Operation:+\n",
      "Enter second number:7\n",
      "5.0 + 7.0 = 12.0\n",
      "Enter 'y' to continue calculation with 12.0, 'n' to start a new calculation, 'x' to exit: y\n",
      "Pick a Operation:-\n",
      "Enter second number:23\n",
      "12.0 - 23.0 = -11.0\n",
      "Enter 'y' to continue calculation with -11.0, 'n' to start a new calculation, 'x' to exit: +\n",
      "BYE\n"
     ]
    }
   ],
   "source": [
    "def add(a,b):\n",
    "    return a+b\n",
    "def subtract(a,b):\n",
    "    return a-b\n",
    "def multiply(a,b):\n",
    "    return a*b\n",
    "def divide(a,b):\n",
    "    return a/b\n",
    "\n",
    "operators_dictionry={\n",
    "    \"+\":add,\n",
    "    \"-\":subtract,\n",
    "    \"*\":multiply,\n",
    "    \"/\":divide\n",
    "}\n",
    "def calculator():\n",
    "    num1=float(input(\"Enter first number:\"))\n",
    "    for operator in operators_dictionry:\n",
    "        print(operator)\n",
    "    flag=True\n",
    "    while flag:\n",
    "        symbol=input(\"Pick a Operation:\")\n",
    "        num2=float(input(\"Enter second number:\"))\n",
    "        cal_func=operators_dictionry[symbol]\n",
    "        output=cal_func(num1,num2)\n",
    "        print(f\"{num1} {symbol} {num2} = {output}\")\n",
    "\n",
    "        repeat=input(f\"Enter 'y' to continue calculation with {output}, 'n' to start a new calculation, 'x' to exit: \").lower()\n",
    "\n",
    "        if repeat=='y':\n",
    "            num1=output\n",
    "        elif repeat=='n':\n",
    "            print(\"New Calculation:\")\n",
    "            flag=False\n",
    "            calculator()\n",
    "        else:\n",
    "            flag=False\n",
    "            print(\"BYE\")\n",
    "calculator()"
   ]
  },
  {
   "cell_type": "code",
   "execution_count": null,
   "id": "81ca0238",
   "metadata": {},
   "outputs": [],
   "source": []
  }
 ],
 "metadata": {
  "kernelspec": {
   "display_name": "Python 3 (ipykernel)",
   "language": "python",
   "name": "python3"
  },
  "language_info": {
   "codemirror_mode": {
    "name": "ipython",
    "version": 3
   },
   "file_extension": ".py",
   "mimetype": "text/x-python",
   "name": "python",
   "nbconvert_exporter": "python",
   "pygments_lexer": "ipython3",
   "version": "3.9.12"
  }
 },
 "nbformat": 4,
 "nbformat_minor": 5
}
