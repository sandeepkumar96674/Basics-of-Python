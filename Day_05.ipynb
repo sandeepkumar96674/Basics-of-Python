{
 "cells": [
  {
   "cell_type": "markdown",
   "id": "2b53d246",
   "metadata": {},
   "source": [
    "> ### Excerise with round()"
   ]
  },
  {
   "cell_type": "code",
   "execution_count": 2,
   "id": "be5795c2",
   "metadata": {},
   "outputs": [
    {
     "name": "stdout",
     "output_type": "stream",
     "text": [
      "4\n"
     ]
    }
   ],
   "source": [
    "print(round(4.5))"
   ]
  },
  {
   "cell_type": "code",
   "execution_count": 3,
   "id": "f65ed045",
   "metadata": {},
   "outputs": [
    {
     "name": "stdout",
     "output_type": "stream",
     "text": [
      "8\n"
     ]
    }
   ],
   "source": [
    "print(round(7.5))"
   ]
  },
  {
   "cell_type": "code",
   "execution_count": 4,
   "id": "d7409113",
   "metadata": {},
   "outputs": [
    {
     "name": "stdout",
     "output_type": "stream",
     "text": [
      "12\n"
     ]
    }
   ],
   "source": [
    "print(round(11.5))"
   ]
  },
  {
   "cell_type": "code",
   "execution_count": 5,
   "id": "3921341c",
   "metadata": {},
   "outputs": [
    {
     "name": "stdout",
     "output_type": "stream",
     "text": [
      "12\n"
     ]
    }
   ],
   "source": [
    "print(round(12.5))"
   ]
  },
  {
   "cell_type": "code",
   "execution_count": 6,
   "id": "97f978ab",
   "metadata": {},
   "outputs": [
    {
     "name": "stdout",
     "output_type": "stream",
     "text": [
      "670\n"
     ]
    }
   ],
   "source": [
    "print(round(674,-1))"
   ]
  },
  {
   "cell_type": "code",
   "execution_count": 7,
   "id": "24ef8094",
   "metadata": {},
   "outputs": [
    {
     "name": "stdout",
     "output_type": "stream",
     "text": [
      "1000\n"
     ]
    }
   ],
   "source": [
    "print(round(674,-3))"
   ]
  },
  {
   "cell_type": "code",
   "execution_count": 8,
   "id": "a53d15d0",
   "metadata": {},
   "outputs": [
    {
     "name": "stdout",
     "output_type": "stream",
     "text": [
      "0\n"
     ]
    }
   ],
   "source": [
    "print(round(674,-4))"
   ]
  },
  {
   "cell_type": "code",
   "execution_count": 9,
   "id": "20ad8e56",
   "metadata": {},
   "outputs": [
    {
     "name": "stdout",
     "output_type": "stream",
     "text": [
      "660\n"
     ]
    }
   ],
   "source": [
    "print(round(665,-1))"
   ]
  },
  {
   "cell_type": "code",
   "execution_count": 10,
   "id": "82aa31ea",
   "metadata": {},
   "outputs": [
    {
     "name": "stdout",
     "output_type": "stream",
     "text": [
      "680\n"
     ]
    }
   ],
   "source": [
    "print(round(675,-1))"
   ]
  },
  {
   "cell_type": "code",
   "execution_count": 11,
   "id": "1993b9b1",
   "metadata": {},
   "outputs": [
    {
     "name": "stdout",
     "output_type": "stream",
     "text": [
      "-2.67\n"
     ]
    }
   ],
   "source": [
    "print(round(-8/3,2))"
   ]
  },
  {
   "cell_type": "code",
   "execution_count": 12,
   "id": "c4ca504d",
   "metadata": {},
   "outputs": [
    {
     "name": "stdout",
     "output_type": "stream",
     "text": [
      "670.0\n"
     ]
    }
   ],
   "source": [
    "print(round(674.1213,-1))"
   ]
  },
  {
   "cell_type": "code",
   "execution_count": 13,
   "id": "84ad55d1",
   "metadata": {},
   "outputs": [
    {
     "name": "stdout",
     "output_type": "stream",
     "text": [
      "1200\n"
     ]
    }
   ],
   "source": [
    "print(round(1212,-2))"
   ]
  },
  {
   "cell_type": "markdown",
   "id": "84009181",
   "metadata": {},
   "source": [
    "> ### f-String"
   ]
  },
  {
   "cell_type": "code",
   "execution_count": 17,
   "id": "5ad6b7c3",
   "metadata": {},
   "outputs": [
    {
     "name": "stdout",
     "output_type": "stream",
     "text": [
      "My name is: Sandeep and my age is:  19 Year old\n"
     ]
    }
   ],
   "source": [
    "name=\"Sandeep\"\n",
    "Age=19\n",
    "height=1.67\n",
    "\n",
    "#simple method: \n",
    "\n",
    "print(\"My name is: \"+name+\" and my age is: \",Age,\"Year old\")"
   ]
  },
  {
   "cell_type": "code",
   "execution_count": 21,
   "id": "67f01fc5",
   "metadata": {},
   "outputs": [
    {
     "name": "stdout",
     "output_type": "stream",
     "text": [
      "My name is: Sandeep. I am 19 Year old and my height is 1.67 meter\n"
     ]
    }
   ],
   "source": [
    "print(f\"My name is: {name}. I am {Age} Year old and my height is {height} meter\")"
   ]
  },
  {
   "cell_type": "markdown",
   "id": "25604cac",
   "metadata": {},
   "source": [
    "> ### Excercise"
   ]
  },
  {
   "cell_type": "code",
   "execution_count": 30,
   "id": "ff1215be",
   "metadata": {},
   "outputs": [
    {
     "name": "stdout",
     "output_type": "stream",
     "text": [
      "Enter your Age:19\n",
      "You have 25915 days or 3692 weeks or 852 months or71 left\n"
     ]
    }
   ],
   "source": [
    "cr_age=float(input(\"Enter your Age:\"))\n",
    "fixed_age=90\n",
    "year_left=fixed_age-cr_age\n",
    "months_left=year_left*12\n",
    "weeks_left=year_left*52\n",
    "days_left=year_left*365\n",
    "\n",
    "print(f\"You have {round(days_left)} days or {round(weeks_left)} weeks or {round(months_left)} months or {round(year_left)} left\")"
   ]
  },
  {
   "cell_type": "code",
   "execution_count": null,
   "id": "9d99023f",
   "metadata": {},
   "outputs": [],
   "source": []
  }
 ],
 "metadata": {
  "kernelspec": {
   "display_name": "Python 3 (ipykernel)",
   "language": "python",
   "name": "python3"
  },
  "language_info": {
   "codemirror_mode": {
    "name": "ipython",
    "version": 3
   },
   "file_extension": ".py",
   "mimetype": "text/x-python",
   "name": "python",
   "nbconvert_exporter": "python",
   "pygments_lexer": "ipython3",
   "version": "3.9.12"
  }
 },
 "nbformat": 4,
 "nbformat_minor": 5
}
